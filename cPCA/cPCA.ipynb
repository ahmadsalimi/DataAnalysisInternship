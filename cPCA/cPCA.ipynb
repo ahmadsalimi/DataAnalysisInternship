{
  "nbformat": 4,
  "nbformat_minor": 0,
  "metadata": {
    "colab": {
      "name": "cPCA",
      "provenance": [],
      "authorship_tag": "ABX9TyOC7GxUjYkM0I321FCAwxly"
    },
    "kernelspec": {
      "name": "python3",
      "display_name": "Python 3"
    }
  },
  "cells": [
    {
      "cell_type": "code",
      "metadata": {
        "id": "UK0i-mVUhjl6",
        "colab_type": "code",
        "colab": {}
      },
      "source": [
        "import numpy as np\n",
        "import itertools\n",
        "from scipy.special import comb\n",
        "from scipy.linalg import subspace_angles\n",
        "from scipy.optimize import minimize\n",
        "from sklearn.cluster import SpectralClustering\n",
        "import pandas as pd\n",
        "from sklearn.experimental import enable_iterative_imputer\n",
        "from sklearn.impute import IterativeImputer\n",
        "import matplotlib.pyplot as plt\n",
        "from sklearn.datasets import fetch_openml"
      ],
      "execution_count": 189,
      "outputs": []
    },
    {
      "cell_type": "code",
      "metadata": {
        "id": "8pvizgFqtwpm",
        "colab_type": "code",
        "colab": {}
      },
      "source": [
        "def single_cPCA(X:np.ndarray, Y:np.ndarray, alpha, k):\n",
        "    Cx = np.cov(X.T)\n",
        "    Cy = np.cov(Y.T)\n",
        "\n",
        "    C = Cx - alpha * Cy\n",
        "    _, V = np.linalg.eigh(C)\n",
        "\n",
        "    return V[:, -k:]"
      ],
      "execution_count": 6,
      "outputs": []
    },
    {
      "cell_type": "code",
      "metadata": {
        "id": "Q7wByadeDZme",
        "colab_type": "code",
        "colab": {}
      },
      "source": [
        "def affinity(combination, d, k):\n",
        "    combination = combination.reshape(2, d, k)\n",
        "    return np.prod(np.cos(subspace_angles(*combination)))\n",
        "\n",
        "def v_affinity(combinations, d, k):\n",
        "    return np.apply_along_axis(lambda combination: affinity(combination, d, k), 1, combinations)"
      ],
      "execution_count": 99,
      "outputs": []
    },
    {
      "cell_type": "code",
      "metadata": {
        "id": "9PrONcemtZ4o",
        "colab_type": "code",
        "colab": {}
      },
      "source": [
        "def cPCA(X:np.ndarray, Y:np.ndarray, alpha_set, k, p):\n",
        "    # check d value:\n",
        "    assert X.shape[1] == Y.shape[1]\n",
        "\n",
        "    d = X.shape[1]\n",
        "    V_set = []\n",
        "\n",
        "    # calculate cPCA for each alpha\n",
        "    for alpha in alpha_set:\n",
        "        V = single_cPCA(X, Y, alpha, k)\n",
        "        V_set.append(V)\n",
        "    V_set = np.array(V_set)\n",
        "\n",
        "    # calculate affinity Matrix for each pair of Vs\n",
        "    combination_indices = np.array(list(itertools.combinations_with_replacement(range(len(V_set)), 2)))\n",
        "    combinations = V_set[combination_indices].reshape(len(combination_indices), 2 * d * k)\n",
        "    aff = v_affinity(combinations, d, k)\n",
        "\n",
        "    rows = combination_indices[:, 0]\n",
        "    cols = combination_indices[:, 1]\n",
        "    D = np.zeros((len(V_set), len(V_set)))\n",
        "    D[rows, cols] = D[cols, rows] = aff\n",
        "\n",
        "    # cluster Vs with respect to affinities\n",
        "    clustering = SpectralClustering(n_clusters=p, affinity='precomputed').fit(D)\n",
        "\n",
        "    # find best V and alpha in each cluster\n",
        "    V_star = np.zeros((p, d, k))\n",
        "    alpha_star = np.zeros(p)\n",
        "    for cluster in range(p):\n",
        "        cluster_members = np.where(clustering.labels_ == cluster)[0]\n",
        "        sums = np.sum(D[cluster_members, :][:, cluster_members], axis=1)\n",
        "        V_star[cluster] = V_set[cluster_members[np.argmax(sums)]]\n",
        "        alpha_star[cluster] = alpha_set[cluster_members[np.argmax(sums)]]\n",
        "    \n",
        "    return alpha_star, V_star"
      ],
      "execution_count": 97,
      "outputs": []
    },
    {
      "cell_type": "code",
      "metadata": {
        "id": "RMnCC_5nhmrk",
        "colab_type": "code",
        "colab": {}
      },
      "source": [
        "n = 1000\n",
        "m = 100\n",
        "d = 50\n",
        "k = 20\n",
        "p = 2"
      ],
      "execution_count": 296,
      "outputs": []
    },
    {
      "cell_type": "code",
      "metadata": {
        "id": "dTFOlytNiYwI",
        "colab_type": "code",
        "colab": {
          "base_uri": "https://localhost:8080/",
          "height": 35
        },
        "outputId": "b871fb0e-b2cf-4b1b-bc22-74e0188e191e"
      },
      "source": [
        "X = np.random.uniform(-10, 10, (n, d))\n",
        "X.shape"
      ],
      "execution_count": 297,
      "outputs": [
        {
          "output_type": "execute_result",
          "data": {
            "text/plain": [
              "(1000, 50)"
            ]
          },
          "metadata": {
            "tags": []
          },
          "execution_count": 297
        }
      ]
    },
    {
      "cell_type": "code",
      "metadata": {
        "id": "P9jA0C-OioxS",
        "colab_type": "code",
        "colab": {
          "base_uri": "https://localhost:8080/",
          "height": 35
        },
        "outputId": "e73a76cc-2cb3-4ece-e98e-b50b20c3bd3c"
      },
      "source": [
        "Y = np.random.uniform(-10, 10, (m, d))\n",
        "Y.shape"
      ],
      "execution_count": 298,
      "outputs": [
        {
          "output_type": "execute_result",
          "data": {
            "text/plain": [
              "(100, 50)"
            ]
          },
          "metadata": {
            "tags": []
          },
          "execution_count": 298
        }
      ]
    },
    {
      "cell_type": "code",
      "metadata": {
        "id": "hBOr-GlgxYW-",
        "colab_type": "code",
        "colab": {
          "base_uri": "https://localhost:8080/",
          "height": 35
        },
        "outputId": "a368df3c-49c5-4322-da98-0f456440e5f0"
      },
      "source": [
        "alpha_set = np.arange(0.01, 1, 0.03)\n",
        "alpha_set.shape"
      ],
      "execution_count": 302,
      "outputs": [
        {
          "output_type": "execute_result",
          "data": {
            "text/plain": [
              "(33,)"
            ]
          },
          "metadata": {
            "tags": []
          },
          "execution_count": 302
        }
      ]
    },
    {
      "cell_type": "code",
      "metadata": {
        "id": "zjWBSts7u0wl",
        "colab_type": "code",
        "colab": {}
      },
      "source": [
        "alpha_star, V_star = cPCA(X, Y, alpha_set, k, p)"
      ],
      "execution_count": 306,
      "outputs": []
    },
    {
      "cell_type": "code",
      "metadata": {
        "id": "CNzaAindvBPU",
        "colab_type": "code",
        "colab": {
          "base_uri": "https://localhost:8080/",
          "height": 35
        },
        "outputId": "3012da4c-4fc9-4ad7-bab0-011403796b34"
      },
      "source": [
        "V_star.shape"
      ],
      "execution_count": 307,
      "outputs": [
        {
          "output_type": "execute_result",
          "data": {
            "text/plain": [
              "(2, 50, 20)"
            ]
          },
          "metadata": {
            "tags": []
          },
          "execution_count": 307
        }
      ]
    },
    {
      "cell_type": "code",
      "metadata": {
        "id": "2xqfh7vvcoG1",
        "colab_type": "code",
        "colab": {
          "base_uri": "https://localhost:8080/",
          "height": 35
        },
        "outputId": "9aceb961-2d59-489c-f41a-d71f1808d761"
      },
      "source": [
        "alpha_star.shape"
      ],
      "execution_count": 308,
      "outputs": [
        {
          "output_type": "execute_result",
          "data": {
            "text/plain": [
              "(2,)"
            ]
          },
          "metadata": {
            "tags": []
          },
          "execution_count": 308
        }
      ]
    },
    {
      "cell_type": "markdown",
      "metadata": {
        "id": "mfntD9sGZRFe",
        "colab_type": "text"
      },
      "source": [
        "Dataset description is available [here](https://archive.ics.uci.edu/ml/datasets/Mice+Protein+Expression)."
      ]
    },
    {
      "cell_type": "code",
      "metadata": {
        "id": "J8IcqdC_K31W",
        "colab_type": "code",
        "colab": {
          "base_uri": "https://localhost:8080/",
          "height": 338
        },
        "outputId": "351c7e72-b7d8-49b5-87c6-63adf41b3c32"
      },
      "source": [
        "dataset = pd.read_excel('https://archive.ics.uci.edu/ml/machine-learning-databases/00342/Data_Cortex_Nuclear.xls')\n",
        "dataset.head()"
      ],
      "execution_count": 74,
      "outputs": [
        {
          "output_type": "execute_result",
          "data": {
            "text/html": [
              "<div>\n",
              "<style scoped>\n",
              "    .dataframe tbody tr th:only-of-type {\n",
              "        vertical-align: middle;\n",
              "    }\n",
              "\n",
              "    .dataframe tbody tr th {\n",
              "        vertical-align: top;\n",
              "    }\n",
              "\n",
              "    .dataframe thead th {\n",
              "        text-align: right;\n",
              "    }\n",
              "</style>\n",
              "<table border=\"1\" class=\"dataframe\">\n",
              "  <thead>\n",
              "    <tr style=\"text-align: right;\">\n",
              "      <th></th>\n",
              "      <th>MouseID</th>\n",
              "      <th>DYRK1A_N</th>\n",
              "      <th>ITSN1_N</th>\n",
              "      <th>BDNF_N</th>\n",
              "      <th>NR1_N</th>\n",
              "      <th>NR2A_N</th>\n",
              "      <th>pAKT_N</th>\n",
              "      <th>pBRAF_N</th>\n",
              "      <th>pCAMKII_N</th>\n",
              "      <th>pCREB_N</th>\n",
              "      <th>pELK_N</th>\n",
              "      <th>pERK_N</th>\n",
              "      <th>pJNK_N</th>\n",
              "      <th>PKCA_N</th>\n",
              "      <th>pMEK_N</th>\n",
              "      <th>pNR1_N</th>\n",
              "      <th>pNR2A_N</th>\n",
              "      <th>pNR2B_N</th>\n",
              "      <th>pPKCAB_N</th>\n",
              "      <th>pRSK_N</th>\n",
              "      <th>AKT_N</th>\n",
              "      <th>BRAF_N</th>\n",
              "      <th>CAMKII_N</th>\n",
              "      <th>CREB_N</th>\n",
              "      <th>ELK_N</th>\n",
              "      <th>ERK_N</th>\n",
              "      <th>GSK3B_N</th>\n",
              "      <th>JNK_N</th>\n",
              "      <th>MEK_N</th>\n",
              "      <th>TRKA_N</th>\n",
              "      <th>RSK_N</th>\n",
              "      <th>APP_N</th>\n",
              "      <th>Bcatenin_N</th>\n",
              "      <th>SOD1_N</th>\n",
              "      <th>MTOR_N</th>\n",
              "      <th>P38_N</th>\n",
              "      <th>pMTOR_N</th>\n",
              "      <th>DSCR1_N</th>\n",
              "      <th>AMPKA_N</th>\n",
              "      <th>NR2B_N</th>\n",
              "      <th>...</th>\n",
              "      <th>TIAM1_N</th>\n",
              "      <th>pP70S6_N</th>\n",
              "      <th>NUMB_N</th>\n",
              "      <th>P70S6_N</th>\n",
              "      <th>pGSK3B_N</th>\n",
              "      <th>pPKCG_N</th>\n",
              "      <th>CDK5_N</th>\n",
              "      <th>S6_N</th>\n",
              "      <th>ADARB1_N</th>\n",
              "      <th>AcetylH3K9_N</th>\n",
              "      <th>RRP1_N</th>\n",
              "      <th>BAX_N</th>\n",
              "      <th>ARC_N</th>\n",
              "      <th>ERBB4_N</th>\n",
              "      <th>nNOS_N</th>\n",
              "      <th>Tau_N</th>\n",
              "      <th>GFAP_N</th>\n",
              "      <th>GluR3_N</th>\n",
              "      <th>GluR4_N</th>\n",
              "      <th>IL1B_N</th>\n",
              "      <th>P3525_N</th>\n",
              "      <th>pCASP9_N</th>\n",
              "      <th>PSD95_N</th>\n",
              "      <th>SNCA_N</th>\n",
              "      <th>Ubiquitin_N</th>\n",
              "      <th>pGSK3B_Tyr216_N</th>\n",
              "      <th>SHH_N</th>\n",
              "      <th>BAD_N</th>\n",
              "      <th>BCL2_N</th>\n",
              "      <th>pS6_N</th>\n",
              "      <th>pCFOS_N</th>\n",
              "      <th>SYP_N</th>\n",
              "      <th>H3AcK18_N</th>\n",
              "      <th>EGR1_N</th>\n",
              "      <th>H3MeK4_N</th>\n",
              "      <th>CaNA_N</th>\n",
              "      <th>Genotype</th>\n",
              "      <th>Treatment</th>\n",
              "      <th>Behavior</th>\n",
              "      <th>class</th>\n",
              "    </tr>\n",
              "  </thead>\n",
              "  <tbody>\n",
              "    <tr>\n",
              "      <th>0</th>\n",
              "      <td>309_1</td>\n",
              "      <td>0.503644</td>\n",
              "      <td>0.747193</td>\n",
              "      <td>0.430175</td>\n",
              "      <td>2.816329</td>\n",
              "      <td>5.990152</td>\n",
              "      <td>0.218830</td>\n",
              "      <td>0.177565</td>\n",
              "      <td>2.373744</td>\n",
              "      <td>0.232224</td>\n",
              "      <td>1.750936</td>\n",
              "      <td>0.687906</td>\n",
              "      <td>0.306382</td>\n",
              "      <td>0.402698</td>\n",
              "      <td>0.296927</td>\n",
              "      <td>1.022060</td>\n",
              "      <td>0.605673</td>\n",
              "      <td>1.877684</td>\n",
              "      <td>2.308745</td>\n",
              "      <td>0.441599</td>\n",
              "      <td>0.859366</td>\n",
              "      <td>0.416289</td>\n",
              "      <td>0.369608</td>\n",
              "      <td>0.178944</td>\n",
              "      <td>1.866358</td>\n",
              "      <td>3.685247</td>\n",
              "      <td>1.537227</td>\n",
              "      <td>0.264526</td>\n",
              "      <td>0.319677</td>\n",
              "      <td>0.813866</td>\n",
              "      <td>0.165846</td>\n",
              "      <td>0.453910</td>\n",
              "      <td>3.037621</td>\n",
              "      <td>0.369510</td>\n",
              "      <td>0.458539</td>\n",
              "      <td>0.335336</td>\n",
              "      <td>0.825192</td>\n",
              "      <td>0.576916</td>\n",
              "      <td>0.448099</td>\n",
              "      <td>0.586271</td>\n",
              "      <td>...</td>\n",
              "      <td>0.482864</td>\n",
              "      <td>0.294170</td>\n",
              "      <td>0.182150</td>\n",
              "      <td>0.842725</td>\n",
              "      <td>0.192608</td>\n",
              "      <td>1.443091</td>\n",
              "      <td>0.294700</td>\n",
              "      <td>0.354605</td>\n",
              "      <td>1.339070</td>\n",
              "      <td>0.170119</td>\n",
              "      <td>0.159102</td>\n",
              "      <td>0.188852</td>\n",
              "      <td>0.106305</td>\n",
              "      <td>0.144989</td>\n",
              "      <td>0.176668</td>\n",
              "      <td>0.125190</td>\n",
              "      <td>0.115291</td>\n",
              "      <td>0.228043</td>\n",
              "      <td>0.142756</td>\n",
              "      <td>0.430957</td>\n",
              "      <td>0.247538</td>\n",
              "      <td>1.603310</td>\n",
              "      <td>2.014875</td>\n",
              "      <td>0.108234</td>\n",
              "      <td>1.044979</td>\n",
              "      <td>0.831557</td>\n",
              "      <td>0.188852</td>\n",
              "      <td>0.122652</td>\n",
              "      <td>NaN</td>\n",
              "      <td>0.106305</td>\n",
              "      <td>0.108336</td>\n",
              "      <td>0.427099</td>\n",
              "      <td>0.114783</td>\n",
              "      <td>0.131790</td>\n",
              "      <td>0.128186</td>\n",
              "      <td>1.675652</td>\n",
              "      <td>Control</td>\n",
              "      <td>Memantine</td>\n",
              "      <td>C/S</td>\n",
              "      <td>c-CS-m</td>\n",
              "    </tr>\n",
              "    <tr>\n",
              "      <th>1</th>\n",
              "      <td>309_2</td>\n",
              "      <td>0.514617</td>\n",
              "      <td>0.689064</td>\n",
              "      <td>0.411770</td>\n",
              "      <td>2.789514</td>\n",
              "      <td>5.685038</td>\n",
              "      <td>0.211636</td>\n",
              "      <td>0.172817</td>\n",
              "      <td>2.292150</td>\n",
              "      <td>0.226972</td>\n",
              "      <td>1.596377</td>\n",
              "      <td>0.695006</td>\n",
              "      <td>0.299051</td>\n",
              "      <td>0.385987</td>\n",
              "      <td>0.281319</td>\n",
              "      <td>0.956676</td>\n",
              "      <td>0.587559</td>\n",
              "      <td>1.725774</td>\n",
              "      <td>2.043037</td>\n",
              "      <td>0.445222</td>\n",
              "      <td>0.834659</td>\n",
              "      <td>0.400364</td>\n",
              "      <td>0.356178</td>\n",
              "      <td>0.173680</td>\n",
              "      <td>1.761047</td>\n",
              "      <td>3.485287</td>\n",
              "      <td>1.509249</td>\n",
              "      <td>0.255727</td>\n",
              "      <td>0.304419</td>\n",
              "      <td>0.780504</td>\n",
              "      <td>0.157194</td>\n",
              "      <td>0.430940</td>\n",
              "      <td>2.921882</td>\n",
              "      <td>0.342279</td>\n",
              "      <td>0.423560</td>\n",
              "      <td>0.324835</td>\n",
              "      <td>0.761718</td>\n",
              "      <td>0.545097</td>\n",
              "      <td>0.420876</td>\n",
              "      <td>0.545097</td>\n",
              "      <td>...</td>\n",
              "      <td>0.454519</td>\n",
              "      <td>0.276431</td>\n",
              "      <td>0.182086</td>\n",
              "      <td>0.847615</td>\n",
              "      <td>0.194815</td>\n",
              "      <td>1.439460</td>\n",
              "      <td>0.294060</td>\n",
              "      <td>0.354548</td>\n",
              "      <td>1.306323</td>\n",
              "      <td>0.171427</td>\n",
              "      <td>0.158129</td>\n",
              "      <td>0.184570</td>\n",
              "      <td>0.106592</td>\n",
              "      <td>0.150471</td>\n",
              "      <td>0.178309</td>\n",
              "      <td>0.134275</td>\n",
              "      <td>0.118235</td>\n",
              "      <td>0.238073</td>\n",
              "      <td>0.142037</td>\n",
              "      <td>0.457156</td>\n",
              "      <td>0.257632</td>\n",
              "      <td>1.671738</td>\n",
              "      <td>2.004605</td>\n",
              "      <td>0.109749</td>\n",
              "      <td>1.009883</td>\n",
              "      <td>0.849270</td>\n",
              "      <td>0.200404</td>\n",
              "      <td>0.116682</td>\n",
              "      <td>NaN</td>\n",
              "      <td>0.106592</td>\n",
              "      <td>0.104315</td>\n",
              "      <td>0.441581</td>\n",
              "      <td>0.111974</td>\n",
              "      <td>0.135103</td>\n",
              "      <td>0.131119</td>\n",
              "      <td>1.743610</td>\n",
              "      <td>Control</td>\n",
              "      <td>Memantine</td>\n",
              "      <td>C/S</td>\n",
              "      <td>c-CS-m</td>\n",
              "    </tr>\n",
              "    <tr>\n",
              "      <th>2</th>\n",
              "      <td>309_3</td>\n",
              "      <td>0.509183</td>\n",
              "      <td>0.730247</td>\n",
              "      <td>0.418309</td>\n",
              "      <td>2.687201</td>\n",
              "      <td>5.622059</td>\n",
              "      <td>0.209011</td>\n",
              "      <td>0.175722</td>\n",
              "      <td>2.283337</td>\n",
              "      <td>0.230247</td>\n",
              "      <td>1.561316</td>\n",
              "      <td>0.677348</td>\n",
              "      <td>0.291276</td>\n",
              "      <td>0.381002</td>\n",
              "      <td>0.281710</td>\n",
              "      <td>1.003635</td>\n",
              "      <td>0.602449</td>\n",
              "      <td>1.731873</td>\n",
              "      <td>2.017984</td>\n",
              "      <td>0.467668</td>\n",
              "      <td>0.814329</td>\n",
              "      <td>0.399847</td>\n",
              "      <td>0.368089</td>\n",
              "      <td>0.173905</td>\n",
              "      <td>1.765544</td>\n",
              "      <td>3.571456</td>\n",
              "      <td>1.501244</td>\n",
              "      <td>0.259614</td>\n",
              "      <td>0.311747</td>\n",
              "      <td>0.785154</td>\n",
              "      <td>0.160895</td>\n",
              "      <td>0.423187</td>\n",
              "      <td>2.944136</td>\n",
              "      <td>0.343696</td>\n",
              "      <td>0.425005</td>\n",
              "      <td>0.324852</td>\n",
              "      <td>0.757031</td>\n",
              "      <td>0.543620</td>\n",
              "      <td>0.404630</td>\n",
              "      <td>0.552994</td>\n",
              "      <td>...</td>\n",
              "      <td>0.447197</td>\n",
              "      <td>0.256648</td>\n",
              "      <td>0.184388</td>\n",
              "      <td>0.856166</td>\n",
              "      <td>0.200737</td>\n",
              "      <td>1.524364</td>\n",
              "      <td>0.301881</td>\n",
              "      <td>0.386087</td>\n",
              "      <td>1.279600</td>\n",
              "      <td>0.185456</td>\n",
              "      <td>0.148696</td>\n",
              "      <td>0.190532</td>\n",
              "      <td>0.108303</td>\n",
              "      <td>0.145330</td>\n",
              "      <td>0.176213</td>\n",
              "      <td>0.132560</td>\n",
              "      <td>0.117760</td>\n",
              "      <td>0.244817</td>\n",
              "      <td>0.142445</td>\n",
              "      <td>0.510472</td>\n",
              "      <td>0.255343</td>\n",
              "      <td>1.663550</td>\n",
              "      <td>2.016831</td>\n",
              "      <td>0.108196</td>\n",
              "      <td>0.996848</td>\n",
              "      <td>0.846709</td>\n",
              "      <td>0.193685</td>\n",
              "      <td>0.118508</td>\n",
              "      <td>NaN</td>\n",
              "      <td>0.108303</td>\n",
              "      <td>0.106219</td>\n",
              "      <td>0.435777</td>\n",
              "      <td>0.111883</td>\n",
              "      <td>0.133362</td>\n",
              "      <td>0.127431</td>\n",
              "      <td>1.926427</td>\n",
              "      <td>Control</td>\n",
              "      <td>Memantine</td>\n",
              "      <td>C/S</td>\n",
              "      <td>c-CS-m</td>\n",
              "    </tr>\n",
              "    <tr>\n",
              "      <th>3</th>\n",
              "      <td>309_4</td>\n",
              "      <td>0.442107</td>\n",
              "      <td>0.617076</td>\n",
              "      <td>0.358626</td>\n",
              "      <td>2.466947</td>\n",
              "      <td>4.979503</td>\n",
              "      <td>0.222886</td>\n",
              "      <td>0.176463</td>\n",
              "      <td>2.152301</td>\n",
              "      <td>0.207004</td>\n",
              "      <td>1.595086</td>\n",
              "      <td>0.583277</td>\n",
              "      <td>0.296729</td>\n",
              "      <td>0.377087</td>\n",
              "      <td>0.313832</td>\n",
              "      <td>0.875390</td>\n",
              "      <td>0.520293</td>\n",
              "      <td>1.566852</td>\n",
              "      <td>2.132754</td>\n",
              "      <td>0.477671</td>\n",
              "      <td>0.727705</td>\n",
              "      <td>0.385639</td>\n",
              "      <td>0.362970</td>\n",
              "      <td>0.179449</td>\n",
              "      <td>1.286277</td>\n",
              "      <td>2.970137</td>\n",
              "      <td>1.419710</td>\n",
              "      <td>0.259536</td>\n",
              "      <td>0.279218</td>\n",
              "      <td>0.734492</td>\n",
              "      <td>0.162210</td>\n",
              "      <td>0.410615</td>\n",
              "      <td>2.500204</td>\n",
              "      <td>0.344509</td>\n",
              "      <td>0.429211</td>\n",
              "      <td>0.330121</td>\n",
              "      <td>0.746980</td>\n",
              "      <td>0.546763</td>\n",
              "      <td>0.386860</td>\n",
              "      <td>0.547849</td>\n",
              "      <td>...</td>\n",
              "      <td>0.442650</td>\n",
              "      <td>0.398534</td>\n",
              "      <td>0.161768</td>\n",
              "      <td>0.760234</td>\n",
              "      <td>0.184169</td>\n",
              "      <td>1.612382</td>\n",
              "      <td>0.296382</td>\n",
              "      <td>0.290680</td>\n",
              "      <td>1.198765</td>\n",
              "      <td>0.159799</td>\n",
              "      <td>0.166112</td>\n",
              "      <td>0.185323</td>\n",
              "      <td>0.103184</td>\n",
              "      <td>0.140656</td>\n",
              "      <td>0.163804</td>\n",
              "      <td>0.123210</td>\n",
              "      <td>0.117439</td>\n",
              "      <td>0.234947</td>\n",
              "      <td>0.145068</td>\n",
              "      <td>0.430996</td>\n",
              "      <td>0.251103</td>\n",
              "      <td>1.484624</td>\n",
              "      <td>1.957233</td>\n",
              "      <td>0.119883</td>\n",
              "      <td>0.990225</td>\n",
              "      <td>0.833277</td>\n",
              "      <td>0.192112</td>\n",
              "      <td>0.132781</td>\n",
              "      <td>NaN</td>\n",
              "      <td>0.103184</td>\n",
              "      <td>0.111262</td>\n",
              "      <td>0.391691</td>\n",
              "      <td>0.130405</td>\n",
              "      <td>0.147444</td>\n",
              "      <td>0.146901</td>\n",
              "      <td>1.700563</td>\n",
              "      <td>Control</td>\n",
              "      <td>Memantine</td>\n",
              "      <td>C/S</td>\n",
              "      <td>c-CS-m</td>\n",
              "    </tr>\n",
              "    <tr>\n",
              "      <th>4</th>\n",
              "      <td>309_5</td>\n",
              "      <td>0.434940</td>\n",
              "      <td>0.617430</td>\n",
              "      <td>0.358802</td>\n",
              "      <td>2.365785</td>\n",
              "      <td>4.718679</td>\n",
              "      <td>0.213106</td>\n",
              "      <td>0.173627</td>\n",
              "      <td>2.134014</td>\n",
              "      <td>0.192158</td>\n",
              "      <td>1.504230</td>\n",
              "      <td>0.550960</td>\n",
              "      <td>0.286961</td>\n",
              "      <td>0.363502</td>\n",
              "      <td>0.277964</td>\n",
              "      <td>0.864912</td>\n",
              "      <td>0.507990</td>\n",
              "      <td>1.480059</td>\n",
              "      <td>2.013697</td>\n",
              "      <td>0.483416</td>\n",
              "      <td>0.687794</td>\n",
              "      <td>0.367531</td>\n",
              "      <td>0.355311</td>\n",
              "      <td>0.174836</td>\n",
              "      <td>1.324695</td>\n",
              "      <td>2.896334</td>\n",
              "      <td>1.359876</td>\n",
              "      <td>0.250705</td>\n",
              "      <td>0.273667</td>\n",
              "      <td>0.702699</td>\n",
              "      <td>0.154827</td>\n",
              "      <td>0.398550</td>\n",
              "      <td>2.456560</td>\n",
              "      <td>0.329126</td>\n",
              "      <td>0.408755</td>\n",
              "      <td>0.313415</td>\n",
              "      <td>0.691956</td>\n",
              "      <td>0.536860</td>\n",
              "      <td>0.360816</td>\n",
              "      <td>0.512824</td>\n",
              "      <td>...</td>\n",
              "      <td>0.419095</td>\n",
              "      <td>0.393447</td>\n",
              "      <td>0.160200</td>\n",
              "      <td>0.768113</td>\n",
              "      <td>0.185718</td>\n",
              "      <td>1.645807</td>\n",
              "      <td>0.296829</td>\n",
              "      <td>0.309345</td>\n",
              "      <td>1.206995</td>\n",
              "      <td>0.164650</td>\n",
              "      <td>0.160687</td>\n",
              "      <td>0.188221</td>\n",
              "      <td>0.104784</td>\n",
              "      <td>0.141983</td>\n",
              "      <td>0.167710</td>\n",
              "      <td>0.136838</td>\n",
              "      <td>0.116048</td>\n",
              "      <td>0.255528</td>\n",
              "      <td>0.140871</td>\n",
              "      <td>0.481227</td>\n",
              "      <td>0.251773</td>\n",
              "      <td>1.534835</td>\n",
              "      <td>2.009109</td>\n",
              "      <td>0.119524</td>\n",
              "      <td>0.997775</td>\n",
              "      <td>0.878668</td>\n",
              "      <td>0.205604</td>\n",
              "      <td>0.129954</td>\n",
              "      <td>NaN</td>\n",
              "      <td>0.104784</td>\n",
              "      <td>0.110694</td>\n",
              "      <td>0.434154</td>\n",
              "      <td>0.118481</td>\n",
              "      <td>0.140314</td>\n",
              "      <td>0.148380</td>\n",
              "      <td>1.839730</td>\n",
              "      <td>Control</td>\n",
              "      <td>Memantine</td>\n",
              "      <td>C/S</td>\n",
              "      <td>c-CS-m</td>\n",
              "    </tr>\n",
              "  </tbody>\n",
              "</table>\n",
              "<p>5 rows × 82 columns</p>\n",
              "</div>"
            ],
            "text/plain": [
              "  MouseID  DYRK1A_N   ITSN1_N    BDNF_N  ...  Genotype  Treatment  Behavior   class\n",
              "0   309_1  0.503644  0.747193  0.430175  ...   Control  Memantine       C/S  c-CS-m\n",
              "1   309_2  0.514617  0.689064  0.411770  ...   Control  Memantine       C/S  c-CS-m\n",
              "2   309_3  0.509183  0.730247  0.418309  ...   Control  Memantine       C/S  c-CS-m\n",
              "3   309_4  0.442107  0.617076  0.358626  ...   Control  Memantine       C/S  c-CS-m\n",
              "4   309_5  0.434940  0.617430  0.358802  ...   Control  Memantine       C/S  c-CS-m\n",
              "\n",
              "[5 rows x 82 columns]"
            ]
          },
          "metadata": {
            "tags": []
          },
          "execution_count": 74
        }
      ]
    },
    {
      "cell_type": "code",
      "metadata": {
        "id": "KNb4ntv9Ld2d",
        "colab_type": "code",
        "colab": {
          "base_uri": "https://localhost:8080/",
          "height": 35
        },
        "outputId": "b2ab00d3-2784-4d35-953d-d9a09c74355f"
      },
      "source": [
        "dataset.Genotype.unique()"
      ],
      "execution_count": 16,
      "outputs": [
        {
          "output_type": "execute_result",
          "data": {
            "text/plain": [
              "array(['Control', 'Ts65Dn'], dtype=object)"
            ]
          },
          "metadata": {
            "tags": []
          },
          "execution_count": 16
        }
      ]
    },
    {
      "cell_type": "code",
      "metadata": {
        "id": "EeUfY21QLhed",
        "colab_type": "code",
        "colab": {
          "base_uri": "https://localhost:8080/",
          "height": 35
        },
        "outputId": "3b99fe5a-368a-48a6-ff6e-5fcf5c1b01a5"
      },
      "source": [
        "dataset.Treatment.unique()"
      ],
      "execution_count": 17,
      "outputs": [
        {
          "output_type": "execute_result",
          "data": {
            "text/plain": [
              "array(['Memantine', 'Saline'], dtype=object)"
            ]
          },
          "metadata": {
            "tags": []
          },
          "execution_count": 17
        }
      ]
    },
    {
      "cell_type": "code",
      "metadata": {
        "id": "IRQ8CevnLTfT",
        "colab_type": "code",
        "colab": {
          "base_uri": "https://localhost:8080/",
          "height": 35
        },
        "outputId": "ed1a291a-44ea-4e44-81d7-bb8cdd3affb3"
      },
      "source": [
        "dataset.Behavior.unique()"
      ],
      "execution_count": 15,
      "outputs": [
        {
          "output_type": "execute_result",
          "data": {
            "text/plain": [
              "array(['C/S', 'S/C'], dtype=object)"
            ]
          },
          "metadata": {
            "tags": []
          },
          "execution_count": 15
        }
      ]
    },
    {
      "cell_type": "code",
      "metadata": {
        "id": "XBASfUqUL5Ud",
        "colab_type": "code",
        "colab": {
          "base_uri": "https://localhost:8080/",
          "height": 35
        },
        "outputId": "8b12a11e-c9b3-4ebb-8a2c-93f139e0e033"
      },
      "source": [
        "missing_cols = dataset.columns[dataset.isnull().any()]\n",
        "missing_cols.size"
      ],
      "execution_count": 75,
      "outputs": [
        {
          "output_type": "execute_result",
          "data": {
            "text/plain": [
              "49"
            ]
          },
          "metadata": {
            "tags": []
          },
          "execution_count": 75
        }
      ]
    },
    {
      "cell_type": "code",
      "metadata": {
        "id": "djI7CRvPL9-V",
        "colab_type": "code",
        "colab": {
          "base_uri": "https://localhost:8080/",
          "height": 879
        },
        "outputId": "68aedb97-1848-4a46-9ae8-b535c2ff06ee"
      },
      "source": [
        "for col in missing_cols:\n",
        "\n",
        "    missing_data = len(dataset[dataset[col].isnull()].index)\n",
        "\n",
        "    print(f'column {col}: {missing_data} missing values')\n",
        "\n",
        "    imputer = IterativeImputer(random_state=10)\n",
        "    dataset[col] = imputer.fit_transform(dataset[col].values.reshape(len(dataset.index), 1))"
      ],
      "execution_count": 76,
      "outputs": [
        {
          "output_type": "stream",
          "text": [
            "column DYRK1A_N: 3 missing values\n",
            "column ITSN1_N: 3 missing values\n",
            "column BDNF_N: 3 missing values\n",
            "column NR1_N: 3 missing values\n",
            "column NR2A_N: 3 missing values\n",
            "column pAKT_N: 3 missing values\n",
            "column pBRAF_N: 3 missing values\n",
            "column pCAMKII_N: 3 missing values\n",
            "column pCREB_N: 3 missing values\n",
            "column pELK_N: 3 missing values\n",
            "column pERK_N: 3 missing values\n",
            "column pJNK_N: 3 missing values\n",
            "column PKCA_N: 3 missing values\n",
            "column pMEK_N: 3 missing values\n",
            "column pNR1_N: 3 missing values\n",
            "column pNR2A_N: 3 missing values\n",
            "column pNR2B_N: 3 missing values\n",
            "column pPKCAB_N: 3 missing values\n",
            "column pRSK_N: 3 missing values\n",
            "column AKT_N: 3 missing values\n",
            "column BRAF_N: 3 missing values\n",
            "column CAMKII_N: 3 missing values\n",
            "column CREB_N: 3 missing values\n",
            "column ELK_N: 18 missing values\n",
            "column ERK_N: 3 missing values\n",
            "column GSK3B_N: 3 missing values\n",
            "column JNK_N: 3 missing values\n",
            "column MEK_N: 7 missing values\n",
            "column TRKA_N: 3 missing values\n",
            "column RSK_N: 3 missing values\n",
            "column APP_N: 3 missing values\n",
            "column Bcatenin_N: 18 missing values\n",
            "column SOD1_N: 3 missing values\n",
            "column MTOR_N: 3 missing values\n",
            "column P38_N: 3 missing values\n",
            "column pMTOR_N: 3 missing values\n",
            "column DSCR1_N: 3 missing values\n",
            "column AMPKA_N: 3 missing values\n",
            "column NR2B_N: 3 missing values\n",
            "column pNUMB_N: 3 missing values\n",
            "column RAPTOR_N: 3 missing values\n",
            "column TIAM1_N: 3 missing values\n",
            "column pP70S6_N: 3 missing values\n",
            "column BAD_N: 213 missing values\n",
            "column BCL2_N: 285 missing values\n",
            "column pCFOS_N: 75 missing values\n",
            "column H3AcK18_N: 180 missing values\n",
            "column EGR1_N: 210 missing values\n",
            "column H3MeK4_N: 270 missing values\n"
          ],
          "name": "stdout"
        }
      ]
    },
    {
      "cell_type": "code",
      "metadata": {
        "id": "XDFFPJaMOV_m",
        "colab_type": "code",
        "colab": {
          "base_uri": "https://localhost:8080/",
          "height": 35
        },
        "outputId": "4d744751-2843-4d8d-fc27-52e4a1de9d1f"
      },
      "source": [
        "dataset.columns[dataset.isnull().any()].size"
      ],
      "execution_count": 77,
      "outputs": [
        {
          "output_type": "execute_result",
          "data": {
            "text/plain": [
              "0"
            ]
          },
          "metadata": {
            "tags": []
          },
          "execution_count": 77
        }
      ]
    },
    {
      "cell_type": "code",
      "metadata": {
        "id": "dah6MZoeqmOy",
        "colab_type": "code",
        "colab": {
          "base_uri": "https://localhost:8080/",
          "height": 35
        },
        "outputId": "d3b54ea0-e21b-4178-85cf-87001c671052"
      },
      "source": [
        "background_dataset = dataset[(dataset.Behavior == 'S/C') | (dataset.Treatment == 'Memantine')].drop(['MouseID', 'Treatment', 'class', 'Behavior'], axis=1)\n",
        "background_dataset.shape"
      ],
      "execution_count": 165,
      "outputs": [
        {
          "output_type": "execute_result",
          "data": {
            "text/plain": [
              "(840, 78)"
            ]
          },
          "metadata": {
            "tags": []
          },
          "execution_count": 165
        }
      ]
    },
    {
      "cell_type": "code",
      "metadata": {
        "id": "R5D8sX5x0IPg",
        "colab_type": "code",
        "colab": {
          "base_uri": "https://localhost:8080/",
          "height": 223
        },
        "outputId": "13714d96-e997-4c1c-9ea3-86b5b67bd633"
      },
      "source": [
        "background_dataset.head()"
      ],
      "execution_count": 166,
      "outputs": [
        {
          "output_type": "execute_result",
          "data": {
            "text/html": [
              "<div>\n",
              "<style scoped>\n",
              "    .dataframe tbody tr th:only-of-type {\n",
              "        vertical-align: middle;\n",
              "    }\n",
              "\n",
              "    .dataframe tbody tr th {\n",
              "        vertical-align: top;\n",
              "    }\n",
              "\n",
              "    .dataframe thead th {\n",
              "        text-align: right;\n",
              "    }\n",
              "</style>\n",
              "<table border=\"1\" class=\"dataframe\">\n",
              "  <thead>\n",
              "    <tr style=\"text-align: right;\">\n",
              "      <th></th>\n",
              "      <th>DYRK1A_N</th>\n",
              "      <th>ITSN1_N</th>\n",
              "      <th>BDNF_N</th>\n",
              "      <th>NR1_N</th>\n",
              "      <th>NR2A_N</th>\n",
              "      <th>pAKT_N</th>\n",
              "      <th>pBRAF_N</th>\n",
              "      <th>pCAMKII_N</th>\n",
              "      <th>pCREB_N</th>\n",
              "      <th>pELK_N</th>\n",
              "      <th>pERK_N</th>\n",
              "      <th>pJNK_N</th>\n",
              "      <th>PKCA_N</th>\n",
              "      <th>pMEK_N</th>\n",
              "      <th>pNR1_N</th>\n",
              "      <th>pNR2A_N</th>\n",
              "      <th>pNR2B_N</th>\n",
              "      <th>pPKCAB_N</th>\n",
              "      <th>pRSK_N</th>\n",
              "      <th>AKT_N</th>\n",
              "      <th>BRAF_N</th>\n",
              "      <th>CAMKII_N</th>\n",
              "      <th>CREB_N</th>\n",
              "      <th>ELK_N</th>\n",
              "      <th>ERK_N</th>\n",
              "      <th>GSK3B_N</th>\n",
              "      <th>JNK_N</th>\n",
              "      <th>MEK_N</th>\n",
              "      <th>TRKA_N</th>\n",
              "      <th>RSK_N</th>\n",
              "      <th>APP_N</th>\n",
              "      <th>Bcatenin_N</th>\n",
              "      <th>SOD1_N</th>\n",
              "      <th>MTOR_N</th>\n",
              "      <th>P38_N</th>\n",
              "      <th>pMTOR_N</th>\n",
              "      <th>DSCR1_N</th>\n",
              "      <th>AMPKA_N</th>\n",
              "      <th>NR2B_N</th>\n",
              "      <th>pNUMB_N</th>\n",
              "      <th>RAPTOR_N</th>\n",
              "      <th>TIAM1_N</th>\n",
              "      <th>pP70S6_N</th>\n",
              "      <th>NUMB_N</th>\n",
              "      <th>P70S6_N</th>\n",
              "      <th>pGSK3B_N</th>\n",
              "      <th>pPKCG_N</th>\n",
              "      <th>CDK5_N</th>\n",
              "      <th>S6_N</th>\n",
              "      <th>ADARB1_N</th>\n",
              "      <th>AcetylH3K9_N</th>\n",
              "      <th>RRP1_N</th>\n",
              "      <th>BAX_N</th>\n",
              "      <th>ARC_N</th>\n",
              "      <th>ERBB4_N</th>\n",
              "      <th>nNOS_N</th>\n",
              "      <th>Tau_N</th>\n",
              "      <th>GFAP_N</th>\n",
              "      <th>GluR3_N</th>\n",
              "      <th>GluR4_N</th>\n",
              "      <th>IL1B_N</th>\n",
              "      <th>P3525_N</th>\n",
              "      <th>pCASP9_N</th>\n",
              "      <th>PSD95_N</th>\n",
              "      <th>SNCA_N</th>\n",
              "      <th>Ubiquitin_N</th>\n",
              "      <th>pGSK3B_Tyr216_N</th>\n",
              "      <th>SHH_N</th>\n",
              "      <th>BAD_N</th>\n",
              "      <th>BCL2_N</th>\n",
              "      <th>pS6_N</th>\n",
              "      <th>pCFOS_N</th>\n",
              "      <th>SYP_N</th>\n",
              "      <th>H3AcK18_N</th>\n",
              "      <th>EGR1_N</th>\n",
              "      <th>H3MeK4_N</th>\n",
              "      <th>CaNA_N</th>\n",
              "      <th>Genotype</th>\n",
              "    </tr>\n",
              "  </thead>\n",
              "  <tbody>\n",
              "    <tr>\n",
              "      <th>0</th>\n",
              "      <td>0.503644</td>\n",
              "      <td>0.747193</td>\n",
              "      <td>0.430175</td>\n",
              "      <td>2.816329</td>\n",
              "      <td>5.990152</td>\n",
              "      <td>0.218830</td>\n",
              "      <td>0.177565</td>\n",
              "      <td>2.373744</td>\n",
              "      <td>0.232224</td>\n",
              "      <td>1.750936</td>\n",
              "      <td>0.687906</td>\n",
              "      <td>0.306382</td>\n",
              "      <td>0.402698</td>\n",
              "      <td>0.296927</td>\n",
              "      <td>1.022060</td>\n",
              "      <td>0.605673</td>\n",
              "      <td>1.877684</td>\n",
              "      <td>2.308745</td>\n",
              "      <td>0.441599</td>\n",
              "      <td>0.859366</td>\n",
              "      <td>0.416289</td>\n",
              "      <td>0.369608</td>\n",
              "      <td>0.178944</td>\n",
              "      <td>1.866358</td>\n",
              "      <td>3.685247</td>\n",
              "      <td>1.537227</td>\n",
              "      <td>0.264526</td>\n",
              "      <td>0.319677</td>\n",
              "      <td>0.813866</td>\n",
              "      <td>0.165846</td>\n",
              "      <td>0.453910</td>\n",
              "      <td>3.037621</td>\n",
              "      <td>0.369510</td>\n",
              "      <td>0.458539</td>\n",
              "      <td>0.335336</td>\n",
              "      <td>0.825192</td>\n",
              "      <td>0.576916</td>\n",
              "      <td>0.448099</td>\n",
              "      <td>0.586271</td>\n",
              "      <td>0.394721</td>\n",
              "      <td>0.339571</td>\n",
              "      <td>0.482864</td>\n",
              "      <td>0.294170</td>\n",
              "      <td>0.182150</td>\n",
              "      <td>0.842725</td>\n",
              "      <td>0.192608</td>\n",
              "      <td>1.443091</td>\n",
              "      <td>0.294700</td>\n",
              "      <td>0.354605</td>\n",
              "      <td>1.339070</td>\n",
              "      <td>0.170119</td>\n",
              "      <td>0.159102</td>\n",
              "      <td>0.188852</td>\n",
              "      <td>0.106305</td>\n",
              "      <td>0.144989</td>\n",
              "      <td>0.176668</td>\n",
              "      <td>0.125190</td>\n",
              "      <td>0.115291</td>\n",
              "      <td>0.228043</td>\n",
              "      <td>0.142756</td>\n",
              "      <td>0.430957</td>\n",
              "      <td>0.247538</td>\n",
              "      <td>1.603310</td>\n",
              "      <td>2.014875</td>\n",
              "      <td>0.108234</td>\n",
              "      <td>1.044979</td>\n",
              "      <td>0.831557</td>\n",
              "      <td>0.188852</td>\n",
              "      <td>0.122652</td>\n",
              "      <td>0.134762</td>\n",
              "      <td>0.106305</td>\n",
              "      <td>0.108336</td>\n",
              "      <td>0.427099</td>\n",
              "      <td>0.114783</td>\n",
              "      <td>0.131790</td>\n",
              "      <td>0.128186</td>\n",
              "      <td>1.675652</td>\n",
              "      <td>Control</td>\n",
              "    </tr>\n",
              "    <tr>\n",
              "      <th>1</th>\n",
              "      <td>0.514617</td>\n",
              "      <td>0.689064</td>\n",
              "      <td>0.411770</td>\n",
              "      <td>2.789514</td>\n",
              "      <td>5.685038</td>\n",
              "      <td>0.211636</td>\n",
              "      <td>0.172817</td>\n",
              "      <td>2.292150</td>\n",
              "      <td>0.226972</td>\n",
              "      <td>1.596377</td>\n",
              "      <td>0.695006</td>\n",
              "      <td>0.299051</td>\n",
              "      <td>0.385987</td>\n",
              "      <td>0.281319</td>\n",
              "      <td>0.956676</td>\n",
              "      <td>0.587559</td>\n",
              "      <td>1.725774</td>\n",
              "      <td>2.043037</td>\n",
              "      <td>0.445222</td>\n",
              "      <td>0.834659</td>\n",
              "      <td>0.400364</td>\n",
              "      <td>0.356178</td>\n",
              "      <td>0.173680</td>\n",
              "      <td>1.761047</td>\n",
              "      <td>3.485287</td>\n",
              "      <td>1.509249</td>\n",
              "      <td>0.255727</td>\n",
              "      <td>0.304419</td>\n",
              "      <td>0.780504</td>\n",
              "      <td>0.157194</td>\n",
              "      <td>0.430940</td>\n",
              "      <td>2.921882</td>\n",
              "      <td>0.342279</td>\n",
              "      <td>0.423560</td>\n",
              "      <td>0.324835</td>\n",
              "      <td>0.761718</td>\n",
              "      <td>0.545097</td>\n",
              "      <td>0.420876</td>\n",
              "      <td>0.545097</td>\n",
              "      <td>0.368255</td>\n",
              "      <td>0.321959</td>\n",
              "      <td>0.454519</td>\n",
              "      <td>0.276431</td>\n",
              "      <td>0.182086</td>\n",
              "      <td>0.847615</td>\n",
              "      <td>0.194815</td>\n",
              "      <td>1.439460</td>\n",
              "      <td>0.294060</td>\n",
              "      <td>0.354548</td>\n",
              "      <td>1.306323</td>\n",
              "      <td>0.171427</td>\n",
              "      <td>0.158129</td>\n",
              "      <td>0.184570</td>\n",
              "      <td>0.106592</td>\n",
              "      <td>0.150471</td>\n",
              "      <td>0.178309</td>\n",
              "      <td>0.134275</td>\n",
              "      <td>0.118235</td>\n",
              "      <td>0.238073</td>\n",
              "      <td>0.142037</td>\n",
              "      <td>0.457156</td>\n",
              "      <td>0.257632</td>\n",
              "      <td>1.671738</td>\n",
              "      <td>2.004605</td>\n",
              "      <td>0.109749</td>\n",
              "      <td>1.009883</td>\n",
              "      <td>0.849270</td>\n",
              "      <td>0.200404</td>\n",
              "      <td>0.116682</td>\n",
              "      <td>0.134762</td>\n",
              "      <td>0.106592</td>\n",
              "      <td>0.104315</td>\n",
              "      <td>0.441581</td>\n",
              "      <td>0.111974</td>\n",
              "      <td>0.135103</td>\n",
              "      <td>0.131119</td>\n",
              "      <td>1.743610</td>\n",
              "      <td>Control</td>\n",
              "    </tr>\n",
              "    <tr>\n",
              "      <th>2</th>\n",
              "      <td>0.509183</td>\n",
              "      <td>0.730247</td>\n",
              "      <td>0.418309</td>\n",
              "      <td>2.687201</td>\n",
              "      <td>5.622059</td>\n",
              "      <td>0.209011</td>\n",
              "      <td>0.175722</td>\n",
              "      <td>2.283337</td>\n",
              "      <td>0.230247</td>\n",
              "      <td>1.561316</td>\n",
              "      <td>0.677348</td>\n",
              "      <td>0.291276</td>\n",
              "      <td>0.381002</td>\n",
              "      <td>0.281710</td>\n",
              "      <td>1.003635</td>\n",
              "      <td>0.602449</td>\n",
              "      <td>1.731873</td>\n",
              "      <td>2.017984</td>\n",
              "      <td>0.467668</td>\n",
              "      <td>0.814329</td>\n",
              "      <td>0.399847</td>\n",
              "      <td>0.368089</td>\n",
              "      <td>0.173905</td>\n",
              "      <td>1.765544</td>\n",
              "      <td>3.571456</td>\n",
              "      <td>1.501244</td>\n",
              "      <td>0.259614</td>\n",
              "      <td>0.311747</td>\n",
              "      <td>0.785154</td>\n",
              "      <td>0.160895</td>\n",
              "      <td>0.423187</td>\n",
              "      <td>2.944136</td>\n",
              "      <td>0.343696</td>\n",
              "      <td>0.425005</td>\n",
              "      <td>0.324852</td>\n",
              "      <td>0.757031</td>\n",
              "      <td>0.543620</td>\n",
              "      <td>0.404630</td>\n",
              "      <td>0.552994</td>\n",
              "      <td>0.363880</td>\n",
              "      <td>0.313086</td>\n",
              "      <td>0.447197</td>\n",
              "      <td>0.256648</td>\n",
              "      <td>0.184388</td>\n",
              "      <td>0.856166</td>\n",
              "      <td>0.200737</td>\n",
              "      <td>1.524364</td>\n",
              "      <td>0.301881</td>\n",
              "      <td>0.386087</td>\n",
              "      <td>1.279600</td>\n",
              "      <td>0.185456</td>\n",
              "      <td>0.148696</td>\n",
              "      <td>0.190532</td>\n",
              "      <td>0.108303</td>\n",
              "      <td>0.145330</td>\n",
              "      <td>0.176213</td>\n",
              "      <td>0.132560</td>\n",
              "      <td>0.117760</td>\n",
              "      <td>0.244817</td>\n",
              "      <td>0.142445</td>\n",
              "      <td>0.510472</td>\n",
              "      <td>0.255343</td>\n",
              "      <td>1.663550</td>\n",
              "      <td>2.016831</td>\n",
              "      <td>0.108196</td>\n",
              "      <td>0.996848</td>\n",
              "      <td>0.846709</td>\n",
              "      <td>0.193685</td>\n",
              "      <td>0.118508</td>\n",
              "      <td>0.134762</td>\n",
              "      <td>0.108303</td>\n",
              "      <td>0.106219</td>\n",
              "      <td>0.435777</td>\n",
              "      <td>0.111883</td>\n",
              "      <td>0.133362</td>\n",
              "      <td>0.127431</td>\n",
              "      <td>1.926427</td>\n",
              "      <td>Control</td>\n",
              "    </tr>\n",
              "    <tr>\n",
              "      <th>3</th>\n",
              "      <td>0.442107</td>\n",
              "      <td>0.617076</td>\n",
              "      <td>0.358626</td>\n",
              "      <td>2.466947</td>\n",
              "      <td>4.979503</td>\n",
              "      <td>0.222886</td>\n",
              "      <td>0.176463</td>\n",
              "      <td>2.152301</td>\n",
              "      <td>0.207004</td>\n",
              "      <td>1.595086</td>\n",
              "      <td>0.583277</td>\n",
              "      <td>0.296729</td>\n",
              "      <td>0.377087</td>\n",
              "      <td>0.313832</td>\n",
              "      <td>0.875390</td>\n",
              "      <td>0.520293</td>\n",
              "      <td>1.566852</td>\n",
              "      <td>2.132754</td>\n",
              "      <td>0.477671</td>\n",
              "      <td>0.727705</td>\n",
              "      <td>0.385639</td>\n",
              "      <td>0.362970</td>\n",
              "      <td>0.179449</td>\n",
              "      <td>1.286277</td>\n",
              "      <td>2.970137</td>\n",
              "      <td>1.419710</td>\n",
              "      <td>0.259536</td>\n",
              "      <td>0.279218</td>\n",
              "      <td>0.734492</td>\n",
              "      <td>0.162210</td>\n",
              "      <td>0.410615</td>\n",
              "      <td>2.500204</td>\n",
              "      <td>0.344509</td>\n",
              "      <td>0.429211</td>\n",
              "      <td>0.330121</td>\n",
              "      <td>0.746980</td>\n",
              "      <td>0.546763</td>\n",
              "      <td>0.386860</td>\n",
              "      <td>0.547849</td>\n",
              "      <td>0.366771</td>\n",
              "      <td>0.328492</td>\n",
              "      <td>0.442650</td>\n",
              "      <td>0.398534</td>\n",
              "      <td>0.161768</td>\n",
              "      <td>0.760234</td>\n",
              "      <td>0.184169</td>\n",
              "      <td>1.612382</td>\n",
              "      <td>0.296382</td>\n",
              "      <td>0.290680</td>\n",
              "      <td>1.198765</td>\n",
              "      <td>0.159799</td>\n",
              "      <td>0.166112</td>\n",
              "      <td>0.185323</td>\n",
              "      <td>0.103184</td>\n",
              "      <td>0.140656</td>\n",
              "      <td>0.163804</td>\n",
              "      <td>0.123210</td>\n",
              "      <td>0.117439</td>\n",
              "      <td>0.234947</td>\n",
              "      <td>0.145068</td>\n",
              "      <td>0.430996</td>\n",
              "      <td>0.251103</td>\n",
              "      <td>1.484624</td>\n",
              "      <td>1.957233</td>\n",
              "      <td>0.119883</td>\n",
              "      <td>0.990225</td>\n",
              "      <td>0.833277</td>\n",
              "      <td>0.192112</td>\n",
              "      <td>0.132781</td>\n",
              "      <td>0.134762</td>\n",
              "      <td>0.103184</td>\n",
              "      <td>0.111262</td>\n",
              "      <td>0.391691</td>\n",
              "      <td>0.130405</td>\n",
              "      <td>0.147444</td>\n",
              "      <td>0.146901</td>\n",
              "      <td>1.700563</td>\n",
              "      <td>Control</td>\n",
              "    </tr>\n",
              "    <tr>\n",
              "      <th>4</th>\n",
              "      <td>0.434940</td>\n",
              "      <td>0.617430</td>\n",
              "      <td>0.358802</td>\n",
              "      <td>2.365785</td>\n",
              "      <td>4.718679</td>\n",
              "      <td>0.213106</td>\n",
              "      <td>0.173627</td>\n",
              "      <td>2.134014</td>\n",
              "      <td>0.192158</td>\n",
              "      <td>1.504230</td>\n",
              "      <td>0.550960</td>\n",
              "      <td>0.286961</td>\n",
              "      <td>0.363502</td>\n",
              "      <td>0.277964</td>\n",
              "      <td>0.864912</td>\n",
              "      <td>0.507990</td>\n",
              "      <td>1.480059</td>\n",
              "      <td>2.013697</td>\n",
              "      <td>0.483416</td>\n",
              "      <td>0.687794</td>\n",
              "      <td>0.367531</td>\n",
              "      <td>0.355311</td>\n",
              "      <td>0.174836</td>\n",
              "      <td>1.324695</td>\n",
              "      <td>2.896334</td>\n",
              "      <td>1.359876</td>\n",
              "      <td>0.250705</td>\n",
              "      <td>0.273667</td>\n",
              "      <td>0.702699</td>\n",
              "      <td>0.154827</td>\n",
              "      <td>0.398550</td>\n",
              "      <td>2.456560</td>\n",
              "      <td>0.329126</td>\n",
              "      <td>0.408755</td>\n",
              "      <td>0.313415</td>\n",
              "      <td>0.691956</td>\n",
              "      <td>0.536860</td>\n",
              "      <td>0.360816</td>\n",
              "      <td>0.512824</td>\n",
              "      <td>0.351551</td>\n",
              "      <td>0.312206</td>\n",
              "      <td>0.419095</td>\n",
              "      <td>0.393447</td>\n",
              "      <td>0.160200</td>\n",
              "      <td>0.768113</td>\n",
              "      <td>0.185718</td>\n",
              "      <td>1.645807</td>\n",
              "      <td>0.296829</td>\n",
              "      <td>0.309345</td>\n",
              "      <td>1.206995</td>\n",
              "      <td>0.164650</td>\n",
              "      <td>0.160687</td>\n",
              "      <td>0.188221</td>\n",
              "      <td>0.104784</td>\n",
              "      <td>0.141983</td>\n",
              "      <td>0.167710</td>\n",
              "      <td>0.136838</td>\n",
              "      <td>0.116048</td>\n",
              "      <td>0.255528</td>\n",
              "      <td>0.140871</td>\n",
              "      <td>0.481227</td>\n",
              "      <td>0.251773</td>\n",
              "      <td>1.534835</td>\n",
              "      <td>2.009109</td>\n",
              "      <td>0.119524</td>\n",
              "      <td>0.997775</td>\n",
              "      <td>0.878668</td>\n",
              "      <td>0.205604</td>\n",
              "      <td>0.129954</td>\n",
              "      <td>0.134762</td>\n",
              "      <td>0.104784</td>\n",
              "      <td>0.110694</td>\n",
              "      <td>0.434154</td>\n",
              "      <td>0.118481</td>\n",
              "      <td>0.140314</td>\n",
              "      <td>0.148380</td>\n",
              "      <td>1.839730</td>\n",
              "      <td>Control</td>\n",
              "    </tr>\n",
              "  </tbody>\n",
              "</table>\n",
              "</div>"
            ],
            "text/plain": [
              "   DYRK1A_N   ITSN1_N    BDNF_N  ...  H3MeK4_N    CaNA_N  Genotype\n",
              "0  0.503644  0.747193  0.430175  ...  0.128186  1.675652   Control\n",
              "1  0.514617  0.689064  0.411770  ...  0.131119  1.743610   Control\n",
              "2  0.509183  0.730247  0.418309  ...  0.127431  1.926427   Control\n",
              "3  0.442107  0.617076  0.358626  ...  0.146901  1.700563   Control\n",
              "4  0.434940  0.617430  0.358802  ...  0.148380  1.839730   Control\n",
              "\n",
              "[5 rows x 78 columns]"
            ]
          },
          "metadata": {
            "tags": []
          },
          "execution_count": 166
        }
      ]
    },
    {
      "cell_type": "code",
      "metadata": {
        "id": "dQ3c1oTD0Nux",
        "colab_type": "code",
        "colab": {
          "base_uri": "https://localhost:8080/",
          "height": 35
        },
        "outputId": "3e79b7bb-227a-413e-8e4e-e01d02433378"
      },
      "source": [
        "Y = background_dataset.drop('Genotype', axis=1).values\n",
        "Y.shape"
      ],
      "execution_count": 167,
      "outputs": [
        {
          "output_type": "execute_result",
          "data": {
            "text/plain": [
              "(840, 77)"
            ]
          },
          "metadata": {
            "tags": []
          },
          "execution_count": 167
        }
      ]
    },
    {
      "cell_type": "code",
      "metadata": {
        "id": "DuH6ef5I8Ogx",
        "colab_type": "code",
        "colab": {
          "base_uri": "https://localhost:8080/",
          "height": 35
        },
        "outputId": "cf7d3b5f-4e72-4f3e-9a27-07e8e5a05754"
      },
      "source": [
        "target_dataset = dataset[(dataset.Behavior == 'C/S') & (dataset.Treatment == 'Saline')].drop(['MouseID', 'Treatment', 'class', 'Behavior'], axis=1)\n",
        "target_dataset.shape"
      ],
      "execution_count": 169,
      "outputs": [
        {
          "output_type": "execute_result",
          "data": {
            "text/plain": [
              "(240, 78)"
            ]
          },
          "metadata": {
            "tags": []
          },
          "execution_count": 169
        }
      ]
    },
    {
      "cell_type": "code",
      "metadata": {
        "id": "RU3jC_-t8eTY",
        "colab_type": "code",
        "colab": {
          "base_uri": "https://localhost:8080/",
          "height": 223
        },
        "outputId": "4528cae2-e369-4a7b-90bb-59d8953d7282"
      },
      "source": [
        "target_dataset.head()"
      ],
      "execution_count": 170,
      "outputs": [
        {
          "output_type": "execute_result",
          "data": {
            "text/html": [
              "<div>\n",
              "<style scoped>\n",
              "    .dataframe tbody tr th:only-of-type {\n",
              "        vertical-align: middle;\n",
              "    }\n",
              "\n",
              "    .dataframe tbody tr th {\n",
              "        vertical-align: top;\n",
              "    }\n",
              "\n",
              "    .dataframe thead th {\n",
              "        text-align: right;\n",
              "    }\n",
              "</style>\n",
              "<table border=\"1\" class=\"dataframe\">\n",
              "  <thead>\n",
              "    <tr style=\"text-align: right;\">\n",
              "      <th></th>\n",
              "      <th>DYRK1A_N</th>\n",
              "      <th>ITSN1_N</th>\n",
              "      <th>BDNF_N</th>\n",
              "      <th>NR1_N</th>\n",
              "      <th>NR2A_N</th>\n",
              "      <th>pAKT_N</th>\n",
              "      <th>pBRAF_N</th>\n",
              "      <th>pCAMKII_N</th>\n",
              "      <th>pCREB_N</th>\n",
              "      <th>pELK_N</th>\n",
              "      <th>pERK_N</th>\n",
              "      <th>pJNK_N</th>\n",
              "      <th>PKCA_N</th>\n",
              "      <th>pMEK_N</th>\n",
              "      <th>pNR1_N</th>\n",
              "      <th>pNR2A_N</th>\n",
              "      <th>pNR2B_N</th>\n",
              "      <th>pPKCAB_N</th>\n",
              "      <th>pRSK_N</th>\n",
              "      <th>AKT_N</th>\n",
              "      <th>BRAF_N</th>\n",
              "      <th>CAMKII_N</th>\n",
              "      <th>CREB_N</th>\n",
              "      <th>ELK_N</th>\n",
              "      <th>ERK_N</th>\n",
              "      <th>GSK3B_N</th>\n",
              "      <th>JNK_N</th>\n",
              "      <th>MEK_N</th>\n",
              "      <th>TRKA_N</th>\n",
              "      <th>RSK_N</th>\n",
              "      <th>APP_N</th>\n",
              "      <th>Bcatenin_N</th>\n",
              "      <th>SOD1_N</th>\n",
              "      <th>MTOR_N</th>\n",
              "      <th>P38_N</th>\n",
              "      <th>pMTOR_N</th>\n",
              "      <th>DSCR1_N</th>\n",
              "      <th>AMPKA_N</th>\n",
              "      <th>NR2B_N</th>\n",
              "      <th>pNUMB_N</th>\n",
              "      <th>RAPTOR_N</th>\n",
              "      <th>TIAM1_N</th>\n",
              "      <th>pP70S6_N</th>\n",
              "      <th>NUMB_N</th>\n",
              "      <th>P70S6_N</th>\n",
              "      <th>pGSK3B_N</th>\n",
              "      <th>pPKCG_N</th>\n",
              "      <th>CDK5_N</th>\n",
              "      <th>S6_N</th>\n",
              "      <th>ADARB1_N</th>\n",
              "      <th>AcetylH3K9_N</th>\n",
              "      <th>RRP1_N</th>\n",
              "      <th>BAX_N</th>\n",
              "      <th>ARC_N</th>\n",
              "      <th>ERBB4_N</th>\n",
              "      <th>nNOS_N</th>\n",
              "      <th>Tau_N</th>\n",
              "      <th>GFAP_N</th>\n",
              "      <th>GluR3_N</th>\n",
              "      <th>GluR4_N</th>\n",
              "      <th>IL1B_N</th>\n",
              "      <th>P3525_N</th>\n",
              "      <th>pCASP9_N</th>\n",
              "      <th>PSD95_N</th>\n",
              "      <th>SNCA_N</th>\n",
              "      <th>Ubiquitin_N</th>\n",
              "      <th>pGSK3B_Tyr216_N</th>\n",
              "      <th>SHH_N</th>\n",
              "      <th>BAD_N</th>\n",
              "      <th>BCL2_N</th>\n",
              "      <th>pS6_N</th>\n",
              "      <th>pCFOS_N</th>\n",
              "      <th>SYP_N</th>\n",
              "      <th>H3AcK18_N</th>\n",
              "      <th>EGR1_N</th>\n",
              "      <th>H3MeK4_N</th>\n",
              "      <th>CaNA_N</th>\n",
              "      <th>Genotype</th>\n",
              "    </tr>\n",
              "  </thead>\n",
              "  <tbody>\n",
              "    <tr>\n",
              "      <th>300</th>\n",
              "      <td>0.591618</td>\n",
              "      <td>0.814980</td>\n",
              "      <td>0.414980</td>\n",
              "      <td>2.706108</td>\n",
              "      <td>5.256264</td>\n",
              "      <td>0.260990</td>\n",
              "      <td>0.187249</td>\n",
              "      <td>4.163798</td>\n",
              "      <td>0.265894</td>\n",
              "      <td>1.665805</td>\n",
              "      <td>0.914579</td>\n",
              "      <td>0.382613</td>\n",
              "      <td>0.429068</td>\n",
              "      <td>0.294605</td>\n",
              "      <td>0.943825</td>\n",
              "      <td>1.171467</td>\n",
              "      <td>1.892644</td>\n",
              "      <td>2.590905</td>\n",
              "      <td>0.475078</td>\n",
              "      <td>0.777084</td>\n",
              "      <td>0.500223</td>\n",
              "      <td>0.361480</td>\n",
              "      <td>0.191618</td>\n",
              "      <td>2.003567</td>\n",
              "      <td>3.478556</td>\n",
              "      <td>1.419171</td>\n",
              "      <td>0.262327</td>\n",
              "      <td>0.320285</td>\n",
              "      <td>0.855461</td>\n",
              "      <td>0.180918</td>\n",
              "      <td>0.455640</td>\n",
              "      <td>2.708248</td>\n",
              "      <td>0.387873</td>\n",
              "      <td>0.507178</td>\n",
              "      <td>0.411592</td>\n",
              "      <td>0.799108</td>\n",
              "      <td>0.578957</td>\n",
              "      <td>0.476772</td>\n",
              "      <td>0.622381</td>\n",
              "      <td>0.416228</td>\n",
              "      <td>0.355060</td>\n",
              "      <td>0.499688</td>\n",
              "      <td>0.331342</td>\n",
              "      <td>0.190662</td>\n",
              "      <td>0.904982</td>\n",
              "      <td>0.169434</td>\n",
              "      <td>1.661613</td>\n",
              "      <td>0.299687</td>\n",
              "      <td>0.428592</td>\n",
              "      <td>2.264260</td>\n",
              "      <td>0.315668</td>\n",
              "      <td>0.141372</td>\n",
              "      <td>0.171793</td>\n",
              "      <td>0.121155</td>\n",
              "      <td>0.156342</td>\n",
              "      <td>0.169242</td>\n",
              "      <td>0.194368</td>\n",
              "      <td>0.115090</td>\n",
              "      <td>0.211745</td>\n",
              "      <td>0.128135</td>\n",
              "      <td>0.392058</td>\n",
              "      <td>0.316197</td>\n",
              "      <td>1.598026</td>\n",
              "      <td>1.903538</td>\n",
              "      <td>0.127990</td>\n",
              "      <td>1.105223</td>\n",
              "      <td>0.714705</td>\n",
              "      <td>0.216270</td>\n",
              "      <td>0.157914</td>\n",
              "      <td>0.107677</td>\n",
              "      <td>0.121155</td>\n",
              "      <td>0.096318</td>\n",
              "      <td>0.400048</td>\n",
              "      <td>0.154416</td>\n",
              "      <td>0.135307</td>\n",
              "      <td>0.20544</td>\n",
              "      <td>1.399615</td>\n",
              "      <td>Control</td>\n",
              "    </tr>\n",
              "    <tr>\n",
              "      <th>301</th>\n",
              "      <td>0.589807</td>\n",
              "      <td>0.840445</td>\n",
              "      <td>0.424325</td>\n",
              "      <td>2.803702</td>\n",
              "      <td>5.534373</td>\n",
              "      <td>0.269420</td>\n",
              "      <td>0.192834</td>\n",
              "      <td>4.284555</td>\n",
              "      <td>0.275985</td>\n",
              "      <td>1.849289</td>\n",
              "      <td>0.956236</td>\n",
              "      <td>0.395058</td>\n",
              "      <td>0.429613</td>\n",
              "      <td>0.351933</td>\n",
              "      <td>0.975292</td>\n",
              "      <td>1.219274</td>\n",
              "      <td>1.951951</td>\n",
              "      <td>2.641958</td>\n",
              "      <td>0.486780</td>\n",
              "      <td>0.806346</td>\n",
              "      <td>0.509482</td>\n",
              "      <td>0.385941</td>\n",
              "      <td>0.198669</td>\n",
              "      <td>2.106583</td>\n",
              "      <td>3.580325</td>\n",
              "      <td>1.495077</td>\n",
              "      <td>0.266229</td>\n",
              "      <td>0.331966</td>\n",
              "      <td>0.883479</td>\n",
              "      <td>0.182805</td>\n",
              "      <td>0.473104</td>\n",
              "      <td>2.804249</td>\n",
              "      <td>0.411834</td>\n",
              "      <td>0.534373</td>\n",
              "      <td>0.418946</td>\n",
              "      <td>0.866794</td>\n",
              "      <td>0.634209</td>\n",
              "      <td>0.514770</td>\n",
              "      <td>0.640135</td>\n",
              "      <td>0.442469</td>\n",
              "      <td>0.377279</td>\n",
              "      <td>0.523705</td>\n",
              "      <td>0.361780</td>\n",
              "      <td>0.190931</td>\n",
              "      <td>0.952909</td>\n",
              "      <td>0.169711</td>\n",
              "      <td>1.678407</td>\n",
              "      <td>0.302553</td>\n",
              "      <td>0.414418</td>\n",
              "      <td>2.305363</td>\n",
              "      <td>0.300421</td>\n",
              "      <td>0.150962</td>\n",
              "      <td>0.177075</td>\n",
              "      <td>0.125333</td>\n",
              "      <td>0.156097</td>\n",
              "      <td>0.174992</td>\n",
              "      <td>0.184584</td>\n",
              "      <td>0.121603</td>\n",
              "      <td>0.197859</td>\n",
              "      <td>0.127126</td>\n",
              "      <td>0.394555</td>\n",
              "      <td>0.323192</td>\n",
              "      <td>1.597113</td>\n",
              "      <td>1.987210</td>\n",
              "      <td>0.145875</td>\n",
              "      <td>1.093116</td>\n",
              "      <td>0.730294</td>\n",
              "      <td>0.220629</td>\n",
              "      <td>0.157914</td>\n",
              "      <td>0.108764</td>\n",
              "      <td>0.125333</td>\n",
              "      <td>0.112301</td>\n",
              "      <td>0.398866</td>\n",
              "      <td>0.163800</td>\n",
              "      <td>0.139480</td>\n",
              "      <td>0.20544</td>\n",
              "      <td>1.410978</td>\n",
              "      <td>Control</td>\n",
              "    </tr>\n",
              "    <tr>\n",
              "      <th>302</th>\n",
              "      <td>0.598902</td>\n",
              "      <td>0.886041</td>\n",
              "      <td>0.444760</td>\n",
              "      <td>2.918261</td>\n",
              "      <td>5.717712</td>\n",
              "      <td>0.290435</td>\n",
              "      <td>0.197162</td>\n",
              "      <td>4.497666</td>\n",
              "      <td>0.282288</td>\n",
              "      <td>1.998902</td>\n",
              "      <td>0.974645</td>\n",
              "      <td>0.405584</td>\n",
              "      <td>0.450801</td>\n",
              "      <td>0.332723</td>\n",
              "      <td>1.044119</td>\n",
              "      <td>1.291259</td>\n",
              "      <td>1.980778</td>\n",
              "      <td>2.747460</td>\n",
              "      <td>0.515973</td>\n",
              "      <td>0.847689</td>\n",
              "      <td>0.528238</td>\n",
              "      <td>0.390938</td>\n",
              "      <td>0.202105</td>\n",
              "      <td>2.185263</td>\n",
              "      <td>3.630938</td>\n",
              "      <td>1.510481</td>\n",
              "      <td>0.280366</td>\n",
              "      <td>0.342792</td>\n",
              "      <td>0.904165</td>\n",
              "      <td>0.184989</td>\n",
              "      <td>0.482563</td>\n",
              "      <td>2.854828</td>\n",
              "      <td>0.415011</td>\n",
              "      <td>0.550389</td>\n",
              "      <td>0.425355</td>\n",
              "      <td>0.909748</td>\n",
              "      <td>0.690709</td>\n",
              "      <td>0.543707</td>\n",
              "      <td>0.665812</td>\n",
              "      <td>0.465904</td>\n",
              "      <td>0.402105</td>\n",
              "      <td>0.560092</td>\n",
              "      <td>0.388650</td>\n",
              "      <td>0.184097</td>\n",
              "      <td>0.926148</td>\n",
              "      <td>0.178248</td>\n",
              "      <td>1.578564</td>\n",
              "      <td>0.291046</td>\n",
              "      <td>0.361649</td>\n",
              "      <td>2.347213</td>\n",
              "      <td>0.287704</td>\n",
              "      <td>0.153878</td>\n",
              "      <td>0.183911</td>\n",
              "      <td>0.118600</td>\n",
              "      <td>0.155039</td>\n",
              "      <td>0.165715</td>\n",
              "      <td>0.180476</td>\n",
              "      <td>0.117950</td>\n",
              "      <td>0.183401</td>\n",
              "      <td>0.128162</td>\n",
              "      <td>0.377942</td>\n",
              "      <td>0.304089</td>\n",
              "      <td>1.521701</td>\n",
              "      <td>1.851042</td>\n",
              "      <td>0.141809</td>\n",
              "      <td>0.998700</td>\n",
              "      <td>0.690387</td>\n",
              "      <td>0.230609</td>\n",
              "      <td>0.157914</td>\n",
              "      <td>0.108713</td>\n",
              "      <td>0.118600</td>\n",
              "      <td>0.109363</td>\n",
              "      <td>0.378731</td>\n",
              "      <td>0.154110</td>\n",
              "      <td>0.143156</td>\n",
              "      <td>0.20544</td>\n",
              "      <td>1.332266</td>\n",
              "      <td>Control</td>\n",
              "    </tr>\n",
              "    <tr>\n",
              "      <th>303</th>\n",
              "      <td>0.544844</td>\n",
              "      <td>0.726999</td>\n",
              "      <td>0.390846</td>\n",
              "      <td>2.521089</td>\n",
              "      <td>4.967323</td>\n",
              "      <td>0.275550</td>\n",
              "      <td>0.190962</td>\n",
              "      <td>4.576825</td>\n",
              "      <td>0.240209</td>\n",
              "      <td>1.591425</td>\n",
              "      <td>0.794090</td>\n",
              "      <td>0.369525</td>\n",
              "      <td>0.402086</td>\n",
              "      <td>0.302781</td>\n",
              "      <td>0.864774</td>\n",
              "      <td>1.030475</td>\n",
              "      <td>1.738702</td>\n",
              "      <td>2.353766</td>\n",
              "      <td>0.524450</td>\n",
              "      <td>0.707648</td>\n",
              "      <td>0.472190</td>\n",
              "      <td>0.376246</td>\n",
              "      <td>0.188876</td>\n",
              "      <td>1.476130</td>\n",
              "      <td>3.008575</td>\n",
              "      <td>1.434299</td>\n",
              "      <td>0.264426</td>\n",
              "      <td>0.305446</td>\n",
              "      <td>0.806373</td>\n",
              "      <td>0.186559</td>\n",
              "      <td>0.433372</td>\n",
              "      <td>2.526535</td>\n",
              "      <td>0.400232</td>\n",
              "      <td>0.509502</td>\n",
              "      <td>0.442758</td>\n",
              "      <td>0.811819</td>\n",
              "      <td>0.587949</td>\n",
              "      <td>0.453882</td>\n",
              "      <td>0.602433</td>\n",
              "      <td>0.417149</td>\n",
              "      <td>0.361530</td>\n",
              "      <td>0.483893</td>\n",
              "      <td>0.445886</td>\n",
              "      <td>0.182766</td>\n",
              "      <td>0.814199</td>\n",
              "      <td>0.161904</td>\n",
              "      <td>1.950057</td>\n",
              "      <td>0.297699</td>\n",
              "      <td>0.389430</td>\n",
              "      <td>2.000885</td>\n",
              "      <td>0.331837</td>\n",
              "      <td>0.142938</td>\n",
              "      <td>0.186117</td>\n",
              "      <td>0.117714</td>\n",
              "      <td>0.158111</td>\n",
              "      <td>0.159123</td>\n",
              "      <td>0.176950</td>\n",
              "      <td>0.115375</td>\n",
              "      <td>0.206094</td>\n",
              "      <td>0.121634</td>\n",
              "      <td>0.417942</td>\n",
              "      <td>0.301998</td>\n",
              "      <td>1.516816</td>\n",
              "      <td>1.951827</td>\n",
              "      <td>0.122519</td>\n",
              "      <td>1.078645</td>\n",
              "      <td>0.716020</td>\n",
              "      <td>0.210709</td>\n",
              "      <td>0.157914</td>\n",
              "      <td>0.109496</td>\n",
              "      <td>0.117714</td>\n",
              "      <td>0.099507</td>\n",
              "      <td>0.385510</td>\n",
              "      <td>0.177962</td>\n",
              "      <td>0.141927</td>\n",
              "      <td>0.20544</td>\n",
              "      <td>1.394424</td>\n",
              "      <td>Control</td>\n",
              "    </tr>\n",
              "    <tr>\n",
              "      <th>304</th>\n",
              "      <td>0.512785</td>\n",
              "      <td>0.730650</td>\n",
              "      <td>0.389176</td>\n",
              "      <td>2.514047</td>\n",
              "      <td>5.070519</td>\n",
              "      <td>0.271872</td>\n",
              "      <td>0.188625</td>\n",
              "      <td>4.548217</td>\n",
              "      <td>0.238390</td>\n",
              "      <td>1.689829</td>\n",
              "      <td>0.800826</td>\n",
              "      <td>0.370600</td>\n",
              "      <td>0.404541</td>\n",
              "      <td>0.312350</td>\n",
              "      <td>0.864350</td>\n",
              "      <td>1.064786</td>\n",
              "      <td>1.748538</td>\n",
              "      <td>2.388717</td>\n",
              "      <td>0.514735</td>\n",
              "      <td>0.705309</td>\n",
              "      <td>0.457975</td>\n",
              "      <td>0.372893</td>\n",
              "      <td>0.195734</td>\n",
              "      <td>1.476207</td>\n",
              "      <td>3.001720</td>\n",
              "      <td>1.417613</td>\n",
              "      <td>0.260291</td>\n",
              "      <td>0.306158</td>\n",
              "      <td>0.805642</td>\n",
              "      <td>0.167527</td>\n",
              "      <td>0.439743</td>\n",
              "      <td>2.543401</td>\n",
              "      <td>0.384016</td>\n",
              "      <td>0.520353</td>\n",
              "      <td>0.422314</td>\n",
              "      <td>0.809999</td>\n",
              "      <td>0.623438</td>\n",
              "      <td>0.483201</td>\n",
              "      <td>0.599817</td>\n",
              "      <td>0.421167</td>\n",
              "      <td>0.373696</td>\n",
              "      <td>0.500631</td>\n",
              "      <td>0.447196</td>\n",
              "      <td>0.181668</td>\n",
              "      <td>0.842102</td>\n",
              "      <td>0.163666</td>\n",
              "      <td>2.005071</td>\n",
              "      <td>0.301914</td>\n",
              "      <td>0.368027</td>\n",
              "      <td>2.022946</td>\n",
              "      <td>0.313197</td>\n",
              "      <td>0.155806</td>\n",
              "      <td>0.190543</td>\n",
              "      <td>0.124239</td>\n",
              "      <td>0.151052</td>\n",
              "      <td>0.163159</td>\n",
              "      <td>0.173745</td>\n",
              "      <td>0.125634</td>\n",
              "      <td>0.192761</td>\n",
              "      <td>0.124937</td>\n",
              "      <td>0.418991</td>\n",
              "      <td>0.326065</td>\n",
              "      <td>1.527257</td>\n",
              "      <td>1.942254</td>\n",
              "      <td>0.137044</td>\n",
              "      <td>1.047731</td>\n",
              "      <td>0.719574</td>\n",
              "      <td>0.222807</td>\n",
              "      <td>0.157914</td>\n",
              "      <td>0.114985</td>\n",
              "      <td>0.124239</td>\n",
              "      <td>0.114604</td>\n",
              "      <td>0.385776</td>\n",
              "      <td>0.184140</td>\n",
              "      <td>0.154982</td>\n",
              "      <td>0.20544</td>\n",
              "      <td>1.366823</td>\n",
              "      <td>Control</td>\n",
              "    </tr>\n",
              "  </tbody>\n",
              "</table>\n",
              "</div>"
            ],
            "text/plain": [
              "     DYRK1A_N   ITSN1_N    BDNF_N  ...  H3MeK4_N    CaNA_N  Genotype\n",
              "300  0.591618  0.814980  0.414980  ...   0.20544  1.399615   Control\n",
              "301  0.589807  0.840445  0.424325  ...   0.20544  1.410978   Control\n",
              "302  0.598902  0.886041  0.444760  ...   0.20544  1.332266   Control\n",
              "303  0.544844  0.726999  0.390846  ...   0.20544  1.394424   Control\n",
              "304  0.512785  0.730650  0.389176  ...   0.20544  1.366823   Control\n",
              "\n",
              "[5 rows x 78 columns]"
            ]
          },
          "metadata": {
            "tags": []
          },
          "execution_count": 170
        }
      ]
    },
    {
      "cell_type": "code",
      "metadata": {
        "id": "humtA9xr8iDK",
        "colab_type": "code",
        "colab": {
          "base_uri": "https://localhost:8080/",
          "height": 35
        },
        "outputId": "ce067047-20b3-40d2-d78f-368bd6a73c98"
      },
      "source": [
        "X = target_dataset.drop('Genotype', axis=1).values\n",
        "X.shape"
      ],
      "execution_count": 171,
      "outputs": [
        {
          "output_type": "execute_result",
          "data": {
            "text/plain": [
              "(240, 77)"
            ]
          },
          "metadata": {
            "tags": []
          },
          "execution_count": 171
        }
      ]
    },
    {
      "cell_type": "code",
      "metadata": {
        "id": "t0WTdmMz9L9L",
        "colab_type": "code",
        "colab": {
          "base_uri": "https://localhost:8080/",
          "height": 35
        },
        "outputId": "c87c7462-b244-47b3-f173-39a494cf63bc"
      },
      "source": [
        "alpha_set = np.arange(240, 250, 0.1)\n",
        "alpha_set.size"
      ],
      "execution_count": 181,
      "outputs": [
        {
          "output_type": "execute_result",
          "data": {
            "text/plain": [
              "100"
            ]
          },
          "metadata": {
            "tags": []
          },
          "execution_count": 181
        }
      ]
    },
    {
      "cell_type": "code",
      "metadata": {
        "id": "E6ncAQdG8wk1",
        "colab_type": "code",
        "colab": {}
      },
      "source": [
        "alpha_star, V_star = cPCA(X, Y, alpha_set, k=2, p=1)"
      ],
      "execution_count": 182,
      "outputs": []
    },
    {
      "cell_type": "code",
      "metadata": {
        "id": "qkEvM_5q9zdz",
        "colab_type": "code",
        "colab": {
          "base_uri": "https://localhost:8080/",
          "height": 35
        },
        "outputId": "cb917688-339f-4168-b7cc-84098b600dd5"
      },
      "source": [
        "alpha_star[0]"
      ],
      "execution_count": 183,
      "outputs": [
        {
          "output_type": "execute_result",
          "data": {
            "text/plain": [
              "244.89999999999972"
            ]
          },
          "metadata": {
            "tags": []
          },
          "execution_count": 183
        }
      ]
    },
    {
      "cell_type": "code",
      "metadata": {
        "id": "fwDhMxdv-5C6",
        "colab_type": "code",
        "colab": {
          "base_uri": "https://localhost:8080/",
          "height": 35
        },
        "outputId": "57cdbd02-9aa6-49af-b14e-81b210c5badb"
      },
      "source": [
        "V_star[0].shape"
      ],
      "execution_count": 184,
      "outputs": [
        {
          "output_type": "execute_result",
          "data": {
            "text/plain": [
              "(77, 2)"
            ]
          },
          "metadata": {
            "tags": []
          },
          "execution_count": 184
        }
      ]
    },
    {
      "cell_type": "code",
      "metadata": {
        "id": "AiLQE2u0_MXj",
        "colab_type": "code",
        "colab": {
          "base_uri": "https://localhost:8080/",
          "height": 35
        },
        "outputId": "825d8012-60fb-4874-84d8-9a5f55355e52"
      },
      "source": [
        "X_transformed = X.dot(V_star[0])\n",
        "X_transformed.shape"
      ],
      "execution_count": 185,
      "outputs": [
        {
          "output_type": "execute_result",
          "data": {
            "text/plain": [
              "(240, 2)"
            ]
          },
          "metadata": {
            "tags": []
          },
          "execution_count": 185
        }
      ]
    },
    {
      "cell_type": "code",
      "metadata": {
        "id": "GFL-PePB_bur",
        "colab_type": "code",
        "colab": {
          "base_uri": "https://localhost:8080/",
          "height": 203
        },
        "outputId": "8671d0e6-7526-4170-e400-88a7ae75c293"
      },
      "source": [
        "transformed_data = pd.DataFrame(X_transformed, columns=['x', 'y'])\n",
        "transformed_data['label'] = (target_dataset.Genotype.values == 'Ts65Dn')\n",
        "transformed_data.head()"
      ],
      "execution_count": 186,
      "outputs": [
        {
          "output_type": "execute_result",
          "data": {
            "text/html": [
              "<div>\n",
              "<style scoped>\n",
              "    .dataframe tbody tr th:only-of-type {\n",
              "        vertical-align: middle;\n",
              "    }\n",
              "\n",
              "    .dataframe tbody tr th {\n",
              "        vertical-align: top;\n",
              "    }\n",
              "\n",
              "    .dataframe thead th {\n",
              "        text-align: right;\n",
              "    }\n",
              "</style>\n",
              "<table border=\"1\" class=\"dataframe\">\n",
              "  <thead>\n",
              "    <tr style=\"text-align: right;\">\n",
              "      <th></th>\n",
              "      <th>x</th>\n",
              "      <th>y</th>\n",
              "      <th>label</th>\n",
              "    </tr>\n",
              "  </thead>\n",
              "  <tbody>\n",
              "    <tr>\n",
              "      <th>0</th>\n",
              "      <td>0.008119</td>\n",
              "      <td>-5.391515e-15</td>\n",
              "      <td>False</td>\n",
              "    </tr>\n",
              "    <tr>\n",
              "      <th>1</th>\n",
              "      <td>0.002158</td>\n",
              "      <td>-3.654951e-15</td>\n",
              "      <td>False</td>\n",
              "    </tr>\n",
              "    <tr>\n",
              "      <th>2</th>\n",
              "      <td>0.007927</td>\n",
              "      <td>-5.143684e-15</td>\n",
              "      <td>False</td>\n",
              "    </tr>\n",
              "    <tr>\n",
              "      <th>3</th>\n",
              "      <td>0.002620</td>\n",
              "      <td>-4.674824e-15</td>\n",
              "      <td>False</td>\n",
              "    </tr>\n",
              "    <tr>\n",
              "      <th>4</th>\n",
              "      <td>-0.000849</td>\n",
              "      <td>-3.623073e-15</td>\n",
              "      <td>False</td>\n",
              "    </tr>\n",
              "  </tbody>\n",
              "</table>\n",
              "</div>"
            ],
            "text/plain": [
              "          x             y  label\n",
              "0  0.008119 -5.391515e-15  False\n",
              "1  0.002158 -3.654951e-15  False\n",
              "2  0.007927 -5.143684e-15  False\n",
              "3  0.002620 -4.674824e-15  False\n",
              "4 -0.000849 -3.623073e-15  False"
            ]
          },
          "metadata": {
            "tags": []
          },
          "execution_count": 186
        }
      ]
    },
    {
      "cell_type": "code",
      "metadata": {
        "id": "2FU0o7Xr_63_",
        "colab_type": "code",
        "colab": {
          "base_uri": "https://localhost:8080/",
          "height": 619
        },
        "outputId": "0bc11685-01b7-4e8b-bb11-1a9755efe06c"
      },
      "source": [
        "plt.figure(figsize=(10, 10))\n",
        "plt.scatter(transformed_data.x, transformed_data.y, c=transformed_data.label)\n",
        "plt.legend()"
      ],
      "execution_count": 187,
      "outputs": [
        {
          "output_type": "execute_result",
          "data": {
            "text/plain": [
              "<matplotlib.legend.Legend at 0x7ffb42c939b0>"
            ]
          },
          "metadata": {
            "tags": []
          },
          "execution_count": 187
        },
        {
          "output_type": "display_data",
          "data": {
            "image/png": "[encoded data removed]",
            "text/plain": [
              "<Figure size 720x720 with 1 Axes>"
            ]
          },
          "metadata": {
            "tags": [],
            "needs_background": "light"
          }
        }
      ]
    },
    {
      "cell_type": "code",
      "metadata": {
        "id": "E7HFLGvnAmBV",
        "colab_type": "code",
        "colab": {}
      },
      "source": [
        "mnist = fetch_openml('mnist_784')"
      ],
      "execution_count": 191,
      "outputs": []
    },
    {
      "cell_type": "code",
      "metadata": {
        "id": "OhM28LXwF1kC",
        "colab_type": "code",
        "colab": {}
      },
      "source": [
        "zero_one_data = mnist.data[(mnist.target == '0') | (mnist.target == '1')] / 255\n",
        "zero_one_target = mnist.target[(mnist.target == '0') | (mnist.target == '1')]"
      ],
      "execution_count": 201,
      "outputs": []
    },
    {
      "cell_type": "code",
      "metadata": {
        "id": "l1WJAx41GLBY",
        "colab_type": "code",
        "colab": {
          "base_uri": "https://localhost:8080/",
          "height": 35
        },
        "outputId": "b386eb60-7193-40e2-954b-a2f2b607bda4"
      },
      "source": [
        "zero_one_data.shape"
      ],
      "execution_count": 202,
      "outputs": [
        {
          "output_type": "execute_result",
          "data": {
            "text/plain": [
              "(14780, 784)"
            ]
          },
          "metadata": {
            "tags": []
          },
          "execution_count": 202
        }
      ]
    },
    {
      "cell_type": "code",
      "metadata": {
        "id": "iBDgw6AZHIz2",
        "colab_type": "code",
        "colab": {
          "base_uri": "https://localhost:8080/",
          "height": 35
        },
        "outputId": "bb41b835-e790-4cfa-91b1-86053faf527a"
      },
      "source": [
        "zero_one_target.shape"
      ],
      "execution_count": 203,
      "outputs": [
        {
          "output_type": "execute_result",
          "data": {
            "text/plain": [
              "(14780,)"
            ]
          },
          "metadata": {
            "tags": []
          },
          "execution_count": 203
        }
      ]
    },
    {
      "cell_type": "code",
      "metadata": {
        "id": "_swMXQb6HKu1",
        "colab_type": "code",
        "colab": {}
      },
      "source": [
        "noises = np.random.uniform(0, 1, zero_one_data.shape)"
      ],
      "execution_count": 229,
      "outputs": []
    },
    {
      "cell_type": "code",
      "metadata": {
        "id": "lO9KExUcHXhx",
        "colab_type": "code",
        "colab": {}
      },
      "source": [
        "X = np.clip(zero_one_data + noises, 0, 1)"
      ],
      "execution_count": 230,
      "outputs": []
    },
    {
      "cell_type": "code",
      "metadata": {
        "id": "-avjKKmLI76u",
        "colab_type": "code",
        "colab": {}
      },
      "source": [
        "def draw(images, texts=None, columns=1, rows=1):\n",
        "    fig = plt.figure(figsize=(3 * columns, 3 * rows))\n",
        "\n",
        "    for i in range(columns * rows):\n",
        "        ax = fig.add_subplot(rows, columns, i + 1)\n",
        "        if texts is not None:\n",
        "            ax.set_title(texts[i])\n",
        "        ax.set_aspect('equal')\n",
        "        ax.get_xaxis().set_visible(False)\n",
        "        ax.get_yaxis().set_visible(False)\n",
        "        plt.imshow(images[i].reshape(28, 28) * 255)\n",
        "\n",
        "    cax = fig.add_axes([0.12, 0.1, 0.78, 0.8])\n",
        "    cax.get_xaxis().set_visible(False)\n",
        "    cax.get_yaxis().set_visible(False)\n",
        "    cax.set_frame_on(False)\n",
        "    plt.show()"
      ],
      "execution_count": 221,
      "outputs": []
    },
    {
      "cell_type": "code",
      "metadata": {
        "id": "W2fCHZrCJV_H",
        "colab_type": "code",
        "colab": {
          "base_uri": "https://localhost:8080/",
          "height": 722
        },
        "outputId": "38826529-353b-484a-d4c6-b1484bc9699e"
      },
      "source": [
        "images = X[np.random.choice(np.arange(len(X)), size=20)]\n",
        "draw(images, columns=5, rows=4)"
      ],
      "execution_count": 231,
      "outputs": [
        {
          "output_type": "display_data",
          "data": {
            "image/png": "[encoded data removed]",
            "text/plain": [
              "<Figure size 1080x864 with 21 Axes>"
            ]
          },
          "metadata": {
            "tags": [],
            "needs_background": "light"
          }
        }
      ]
    },
    {
      "cell_type": "code",
      "metadata": {
        "id": "dgltj3c8JnTa",
        "colab_type": "code",
        "colab": {
          "base_uri": "https://localhost:8080/",
          "height": 722
        },
        "outputId": "e508deba-8765-41bf-f497-9dc2128f7335"
      },
      "source": [
        "images = noises[np.random.choice(np.arange(len(noises)), size=20)]\n",
        "draw(images, columns=5, rows=4)"
      ],
      "execution_count": 232,
      "outputs": [
        {
          "output_type": "display_data",
          "data": {
            "image/png": "[encoded data removed]",
            "text/plain": [
              "<Figure size 1080x864 with 21 Axes>"
            ]
          },
          "metadata": {
            "tags": [],
            "needs_background": "light"
          }
        }
      ]
    },
    {
      "cell_type": "code",
      "metadata": {
        "id": "zF4ciakSLjkc",
        "colab_type": "code",
        "colab": {
          "base_uri": "https://localhost:8080/",
          "height": 35
        },
        "outputId": "23d1c6a3-26bb-46f9-ced6-cf226c14f0a6"
      },
      "source": [
        "alpha_set = np.arange(417, 420, 0.3)\n",
        "alpha_set.size"
      ],
      "execution_count": 242,
      "outputs": [
        {
          "output_type": "execute_result",
          "data": {
            "text/plain": [
              "10"
            ]
          },
          "metadata": {
            "tags": []
          },
          "execution_count": 242
        }
      ]
    },
    {
      "cell_type": "code",
      "metadata": {
        "id": "-f9J4HERLPuR",
        "colab_type": "code",
        "colab": {}
      },
      "source": [
        "alpha_star, V_star = cPCA(X, noises, alpha_set, k=2, p=1)"
      ],
      "execution_count": 243,
      "outputs": []
    },
    {
      "cell_type": "code",
      "metadata": {
        "id": "I2wCG37-LqRa",
        "colab_type": "code",
        "colab": {
          "base_uri": "https://localhost:8080/",
          "height": 35
        },
        "outputId": "320be878-a1ee-4593-8f8c-a5f58fd9192d"
      },
      "source": [
        "alpha_star[0]"
      ],
      "execution_count": 244,
      "outputs": [
        {
          "output_type": "execute_result",
          "data": {
            "text/plain": [
              "418.20000000000005"
            ]
          },
          "metadata": {
            "tags": []
          },
          "execution_count": 244
        }
      ]
    },
    {
      "cell_type": "code",
      "metadata": {
        "id": "6kIBVTbxLz9J",
        "colab_type": "code",
        "colab": {
          "base_uri": "https://localhost:8080/",
          "height": 35
        },
        "outputId": "f7229b56-7b1d-4a44-dc9e-bbcad99b7f67"
      },
      "source": [
        "X_transformed = X.dot(V_star[0])\n",
        "X_transformed.shape"
      ],
      "execution_count": 245,
      "outputs": [
        {
          "output_type": "execute_result",
          "data": {
            "text/plain": [
              "(14780, 2)"
            ]
          },
          "metadata": {
            "tags": []
          },
          "execution_count": 245
        }
      ]
    },
    {
      "cell_type": "code",
      "metadata": {
        "id": "lGHY6WrpMawy",
        "colab_type": "code",
        "colab": {
          "base_uri": "https://localhost:8080/",
          "height": 203
        },
        "outputId": "893e133f-f3e8-4e60-b4b8-13fb5b2ce31a"
      },
      "source": [
        "transformed_data = pd.DataFrame(X_transformed, columns=['x', 'y'])\n",
        "transformed_data['label'] = ('10' + zero_one_target).astype('int32')\n",
        "transformed_data.head()"
      ],
      "execution_count": 255,
      "outputs": [
        {
          "output_type": "execute_result",
          "data": {
            "text/html": [
              "<div>\n",
              "<style scoped>\n",
              "    .dataframe tbody tr th:only-of-type {\n",
              "        vertical-align: middle;\n",
              "    }\n",
              "\n",
              "    .dataframe tbody tr th {\n",
              "        vertical-align: top;\n",
              "    }\n",
              "\n",
              "    .dataframe thead th {\n",
              "        text-align: right;\n",
              "    }\n",
              "</style>\n",
              "<table border=\"1\" class=\"dataframe\">\n",
              "  <thead>\n",
              "    <tr style=\"text-align: right;\">\n",
              "      <th></th>\n",
              "      <th>x</th>\n",
              "      <th>y</th>\n",
              "      <th>label</th>\n",
              "    </tr>\n",
              "  </thead>\n",
              "  <tbody>\n",
              "    <tr>\n",
              "      <th>0</th>\n",
              "      <td>2.103007</td>\n",
              "      <td>2.192056</td>\n",
              "      <td>100</td>\n",
              "    </tr>\n",
              "    <tr>\n",
              "      <th>1</th>\n",
              "      <td>1.123786</td>\n",
              "      <td>1.633574</td>\n",
              "      <td>101</td>\n",
              "    </tr>\n",
              "    <tr>\n",
              "      <th>2</th>\n",
              "      <td>0.805976</td>\n",
              "      <td>1.624644</td>\n",
              "      <td>101</td>\n",
              "    </tr>\n",
              "    <tr>\n",
              "      <th>3</th>\n",
              "      <td>1.242671</td>\n",
              "      <td>1.219178</td>\n",
              "      <td>101</td>\n",
              "    </tr>\n",
              "    <tr>\n",
              "      <th>4</th>\n",
              "      <td>1.075998</td>\n",
              "      <td>1.184791</td>\n",
              "      <td>101</td>\n",
              "    </tr>\n",
              "  </tbody>\n",
              "</table>\n",
              "</div>"
            ],
            "text/plain": [
              "          x         y  label\n",
              "0  2.103007  2.192056    100\n",
              "1  1.123786  1.633574    101\n",
              "2  0.805976  1.624644    101\n",
              "3  1.242671  1.219178    101\n",
              "4  1.075998  1.184791    101"
            ]
          },
          "metadata": {
            "tags": []
          },
          "execution_count": 255
        }
      ]
    },
    {
      "cell_type": "code",
      "metadata": {
        "id": "MxN6g7WiMkqg",
        "colab_type": "code",
        "colab": {
          "base_uri": "https://localhost:8080/",
          "height": 609
        },
        "outputId": "5a029ab0-4479-4cef-c854-237f6defa6a7"
      },
      "source": [
        "plt.figure(figsize=(10, 10))\n",
        "plt.scatter(transformed_data.x, transformed_data.y, c=transformed_data.label)\n",
        "plt.legend()"
      ],
      "execution_count": 256,
      "outputs": [
        {
          "output_type": "execute_result",
          "data": {
            "text/plain": [
              "<matplotlib.legend.Legend at 0x7ffb4229b3c8>"
            ]
          },
          "metadata": {
            "tags": []
          },
          "execution_count": 256
        },
        {
          "output_type": "display_data",
          "data": {
            "image/png": "[encoded data removed]",
            "text/plain": [
              "<Figure size 720x720 with 1 Axes>"
            ]
          },
          "metadata": {
            "tags": [],
            "needs_background": "light"
          }
        }
      ]
    },
    {
      "cell_type": "code",
      "metadata": {
        "id": "Z3eXt2v0Mnqt",
        "colab_type": "code",
        "colab": {
          "base_uri": "https://localhost:8080/",
          "height": 35
        },
        "outputId": "a92851f7-72f8-4c93-b56c-304498627648"
      },
      "source": [
        "sum(transformed_data.label == '0')"
      ],
      "execution_count": 249,
      "outputs": [
        {
          "output_type": "execute_result",
          "data": {
            "text/plain": [
              "6903"
            ]
          },
          "metadata": {
            "tags": []
          },
          "execution_count": 249
        }
      ]
    },
    {
      "cell_type": "code",
      "metadata": {
        "id": "fwG8h1MUMzpY",
        "colab_type": "code",
        "colab": {}
      },
      "source": [
        ""
      ],
      "execution_count": null,
      "outputs": []
    }
  ]
}