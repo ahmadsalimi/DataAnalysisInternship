{
  "nbformat": 4,
  "nbformat_minor": 0,
  "metadata": {
    "colab": {
      "name": "cPCA",
      "provenance": [],
      "authorship_tag": "ABX9TyO8GS6jS1sJ3hnvUcaIUL8f"
    },
    "kernelspec": {
      "name": "python3",
      "display_name": "Python 3"
    }
  },
  "cells": [
    {
      "cell_type": "code",
      "metadata": {
        "id": "UK0i-mVUhjl6",
        "colab_type": "code",
        "colab": {}
      },
      "source": [
        "import numpy as np\n",
        "import itertools\n",
        "from scipy.special import comb\n",
        "from scipy.linalg import subspace_angles\n",
        "from scipy.optimize import minimize\n",
        "from sklearn.cluster import SpectralClustering"
      ],
      "execution_count": 309,
      "outputs": []
    },
    {
      "cell_type": "code",
      "metadata": {
        "id": "8pvizgFqtwpm",
        "colab_type": "code",
        "colab": {}
      },
      "source": [
        "def single_cPCA(X:np.ndarray, Y:np.ndarray, alpha, k):\n",
        "    Cx = np.cov(X.T)\n",
        "    Cy = np.cov(Y.T)\n",
        "\n",
        "    C = Cx - alpha * Cy\n",
        "    _, V = np.linalg.eigh(C)\n",
        "\n",
        "    return V[:, -k:]"
      ],
      "execution_count": 47,
      "outputs": []
    },
    {
      "cell_type": "code",
      "metadata": {
        "id": "Q7wByadeDZme",
        "colab_type": "code",
        "colab": {}
      },
      "source": [
        "def affinity(combination):\n",
        "    combination = combination.reshape(2, d, k)\n",
        "    return np.prod(np.cos(subspace_angles(*combination)))\n",
        "\n",
        "def v_affinity(combinations):\n",
        "    return np.apply_along_axis(lambda combination: affinity(combination), 1, combinations)"
      ],
      "execution_count": 179,
      "outputs": []
    },
    {
      "cell_type": "code",
      "metadata": {
        "id": "9PrONcemtZ4o",
        "colab_type": "code",
        "colab": {}
      },
      "source": [
        "def cPCA(X:np.ndarray, Y:np.ndarray, alpha_set, k, p):\n",
        "    # check d value:\n",
        "    assert X.shape[1] == Y.shape[1]\n",
        "\n",
        "    d = X.shape[1]\n",
        "    V_set = []\n",
        "\n",
        "    # calculate cPCA for each alpha\n",
        "    for alpha in alpha_set:\n",
        "        V = single_cPCA(X, Y, alpha, k)\n",
        "        V_set.append(V)\n",
        "    V_set = np.array(V_set)\n",
        "\n",
        "    # calculate affinity Matrix for each pair of Vs\n",
        "    combination_indices = np.array(list(itertools.combinations_with_replacement(range(len(V_set)), 2)))\n",
        "    combinations = V_set[combination_indices].reshape(len(combination_indices), 2 * d * k)\n",
        "    aff = v_affinity(combinations)\n",
        "\n",
        "    rows = combination_indices[:, 0]\n",
        "    cols = combination_indices[:, 1]\n",
        "    D = np.zeros((len(V_set), len(V_set)))\n",
        "    D[rows, cols] = D[cols, rows] = aff\n",
        "\n",
        "    # cluster Vs with respect to affinities\n",
        "    clustering = SpectralClustering(n_clusters=p, affinity='precomputed').fit(D)\n",
        "\n",
        "    # find best V and alpha in each cluster\n",
        "    V_star = np.zeros((p, d, k))\n",
        "    alpha_star = np.zeros(p)\n",
        "    for cluster in range(p):\n",
        "        cluster_members = np.where(clustering.labels_ == cluster)[0]\n",
        "        sums = np.sum(D[cluster_members, :][:, cluster_members], axis=1)\n",
        "        V_star[cluster] = V_set[cluster_members[np.argmax(sums)]]\n",
        "        alpha_star[cluster] = alpha_set[cluster_members[np.argmax(sums)]]\n",
        "    \n",
        "    return alpha_star, V_star"
      ],
      "execution_count": 291,
      "outputs": []
    },
    {
      "cell_type": "code",
      "metadata": {
        "id": "RMnCC_5nhmrk",
        "colab_type": "code",
        "colab": {}
      },
      "source": [
        "n = 1000\n",
        "m = 100\n",
        "d = 50\n",
        "k = 20\n",
        "p = 2"
      ],
      "execution_count": 296,
      "outputs": []
    },
    {
      "cell_type": "code",
      "metadata": {
        "id": "dTFOlytNiYwI",
        "colab_type": "code",
        "colab": {
          "base_uri": "https://localhost:8080/",
          "height": 35
        },
        "outputId": "b871fb0e-b2cf-4b1b-bc22-74e0188e191e"
      },
      "source": [
        "X = np.random.uniform(-10, 10, (n, d))\n",
        "X.shape"
      ],
      "execution_count": 297,
      "outputs": [
        {
          "output_type": "execute_result",
          "data": {
            "text/plain": [
              "(1000, 50)"
            ]
          },
          "metadata": {
            "tags": []
          },
          "execution_count": 297
        }
      ]
    },
    {
      "cell_type": "code",
      "metadata": {
        "id": "P9jA0C-OioxS",
        "colab_type": "code",
        "colab": {
          "base_uri": "https://localhost:8080/",
          "height": 35
        },
        "outputId": "e73a76cc-2cb3-4ece-e98e-b50b20c3bd3c"
      },
      "source": [
        "Y = np.random.uniform(-10, 10, (m, d))\n",
        "Y.shape"
      ],
      "execution_count": 298,
      "outputs": [
        {
          "output_type": "execute_result",
          "data": {
            "text/plain": [
              "(100, 50)"
            ]
          },
          "metadata": {
            "tags": []
          },
          "execution_count": 298
        }
      ]
    },
    {
      "cell_type": "code",
      "metadata": {
        "id": "hBOr-GlgxYW-",
        "colab_type": "code",
        "colab": {
          "base_uri": "https://localhost:8080/",
          "height": 35
        },
        "outputId": "a368df3c-49c5-4322-da98-0f456440e5f0"
      },
      "source": [
        "alpha_set = np.arange(0.01, 1, 0.03)\n",
        "alpha_set.shape"
      ],
      "execution_count": 302,
      "outputs": [
        {
          "output_type": "execute_result",
          "data": {
            "text/plain": [
              "(33,)"
            ]
          },
          "metadata": {
            "tags": []
          },
          "execution_count": 302
        }
      ]
    },
    {
      "cell_type": "code",
      "metadata": {
        "id": "zjWBSts7u0wl",
        "colab_type": "code",
        "colab": {}
      },
      "source": [
        "alpha_star, V_star = cPCA(X, Y, alpha_set, k, p)"
      ],
      "execution_count": 306,
      "outputs": []
    },
    {
      "cell_type": "code",
      "metadata": {
        "id": "CNzaAindvBPU",
        "colab_type": "code",
        "colab": {
          "base_uri": "https://localhost:8080/",
          "height": 35
        },
        "outputId": "3012da4c-4fc9-4ad7-bab0-011403796b34"
      },
      "source": [
        "V_star.shape"
      ],
      "execution_count": 307,
      "outputs": [
        {
          "output_type": "execute_result",
          "data": {
            "text/plain": [
              "(2, 50, 20)"
            ]
          },
          "metadata": {
            "tags": []
          },
          "execution_count": 307
        }
      ]
    },
    {
      "cell_type": "code",
      "metadata": {
        "id": "2xqfh7vvcoG1",
        "colab_type": "code",
        "colab": {
          "base_uri": "https://localhost:8080/",
          "height": 35
        },
        "outputId": "9aceb961-2d59-489c-f41a-d71f1808d761"
      },
      "source": [
        "alpha_star.shape"
      ],
      "execution_count": 308,
      "outputs": [
        {
          "output_type": "execute_result",
          "data": {
            "text/plain": [
              "(2,)"
            ]
          },
          "metadata": {
            "tags": []
          },
          "execution_count": 308
        }
      ]
    },
    {
      "cell_type": "code",
      "metadata": {
        "id": "0XENVt_fqIok",
        "colab_type": "code",
        "colab": {}
      },
      "source": [
        ""
      ],
      "execution_count": null,
      "outputs": []
    }
  ]
}