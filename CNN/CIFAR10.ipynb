{
  "nbformat": 4,
  "nbformat_minor": 0,
  "metadata": {
    "colab": {
      "name": "CIFAR10",
      "provenance": [],
      "collapsed_sections": [],
      "toc_visible": true,
      "authorship_tag": "ABX9TyNuNpKdZ3hSHYMfR3+oV0k+"
    },
    "kernelspec": {
      "name": "python3",
      "display_name": "Python 3"
    },
    "accelerator": "GPU"
  },
  "cells": [
    {
      "cell_type": "code",
      "metadata": {
        "id": "K9j6XomVyKDr",
        "colab_type": "code",
        "colab": {}
      },
      "source": [
        "import numpy as np\n",
        "import torch\n",
        "import sklearn\n",
        "from sklearn.model_selection import train_test_split\n",
        "from time import time\n",
        "import matplotlib.pyplot as plt\n",
        "from keras.datasets import cifar10"
      ],
      "execution_count": 1,
      "outputs": []
    },
    {
      "cell_type": "code",
      "metadata": {
        "id": "27pX20yJ1D3j",
        "colab_type": "code",
        "colab": {}
      },
      "source": [
        "class Cifar10Classifier(torch.nn.Module):\n",
        "\n",
        "    def __init__(self):\n",
        "        super(Cifar10Classifier, self).__init__()\n",
        "\n",
        "        self.features = torch.nn.Sequential(                                                        # inp: B 3 32 32\n",
        "            torch.nn.BatchNorm2d(num_features=3),\n",
        "            torch.nn.Conv2d(in_channels=3, out_channels=64, kernel_size=3, stride=1, padding=1),    # B 96 32 32\n",
        "            torch.nn.ReLU(),\n",
        "            torch.nn.Conv2d(in_channels=64, out_channels=64, kernel_size=3, stride=1, padding=1),   # B 96 32 32\n",
        "            torch.nn.ReLU(),\n",
        "            torch.nn.MaxPool2d(kernel_size=2, stride=2, padding=0),                                 # B 96 16 16\n",
        "            torch.nn.Dropout2d(0.2),\n",
        "            torch.nn.BatchNorm2d(num_features=64),\n",
        "            torch.nn.Conv2d(in_channels=64, out_channels=128, kernel_size=3, stride=1, padding=1),  # B 192 16 16\n",
        "            torch.nn.ReLU(),\n",
        "            torch.nn.Conv2d(in_channels=128, out_channels=128, kernel_size=3, stride=1, padding=1), # B 192 16 16\n",
        "            torch.nn.ReLU(),\n",
        "            torch.nn.MaxPool2d(kernel_size=2, stride=2, padding=0),                                 # B 192 8 8\n",
        "            torch.nn.Dropout2d(0.2),\n",
        "            torch.nn.BatchNorm2d(num_features=128),\n",
        "            torch.nn.Conv2d(in_channels=128, out_channels=256, kernel_size=3, stride=1, padding=1), # B 384 8 8\n",
        "            torch.nn.ReLU(),\n",
        "            torch.nn.Conv2d(in_channels=256, out_channels=256, kernel_size=3, stride=1, padding=1), # B 384 8 8\n",
        "            torch.nn.ReLU(),\n",
        "            torch.nn.MaxPool2d(kernel_size=2, stride=2, padding=0),                                 # B 384 4 4\n",
        "            torch.nn.Dropout2d(0.2)\n",
        "        )\n",
        "\n",
        "        self.decider = torch.nn.Sequential(\n",
        "            torch.nn.Dropout(0.5),\n",
        "            torch.nn.Linear(4 * 4 * 256, 128),                                                      # B 4 * 4 * 384\n",
        "            torch.nn.ReLU(),\n",
        "            torch.nn.Linear(128, 10)                                                                # B 10\n",
        "        )\n",
        "\n",
        "        self.log_prob_cal = torch.nn.LogSoftmax(dim=-1)\n",
        "\n",
        "        self.optimizer = torch.optim.Adam(filter(\n",
        "            lambda p: p.requires_grad, self.parameters()), \n",
        "            lr=0.001\n",
        "        )\n",
        "\n",
        "        self.batch_x_placeholder = torch.zeros(size=[1, 3, 32, 32], dtype=torch.float32, device=torch.device('cuda:0'))\n",
        "        self.batch_y_placeholder = torch.zeros(size=[1], dtype=torch.long, device=torch.device('cuda:0'))\n",
        "    \n",
        "    def forward(self, b_x, b_y=None):\n",
        "        conv_features = self.features(b_x)\n",
        "        class_scores = self.decider(conv_features.flatten(1))\n",
        "        log_probs = self.log_prob_cal(class_scores)\n",
        "        loss = -1 * torch.mean(log_probs[torch.arange(b_x.shape[0]), b_y])\n",
        "        decision = torch.argmax(log_probs, dim=-1)\n",
        "        return decision, loss\n",
        "    \n",
        "    def train_epoch(self, X_train, y_train, batch_size):\n",
        "        self.train()\n",
        "\n",
        "        iters_per_epoch = int(np.ceil(1.0 * len(X_train) / batch_size))\n",
        "\n",
        "        # shuffling\n",
        "        indices = np.arange(len(X_train))\n",
        "\n",
        "        epoch_loss = 0\n",
        "        tps = 0\n",
        "\n",
        "        # iterate over training set\n",
        "        for iter in range(iters_per_epoch):\n",
        "            batch_indices = indices[iter * batch_size: min(len(indices), (iter + 1) * batch_size)]\n",
        "\n",
        "            # reshape placeholder\n",
        "            if len(batch_indices) != len(self.batch_x_placeholder):\n",
        "                self.batch_x_placeholder.resize_([len(batch_indices), 3, 32, 32])\n",
        "                self.batch_y_placeholder.resize_([len(batch_indices)])\n",
        "\n",
        "            self.batch_x_placeholder.copy_(torch.Tensor(X_train[batch_indices, :, :, :]))\n",
        "            self.batch_y_placeholder.copy_(torch.Tensor(y_train[batch_indices].astype(int)))\n",
        "\n",
        "            b_decision, b_loss = self(self.batch_x_placeholder, self.batch_y_placeholder)\n",
        "            b_decision = b_decision.cpu().numpy()\n",
        "\n",
        "            epoch_loss += float(b_loss) / iters_per_epoch\n",
        "            tps += np.sum(y_train[batch_indices].astype(int) == b_decision)\n",
        "\n",
        "            b_loss.backward()\n",
        "\n",
        "            self.optimizer.step()\n",
        "            self.optimizer.zero_grad()\n",
        "            \n",
        "        epoch_train_accuracy = tps * 100.0 / len(X_train)\n",
        "\n",
        "        return epoch_loss, epoch_train_accuracy\n",
        "    \n",
        "    def evaluate(self, X, y, batch_size):\n",
        "        with torch.no_grad():\n",
        "            self.eval()\n",
        "\n",
        "            iters_per_epoch = int(np.ceil(1.0 * len(X) / batch_size))\n",
        "\n",
        "            indices = np.arange(len(X))\n",
        "            np.random.shuffle(indices)\n",
        "\n",
        "            loss = 0\n",
        "            tps = 0\n",
        "\n",
        "            for iter in range(iters_per_epoch):\n",
        "                batch_indices = indices[iter * batch_size: min(len(indices), (iter + 1) * batch_size)]\n",
        "\n",
        "                # reshape placeholder\n",
        "                if len(batch_indices) != len(self.batch_x_placeholder):\n",
        "                    self.batch_x_placeholder.resize_([len(batch_indices), 3, 32, 32])\n",
        "                    self.batch_y_placeholder.resize_([len(batch_indices)])\n",
        "                    \n",
        "                self.batch_x_placeholder.copy_(torch.Tensor(X[batch_indices]))\n",
        "                self.batch_y_placeholder.copy_(torch.Tensor(y[batch_indices].astype(int)))\n",
        "\n",
        "                b_decision, b_loss = self(self.batch_x_placeholder, self.batch_y_placeholder)\n",
        "                b_decision = b_decision.cpu().numpy()\n",
        "\n",
        "                loss += float(b_loss) / iters_per_epoch\n",
        "                tps += np.sum(y[batch_indices].astype(int) == b_decision)\n",
        "\n",
        "            accuracy = tps * 100.0 / len(X)\n",
        "\n",
        "            return loss, accuracy\n",
        "\n",
        "    def fit(self, X_train, y_train, epochs, batch_size):\n",
        "        X_train, X_val, y_train, y_val = train_test_split(X_train, y_train, test_size=0.2)\n",
        "\n",
        "        train_loss = np.zeros((epochs,))\n",
        "        val_loss = np.zeros((epochs,))\n",
        "        train_acc = np.zeros((epochs,))\n",
        "        val_acc = np.zeros((epochs,))\n",
        "\n",
        "        val_iters_per_epoch = int(np.ceil(1.0 * len(X_val) / batch_size))\n",
        "\n",
        "        for e in range(epochs):\n",
        "            t_start = time()\n",
        "\n",
        "            # train over dataset\n",
        "            epoch_train_loss, epoch_train_accuracy = self.train_epoch(X_train, y_train, batch_size)\n",
        "            train_loss[e] = epoch_train_loss\n",
        "            train_acc[e] = epoch_train_accuracy\n",
        "\n",
        "            # validating over validation set\n",
        "            epoch_val_loss, epoch_val_accuracy = self.evaluate(X_val, y_val, batch_size)\n",
        "            val_loss[e] = epoch_val_loss\n",
        "            val_acc[e] = epoch_val_accuracy\n",
        "\n",
        "            #saving model\n",
        "            torch.save({\n",
        "                    'epoch': e,\n",
        "                    'optimizer_state_dict': self.optimizer.state_dict(),\n",
        "                    'model_state_dict': self.state_dict(),\n",
        "                    'epoch_train_loss': epoch_train_loss,\n",
        "                    'epoch_train_accuracy': epoch_train_accuracy,\n",
        "                    'epoch_val_loss': epoch_val_loss,\n",
        "                    'epoch_val_accuracy': epoch_val_accuracy\n",
        "                }, f'epoch_{e}_state.pt')\n",
        "\n",
        "            print(f'Epoch {e} finished in {time() - t_start:.2f}s. loss: {epoch_train_loss:.4f} - acc: {epoch_train_accuracy:.2f} - val loss: {epoch_val_loss:.4f} - val acc: {epoch_val_accuracy:.2f}')\n",
        "        \n",
        "        return train_loss, val_loss, train_acc, val_acc"
      ],
      "execution_count": 4,
      "outputs": []
    },
    {
      "cell_type": "code",
      "metadata": {
        "id": "HkfIuaoL-hee",
        "colab_type": "code",
        "colab": {}
      },
      "source": [
        "(X_train, y_train), (X_test, y_test) = cifar10.load_data()"
      ],
      "execution_count": 5,
      "outputs": []
    },
    {
      "cell_type": "code",
      "metadata": {
        "id": "KOyZBqH8tMqk",
        "colab_type": "code",
        "colab": {
          "base_uri": "https://localhost:8080/",
          "height": 35
        },
        "outputId": "a71e9b18-1b84-4c2d-a604-e1f98593bd28"
      },
      "source": [
        "X_train = np.transpose(X_train, axes=(0, 3, 1, 2))\n",
        "X_train.shape"
      ],
      "execution_count": 6,
      "outputs": [
        {
          "output_type": "execute_result",
          "data": {
            "text/plain": [
              "(50000, 3, 32, 32)"
            ]
          },
          "metadata": {
            "tags": []
          },
          "execution_count": 6
        }
      ]
    },
    {
      "cell_type": "code",
      "metadata": {
        "id": "EgdLkyyiuUfY",
        "colab_type": "code",
        "colab": {
          "base_uri": "https://localhost:8080/",
          "height": 35
        },
        "outputId": "fafd5b36-717a-4448-d9fa-829487c82ab6"
      },
      "source": [
        "X_test = np.transpose(X_test, axes=(0, 3, 1, 2))\n",
        "X_test.shape"
      ],
      "execution_count": 7,
      "outputs": [
        {
          "output_type": "execute_result",
          "data": {
            "text/plain": [
              "(10000, 3, 32, 32)"
            ]
          },
          "metadata": {
            "tags": []
          },
          "execution_count": 7
        }
      ]
    },
    {
      "cell_type": "code",
      "metadata": {
        "id": "ZUXFc6mMvD10",
        "colab_type": "code",
        "colab": {
          "base_uri": "https://localhost:8080/",
          "height": 35
        },
        "outputId": "94ef2dbb-a659-46cd-922d-ec454dfa6817"
      },
      "source": [
        "y_train = y_train.reshape((50000,))\n",
        "y_train.shape"
      ],
      "execution_count": 8,
      "outputs": [
        {
          "output_type": "execute_result",
          "data": {
            "text/plain": [
              "(50000,)"
            ]
          },
          "metadata": {
            "tags": []
          },
          "execution_count": 8
        }
      ]
    },
    {
      "cell_type": "code",
      "metadata": {
        "id": "eTgwV3akywYL",
        "colab_type": "code",
        "colab": {
          "base_uri": "https://localhost:8080/",
          "height": 35
        },
        "outputId": "310a7ce2-c932-48cd-b963-37fe0c0bf6f4"
      },
      "source": [
        "y_test = y_test.reshape((10000,))\n",
        "y_test.shape"
      ],
      "execution_count": 9,
      "outputs": [
        {
          "output_type": "execute_result",
          "data": {
            "text/plain": [
              "(10000,)"
            ]
          },
          "metadata": {
            "tags": []
          },
          "execution_count": 9
        }
      ]
    },
    {
      "cell_type": "code",
      "metadata": {
        "id": "crvtSmiL4Lfw",
        "colab_type": "code",
        "colab": {}
      },
      "source": [
        "batch_size = 32\n",
        "epochs = 40"
      ],
      "execution_count": 10,
      "outputs": []
    },
    {
      "cell_type": "code",
      "metadata": {
        "id": "eu4HLk3t0Gk6",
        "colab_type": "code",
        "colab": {}
      },
      "source": [
        "model = Cifar10Classifier()\n",
        "model = model.cuda()"
      ],
      "execution_count": 11,
      "outputs": []
    },
    {
      "cell_type": "code",
      "metadata": {
        "id": "iRoGovEQ4RKF",
        "colab_type": "code",
        "colab": {
          "base_uri": "https://localhost:8080/",
          "height": 721
        },
        "outputId": "7dbf97d7-e32e-4d97-d03a-9c034e1167b9"
      },
      "source": [
        "train_loss, val_loss, train_acc, val_acc = model.fit(X_train, y_train, epochs, batch_size)"
      ],
      "execution_count": 12,
      "outputs": [
        {
          "output_type": "stream",
          "text": [
            "Epoch 0 finished in 34.93s. loss: 1.5773 - acc: 41.84 - val loss: 1.1615 - val acc: 57.61\n",
            "Epoch 1 finished in 34.52s. loss: 1.1958 - acc: 56.87 - val loss: 1.0325 - val acc: 62.59\n",
            "Epoch 2 finished in 34.59s. loss: 1.0243 - acc: 63.77 - val loss: 0.8548 - val acc: 69.78\n",
            "Epoch 3 finished in 34.98s. loss: 0.9212 - acc: 67.70 - val loss: 0.7771 - val acc: 72.33\n",
            "Epoch 4 finished in 34.92s. loss: 0.8306 - acc: 71.25 - val loss: 0.7078 - val acc: 74.84\n",
            "Epoch 5 finished in 34.94s. loss: 0.7710 - acc: 73.25 - val loss: 0.6946 - val acc: 75.12\n",
            "Epoch 6 finished in 34.87s. loss: 0.7215 - acc: 74.99 - val loss: 0.6540 - val acc: 77.11\n",
            "Epoch 7 finished in 34.84s. loss: 0.6755 - acc: 76.59 - val loss: 0.6369 - val acc: 77.80\n",
            "Epoch 8 finished in 34.91s. loss: 0.6420 - acc: 77.84 - val loss: 0.6056 - val acc: 79.03\n",
            "Epoch 9 finished in 34.95s. loss: 0.6054 - acc: 79.24 - val loss: 0.5928 - val acc: 79.73\n",
            "Epoch 10 finished in 34.89s. loss: 0.5791 - acc: 80.23 - val loss: 0.5894 - val acc: 79.86\n",
            "Epoch 11 finished in 34.85s. loss: 0.5588 - acc: 80.87 - val loss: 0.5682 - val acc: 80.99\n",
            "Epoch 12 finished in 34.97s. loss: 0.5355 - acc: 81.58 - val loss: 0.5846 - val acc: 80.16\n",
            "Epoch 13 finished in 34.80s. loss: 0.5059 - acc: 82.53 - val loss: 0.5753 - val acc: 80.31\n",
            "Epoch 14 finished in 34.65s. loss: 0.4890 - acc: 83.32 - val loss: 0.5516 - val acc: 81.77\n",
            "Epoch 15 finished in 34.72s. loss: 0.4638 - acc: 83.97 - val loss: 0.5385 - val acc: 82.24\n",
            "Epoch 16 finished in 35.10s. loss: 0.4507 - acc: 84.59 - val loss: 0.5719 - val acc: 81.26\n",
            "Epoch 17 finished in 34.56s. loss: 0.4434 - acc: 84.76 - val loss: 0.5474 - val acc: 82.32\n",
            "Epoch 18 finished in 34.73s. loss: 0.4268 - acc: 85.45 - val loss: 0.5833 - val acc: 81.41\n",
            "Epoch 19 finished in 34.87s. loss: 0.4105 - acc: 85.96 - val loss: 0.5655 - val acc: 81.86\n",
            "Epoch 20 finished in 34.93s. loss: 0.3982 - acc: 86.43 - val loss: 0.5424 - val acc: 82.77\n",
            "Epoch 21 finished in 34.81s. loss: 0.3849 - acc: 86.88 - val loss: 0.5255 - val acc: 83.36\n",
            "Epoch 22 finished in 34.83s. loss: 0.3713 - acc: 87.22 - val loss: 0.5681 - val acc: 82.26\n",
            "Epoch 23 finished in 34.64s. loss: 0.3659 - acc: 87.51 - val loss: 0.5466 - val acc: 82.51\n",
            "Epoch 24 finished in 34.62s. loss: 0.3554 - acc: 87.95 - val loss: 0.5301 - val acc: 82.98\n",
            "Epoch 25 finished in 34.67s. loss: 0.3403 - acc: 88.60 - val loss: 0.5303 - val acc: 83.53\n",
            "Epoch 26 finished in 34.78s. loss: 0.3333 - acc: 88.72 - val loss: 0.5576 - val acc: 83.28\n",
            "Epoch 27 finished in 34.62s. loss: 0.3181 - acc: 89.14 - val loss: 0.5639 - val acc: 83.19\n",
            "Epoch 28 finished in 34.65s. loss: 0.3184 - acc: 89.17 - val loss: 0.5251 - val acc: 83.71\n",
            "Epoch 29 finished in 34.79s. loss: 0.3025 - acc: 89.65 - val loss: 0.5312 - val acc: 84.04\n",
            "Epoch 30 finished in 34.70s. loss: 0.2979 - acc: 89.87 - val loss: 0.5422 - val acc: 83.03\n",
            "Epoch 31 finished in 34.89s. loss: 0.2914 - acc: 90.14 - val loss: 0.5482 - val acc: 83.50\n",
            "Epoch 32 finished in 34.83s. loss: 0.2916 - acc: 90.14 - val loss: 0.5212 - val acc: 84.25\n",
            "Epoch 33 finished in 35.05s. loss: 0.2773 - acc: 90.74 - val loss: 0.5364 - val acc: 84.17\n",
            "Epoch 34 finished in 34.88s. loss: 0.2710 - acc: 90.74 - val loss: 0.5301 - val acc: 84.09\n",
            "Epoch 35 finished in 34.74s. loss: 0.2629 - acc: 91.10 - val loss: 0.5626 - val acc: 84.00\n",
            "Epoch 36 finished in 34.91s. loss: 0.2570 - acc: 91.38 - val loss: 0.5243 - val acc: 84.54\n",
            "Epoch 37 finished in 35.00s. loss: 0.2502 - acc: 91.43 - val loss: 0.5482 - val acc: 83.48\n",
            "Epoch 38 finished in 34.85s. loss: 0.2489 - acc: 91.60 - val loss: 0.5575 - val acc: 84.42\n",
            "Epoch 39 finished in 34.83s. loss: 0.2443 - acc: 91.80 - val loss: 0.5338 - val acc: 84.91\n"
          ],
          "name": "stdout"
        }
      ]
    },
    {
      "cell_type": "code",
      "metadata": {
        "id": "5axkYcr74TlZ",
        "colab_type": "code",
        "colab": {
          "base_uri": "https://localhost:8080/",
          "height": 475
        },
        "outputId": "881a2f73-95ab-4d93-e1af-7d3492212847"
      },
      "source": [
        "fig = plt.figure(figsize=(15, 7))\n",
        "\n",
        "# loss\n",
        "ax = fig.add_subplot(121)\n",
        "ax.set_title('Loss / Epoch')\n",
        "ax.set_ylabel('Loss')\n",
        "ax.set_xlabel('Epoch')\n",
        "ax.set_aspect('auto')\n",
        "\n",
        "plt.plot(train_loss, label='Train', color='green', linewidth=3)\n",
        "plt.plot(val_loss, label='Validation', color='red', linewidth=3)\n",
        "\n",
        "\n",
        "plt.legend()\n",
        "\n",
        "# acc\n",
        "ax = fig.add_subplot(122)\n",
        "ax.set_title('Accuracy / Epoch')\n",
        "ax.set_ylabel('Accuracy')\n",
        "ax.set_xlabel('Epoch')\n",
        "ax.set_aspect('auto')\n",
        "\n",
        "plt.plot(train_acc, label='Train', color='green', linewidth=3)\n",
        "plt.plot(val_acc, label='Validation', color='red', linewidth=3)\n",
        "\n",
        "\n",
        "plt.legend()"
      ],
      "execution_count": 13,
      "outputs": [
        {
          "output_type": "execute_result",
          "data": {
            "text/plain": [
              "<matplotlib.legend.Legend at 0x7fe6b8011eb8>"
            ]
          },
          "metadata": {
            "tags": []
          },
          "execution_count": 13
        },
        {
          "output_type": "display_data",
          "data": {
            "image/png": "[encoded data removed]",
            "text/plain": [
              "<Figure size 1080x504 with 2 Axes>"
            ]
          },
          "metadata": {
            "tags": [],
            "needs_background": "light"
          }
        }
      ]
    },
    {
      "cell_type": "code",
      "metadata": {
        "id": "4zHeP4dh84h0",
        "colab_type": "code",
        "colab": {
          "base_uri": "https://localhost:8080/",
          "height": 35
        },
        "outputId": "8efac4df-10dd-48ac-fac2-16b62aba2df9"
      },
      "source": [
        "test_loss, test_accuracy = model.evaluate(X_test, y_test, batch_size)\n",
        "print(f'Test loss: {test_loss:.4f} - Accuracy: {test_accuracy:.2f}')"
      ],
      "execution_count": 14,
      "outputs": [
        {
          "output_type": "stream",
          "text": [
            "Test loss: 0.5782 - Accuracy: 84.32\n"
          ],
          "name": "stdout"
        }
      ]
    }
  ]
}