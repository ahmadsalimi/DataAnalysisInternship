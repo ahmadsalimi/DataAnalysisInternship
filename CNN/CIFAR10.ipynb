{
  "nbformat": 4,
  "nbformat_minor": 0,
  "metadata": {
    "colab": {
      "name": "CIFAR10",
      "provenance": [],
      "collapsed_sections": [],
      "authorship_tag": "ABX9TyNA+td1Fo+Lf6dmqwvla0rl"
    },
    "kernelspec": {
      "name": "python3",
      "display_name": "Python 3"
    },
    "accelerator": "GPU"
  },
  "cells": [
    {
      "cell_type": "code",
      "metadata": {
        "id": "K9j6XomVyKDr",
        "colab_type": "code",
        "colab": {}
      },
      "source": [
        "import numpy as np\n",
        "import torch\n",
        "import sklearn\n",
        "from sklearn.model_selection import train_test_split\n",
        "from time import time\n",
        "import matplotlib.pyplot as plt\n",
        "from keras.datasets import cifar10"
      ],
      "execution_count": 1,
      "outputs": []
    },
    {
      "cell_type": "code",
      "metadata": {
        "id": "27pX20yJ1D3j",
        "colab_type": "code",
        "colab": {}
      },
      "source": [
        "class Cifar10Classifier(torch.nn.Module):\n",
        "\n",
        "    def __init__(self):\n",
        "        super(Cifar10Classifier, self).__init__()\n",
        "\n",
        "        self.features = torch.nn.Sequential(                                                        # inp: B 3 32 32\n",
        "            torch.nn.BatchNorm2d(num_features=3),\n",
        "            torch.nn.Conv2d(in_channels=3, out_channels=32, kernel_size=3, stride=1, padding=1),    # B 32 32 32\n",
        "            torch.nn.ReLU(),\n",
        "            torch.nn.Conv2d(in_channels=32, out_channels=32, kernel_size=3, stride=1, padding=1),   # B 32 32 32\n",
        "            torch.nn.ReLU(),\n",
        "            torch.nn.MaxPool2d(kernel_size=2, stride=2, padding=0),                                 # B 32 16 16\n",
        "            torch.nn.Dropout2d(0.2),\n",
        "            torch.nn.BatchNorm2d(num_features=32),\n",
        "            torch.nn.Conv2d(in_channels=32, out_channels=64, kernel_size=3, stride=1, padding=1),   # B 64 16 16\n",
        "            torch.nn.ReLU(),\n",
        "            torch.nn.Conv2d(in_channels=64, out_channels=64, kernel_size=3, stride=1, padding=1),   # B 64 16 16\n",
        "            torch.nn.ReLU(),\n",
        "            torch.nn.MaxPool2d(kernel_size=2, stride=2, padding=0),                                 # B 64 8 8\n",
        "            torch.nn.Dropout2d(0.2),\n",
        "            torch.nn.BatchNorm2d(num_features=64),\n",
        "            torch.nn.Conv2d(in_channels=64, out_channels=128, kernel_size=3, stride=1, padding=1),  # B 128 8 8\n",
        "            torch.nn.ReLU(),\n",
        "            torch.nn.Conv2d(in_channels=128, out_channels=128, kernel_size=3, stride=1, padding=1), # B 128 8 8\n",
        "            torch.nn.ReLU(),\n",
        "            torch.nn.MaxPool2d(kernel_size=2, stride=2, padding=0),                                 # B 128 4 4\n",
        "            torch.nn.Dropout2d(0.2)\n",
        "        )\n",
        "\n",
        "        self.decider = torch.nn.Sequential(\n",
        "            torch.nn.Dropout(0.5),\n",
        "            torch.nn.Linear(4 * 4 * 128, 128),                                                      # B 128\n",
        "            torch.nn.ReLU(),\n",
        "            torch.nn.Linear(128, 10)                                                                # B 10\n",
        "        )\n",
        "\n",
        "        self.log_prob_cal = torch.nn.LogSoftmax(dim=-1)\n",
        "\n",
        "        self.optimizer = torch.optim.Adam(filter(\n",
        "            lambda p: p.requires_grad, self.parameters()), \n",
        "            lr=0.001\n",
        "        )\n",
        "\n",
        "        self.batch_x_placeholder = torch.zeros(size=[1, 3, 32, 32], dtype=torch.float32, device=torch.device('cuda:0'))\n",
        "        self.batch_y_placeholder = torch.zeros(size=[1], dtype=torch.long, device=torch.device('cuda:0'))\n",
        "    \n",
        "    def forward(self, b_x, b_y=None):\n",
        "        conv_features = self.features(b_x)\n",
        "        class_scores = self.decider(conv_features.flatten(1))\n",
        "        log_probs = self.log_prob_cal(class_scores)\n",
        "        loss = -1 * torch.mean(log_probs[torch.arange(b_x.shape[0]), b_y])\n",
        "        decision = torch.argmax(log_probs, dim=-1)\n",
        "        return decision, loss\n",
        "    \n",
        "    def train_epoch(self, X_train, y_train, batch_size):\n",
        "        self.train()\n",
        "\n",
        "        iters_per_epoch = int(np.ceil(1.0 * len(X_train) / batch_size))\n",
        "\n",
        "        # shuffling\n",
        "        indices = np.arange(len(X_train))\n",
        "\n",
        "        epoch_loss = 0\n",
        "        tps = 0\n",
        "\n",
        "        # iterate over training set\n",
        "        for iter in range(iters_per_epoch):\n",
        "            batch_indices = indices[iter * batch_size: min(len(indices), (iter + 1) * batch_size)]\n",
        "\n",
        "            # reshape placeholder\n",
        "            if len(batch_indices) != len(self.batch_x_placeholder):\n",
        "                self.batch_x_placeholder.resize_([len(batch_indices), 3, 32, 32])\n",
        "                self.batch_y_placeholder.resize_([len(batch_indices)])\n",
        "\n",
        "            self.batch_x_placeholder.copy_(torch.Tensor(X_train[batch_indices, :, :, :]))\n",
        "            self.batch_y_placeholder.copy_(torch.Tensor(y_train[batch_indices].astype(int)))\n",
        "\n",
        "            b_decision, b_loss = self(self.batch_x_placeholder, self.batch_y_placeholder)\n",
        "            b_decision = b_decision.cpu().numpy()\n",
        "\n",
        "            epoch_loss += float(b_loss) / iters_per_epoch\n",
        "            tps += np.sum(y_train[batch_indices].astype(int) == b_decision)\n",
        "\n",
        "            b_loss.backward()\n",
        "\n",
        "            self.optimizer.step()\n",
        "            self.optimizer.zero_grad()\n",
        "            \n",
        "        epoch_train_accuracy = tps * 100.0 / len(X_train)\n",
        "\n",
        "        return epoch_loss, epoch_train_accuracy\n",
        "    \n",
        "    def evaluate(self, X, y, batch_size):\n",
        "        with torch.no_grad():\n",
        "            self.eval()\n",
        "\n",
        "            iters_per_epoch = int(np.ceil(1.0 * len(X) / batch_size))\n",
        "\n",
        "            indices = np.arange(len(X))\n",
        "            np.random.shuffle(indices)\n",
        "\n",
        "            loss = 0\n",
        "            tps = 0\n",
        "\n",
        "            for iter in range(iters_per_epoch):\n",
        "                batch_indices = indices[iter * batch_size: min(len(indices), (iter + 1) * batch_size)]\n",
        "\n",
        "                # reshape placeholder\n",
        "                if len(batch_indices) != len(self.batch_x_placeholder):\n",
        "                    self.batch_x_placeholder.resize_([len(batch_indices), 3, 32, 32])\n",
        "                    self.batch_y_placeholder.resize_([len(batch_indices)])\n",
        "                    \n",
        "                self.batch_x_placeholder.copy_(torch.Tensor(X[batch_indices]))\n",
        "                self.batch_y_placeholder.copy_(torch.Tensor(y[batch_indices].astype(int)))\n",
        "\n",
        "                b_decision, b_loss = self(self.batch_x_placeholder, self.batch_y_placeholder)\n",
        "                b_decision = b_decision.cpu().numpy()\n",
        "\n",
        "                loss += float(b_loss) / iters_per_epoch\n",
        "                tps += np.sum(y[batch_indices].astype(int) == b_decision)\n",
        "\n",
        "            accuracy = tps * 100.0 / len(X)\n",
        "\n",
        "            return loss, accuracy\n",
        "\n",
        "    def fit(self, X_train, y_train, epochs, batch_size):\n",
        "        X_train, X_val, y_train, y_val = train_test_split(X_train, y_train, test_size=0.2)\n",
        "\n",
        "        train_loss = np.zeros((epochs,))\n",
        "        val_loss = np.zeros((epochs,))\n",
        "        train_acc = np.zeros((epochs,))\n",
        "        val_acc = np.zeros((epochs,))\n",
        "\n",
        "        val_iters_per_epoch = int(np.ceil(1.0 * len(X_val) / batch_size))\n",
        "\n",
        "        for e in range(epochs):\n",
        "            t_start = time()\n",
        "\n",
        "            # train over dataset\n",
        "            epoch_train_loss, epoch_train_accuracy = self.train_epoch(X_train, y_train, batch_size)\n",
        "            train_loss[e] = epoch_train_loss\n",
        "            train_acc[e] = epoch_train_accuracy\n",
        "\n",
        "            # validating over validation set\n",
        "            epoch_val_loss, epoch_val_accuracy = self.evaluate(X_val, y_val, batch_size)\n",
        "            val_loss[e] = epoch_val_loss\n",
        "            val_acc[e] = epoch_val_accuracy\n",
        "\n",
        "            #saving model\n",
        "            torch.save({\n",
        "                    'epoch': e,\n",
        "                    'optimizer_state_dict': self.optimizer.state_dict(),\n",
        "                    'model_state_dict': self.state_dict(),\n",
        "                    'epoch_train_loss': epoch_train_loss,\n",
        "                    'epoch_train_accuracy': epoch_train_accuracy,\n",
        "                    'epoch_val_loss': epoch_val_loss,\n",
        "                    'epoch_val_accuracy': epoch_val_accuracy\n",
        "                }, f'CIFAR10/epoch_{e}_state.pt')\n",
        "\n",
        "            print(f'Epoch {e} finished in {time() - t_start:.2f}s. loss: {epoch_train_loss:.4f} - acc: {epoch_train_accuracy:.2f} - val loss: {epoch_val_loss:.4f} - val acc: {epoch_val_accuracy:.2f}')\n",
        "        \n",
        "        return train_loss, val_loss, train_acc, val_acc"
      ],
      "execution_count": 50,
      "outputs": []
    },
    {
      "cell_type": "code",
      "metadata": {
        "id": "HkfIuaoL-hee",
        "colab_type": "code",
        "colab": {}
      },
      "source": [
        "(X_train, y_train), (X_test, y_test) = cifar10.load_data()"
      ],
      "execution_count": 31,
      "outputs": []
    },
    {
      "cell_type": "code",
      "metadata": {
        "id": "KOyZBqH8tMqk",
        "colab_type": "code",
        "colab": {
          "base_uri": "https://localhost:8080/",
          "height": 35
        },
        "outputId": "5257f788-b173-45c8-f81e-5ad83d0438ea"
      },
      "source": [
        "X_train = np.transpose(X_train, axes=(0, 3, 1, 2))\n",
        "X_train.shape"
      ],
      "execution_count": 32,
      "outputs": [
        {
          "output_type": "execute_result",
          "data": {
            "text/plain": [
              "(50000, 3, 32, 32)"
            ]
          },
          "metadata": {
            "tags": []
          },
          "execution_count": 32
        }
      ]
    },
    {
      "cell_type": "code",
      "metadata": {
        "id": "EgdLkyyiuUfY",
        "colab_type": "code",
        "colab": {
          "base_uri": "https://localhost:8080/",
          "height": 35
        },
        "outputId": "952250bd-09d9-49f2-c129-47173abb46d3"
      },
      "source": [
        "X_test = np.transpose(X_test, axes=(0, 3, 1, 2))\n",
        "X_test.shape"
      ],
      "execution_count": 33,
      "outputs": [
        {
          "output_type": "execute_result",
          "data": {
            "text/plain": [
              "(10000, 3, 32, 32)"
            ]
          },
          "metadata": {
            "tags": []
          },
          "execution_count": 33
        }
      ]
    },
    {
      "cell_type": "code",
      "metadata": {
        "id": "ZUXFc6mMvD10",
        "colab_type": "code",
        "colab": {
          "base_uri": "https://localhost:8080/",
          "height": 35
        },
        "outputId": "799b9af1-55dc-461d-89e1-14a8dd3fb632"
      },
      "source": [
        "y_train = y_train.reshape((50000,))\n",
        "y_train.shape"
      ],
      "execution_count": 34,
      "outputs": [
        {
          "output_type": "execute_result",
          "data": {
            "text/plain": [
              "(50000,)"
            ]
          },
          "metadata": {
            "tags": []
          },
          "execution_count": 34
        }
      ]
    },
    {
      "cell_type": "code",
      "metadata": {
        "id": "eTgwV3akywYL",
        "colab_type": "code",
        "colab": {
          "base_uri": "https://localhost:8080/",
          "height": 35
        },
        "outputId": "89b952a7-d5b5-4d4e-f3da-02a393008fa4"
      },
      "source": [
        "y_test = y_test.reshape((10000,))\n",
        "y_test.shape"
      ],
      "execution_count": 35,
      "outputs": [
        {
          "output_type": "execute_result",
          "data": {
            "text/plain": [
              "(10000,)"
            ]
          },
          "metadata": {
            "tags": []
          },
          "execution_count": 35
        }
      ]
    },
    {
      "cell_type": "code",
      "metadata": {
        "id": "crvtSmiL4Lfw",
        "colab_type": "code",
        "colab": {}
      },
      "source": [
        "batch_size = 128\n",
        "epochs = 40"
      ],
      "execution_count": 51,
      "outputs": []
    },
    {
      "cell_type": "code",
      "metadata": {
        "id": "eu4HLk3t0Gk6",
        "colab_type": "code",
        "colab": {}
      },
      "source": [
        "model = Cifar10Classifier()\n",
        "model = model.cuda()"
      ],
      "execution_count": 52,
      "outputs": []
    },
    {
      "cell_type": "code",
      "metadata": {
        "id": "iRoGovEQ4RKF",
        "colab_type": "code",
        "colab": {
          "base_uri": "https://localhost:8080/",
          "height": 721
        },
        "outputId": "64354207-5e85-4d1a-8369-7a3c852609b7"
      },
      "source": [
        "train_loss, val_loss, train_acc, val_acc = model.fit(X_train, y_train, epochs, batch_size)"
      ],
      "execution_count": 53,
      "outputs": [
        {
          "output_type": "stream",
          "text": [
            "Epoch 0 finished in 11.05s. loss: 1.6048 - acc: 40.43 - val loss: 1.2489 - val acc: 53.94\n",
            "Epoch 1 finished in 10.97s. loss: 1.2546 - acc: 54.41 - val loss: 1.0143 - val acc: 63.78\n",
            "Epoch 2 finished in 10.96s. loss: 1.0748 - acc: 61.34 - val loss: 0.9054 - val acc: 68.19\n",
            "Epoch 3 finished in 10.97s. loss: 0.9640 - acc: 65.61 - val loss: 0.7841 - val acc: 72.28\n",
            "Epoch 4 finished in 10.99s. loss: 0.8845 - acc: 68.92 - val loss: 0.7656 - val acc: 72.90\n",
            "Epoch 5 finished in 10.99s. loss: 0.8314 - acc: 70.75 - val loss: 0.6957 - val acc: 75.50\n",
            "Epoch 6 finished in 10.97s. loss: 0.7934 - acc: 72.12 - val loss: 0.6637 - val acc: 76.65\n",
            "Epoch 7 finished in 11.01s. loss: 0.7487 - acc: 73.72 - val loss: 0.6641 - val acc: 76.77\n",
            "Epoch 8 finished in 11.00s. loss: 0.7255 - acc: 74.56 - val loss: 0.6247 - val acc: 78.52\n",
            "Epoch 9 finished in 10.97s. loss: 0.6853 - acc: 75.87 - val loss: 0.6184 - val acc: 78.26\n",
            "Epoch 10 finished in 10.99s. loss: 0.6657 - acc: 76.53 - val loss: 0.5942 - val acc: 79.40\n",
            "Epoch 11 finished in 11.00s. loss: 0.6451 - acc: 77.64 - val loss: 0.5902 - val acc: 79.50\n",
            "Epoch 12 finished in 11.00s. loss: 0.6166 - acc: 78.47 - val loss: 0.5982 - val acc: 79.34\n",
            "Epoch 13 finished in 10.98s. loss: 0.6132 - acc: 78.34 - val loss: 0.5832 - val acc: 80.14\n",
            "Epoch 14 finished in 11.00s. loss: 0.5903 - acc: 79.24 - val loss: 0.5608 - val acc: 80.44\n",
            "Epoch 15 finished in 10.99s. loss: 0.5754 - acc: 79.83 - val loss: 0.5679 - val acc: 80.54\n",
            "Epoch 16 finished in 10.98s. loss: 0.5644 - acc: 80.31 - val loss: 0.5574 - val acc: 80.93\n",
            "Epoch 17 finished in 10.97s. loss: 0.5451 - acc: 80.69 - val loss: 0.5633 - val acc: 80.81\n",
            "Epoch 18 finished in 10.98s. loss: 0.5369 - acc: 81.16 - val loss: 0.5427 - val acc: 81.28\n",
            "Epoch 19 finished in 10.98s. loss: 0.5250 - acc: 81.46 - val loss: 0.5405 - val acc: 81.47\n",
            "Epoch 20 finished in 10.98s. loss: 0.5157 - acc: 81.73 - val loss: 0.5589 - val acc: 81.70\n",
            "Epoch 21 finished in 10.98s. loss: 0.5052 - acc: 82.30 - val loss: 0.5460 - val acc: 81.57\n",
            "Epoch 22 finished in 10.99s. loss: 0.4995 - acc: 82.25 - val loss: 0.5337 - val acc: 81.91\n",
            "Epoch 23 finished in 10.99s. loss: 0.4846 - acc: 83.27 - val loss: 0.5421 - val acc: 81.62\n",
            "Epoch 24 finished in 10.99s. loss: 0.4763 - acc: 83.16 - val loss: 0.5272 - val acc: 82.34\n",
            "Epoch 25 finished in 10.99s. loss: 0.4698 - acc: 83.45 - val loss: 0.5282 - val acc: 82.10\n",
            "Epoch 26 finished in 10.99s. loss: 0.4545 - acc: 84.02 - val loss: 0.5189 - val acc: 82.72\n",
            "Epoch 27 finished in 10.99s. loss: 0.4546 - acc: 84.03 - val loss: 0.5290 - val acc: 82.37\n",
            "Epoch 28 finished in 10.99s. loss: 0.4450 - acc: 84.33 - val loss: 0.5301 - val acc: 82.21\n",
            "Epoch 29 finished in 10.96s. loss: 0.4395 - acc: 84.36 - val loss: 0.5116 - val acc: 82.53\n",
            "Epoch 30 finished in 10.99s. loss: 0.4359 - acc: 84.77 - val loss: 0.5344 - val acc: 82.32\n",
            "Epoch 31 finished in 10.98s. loss: 0.4307 - acc: 85.08 - val loss: 0.5150 - val acc: 83.04\n",
            "Epoch 32 finished in 10.97s. loss: 0.4201 - acc: 85.17 - val loss: 0.5246 - val acc: 82.57\n",
            "Epoch 33 finished in 11.00s. loss: 0.4144 - acc: 85.44 - val loss: 0.5111 - val acc: 82.92\n",
            "Epoch 34 finished in 11.00s. loss: 0.4051 - acc: 85.66 - val loss: 0.5274 - val acc: 82.47\n",
            "Epoch 35 finished in 10.99s. loss: 0.4133 - acc: 85.38 - val loss: 0.5139 - val acc: 83.07\n",
            "Epoch 36 finished in 10.98s. loss: 0.3934 - acc: 86.13 - val loss: 0.5327 - val acc: 82.84\n",
            "Epoch 37 finished in 10.99s. loss: 0.3951 - acc: 86.01 - val loss: 0.5269 - val acc: 83.09\n",
            "Epoch 38 finished in 10.99s. loss: 0.3887 - acc: 86.32 - val loss: 0.5185 - val acc: 82.98\n",
            "Epoch 39 finished in 10.95s. loss: 0.3788 - acc: 86.73 - val loss: 0.5271 - val acc: 82.78\n"
          ],
          "name": "stdout"
        }
      ]
    },
    {
      "cell_type": "code",
      "metadata": {
        "id": "5axkYcr74TlZ",
        "colab_type": "code",
        "colab": {
          "base_uri": "https://localhost:8080/",
          "height": 475
        },
        "outputId": "a6600e8f-8260-4513-a631-d181f84427ac"
      },
      "source": [
        "fig = plt.figure(figsize=(15, 7))\n",
        "\n",
        "# loss\n",
        "ax = fig.add_subplot(121)\n",
        "ax.set_title('Loss / Epoch')\n",
        "ax.set_ylabel('Loss')\n",
        "ax.set_xlabel('Epoch')\n",
        "ax.set_aspect('auto')\n",
        "\n",
        "plt.plot(train_loss, label='Train', color='green', linewidth=3)\n",
        "plt.plot(val_loss, label='Validation', color='red', linewidth=3)\n",
        "\n",
        "\n",
        "plt.legend()\n",
        "\n",
        "# acc\n",
        "ax = fig.add_subplot(122)\n",
        "ax.set_title('Accuracy / Epoch')\n",
        "ax.set_ylabel('Accuracy')\n",
        "ax.set_xlabel('Epoch')\n",
        "ax.set_aspect('auto')\n",
        "\n",
        "plt.plot(train_acc, label='Train', color='green', linewidth=3)\n",
        "plt.plot(val_acc, label='Validation', color='red', linewidth=3)\n",
        "\n",
        "\n",
        "plt.legend()"
      ],
      "execution_count": 54,
      "outputs": [
        {
          "output_type": "execute_result",
          "data": {
            "text/plain": [
              "<matplotlib.legend.Legend at 0x7efc5c59a9b0>"
            ]
          },
          "metadata": {
            "tags": []
          },
          "execution_count": 54
        },
        {
          "output_type": "display_data",
          "data": {
            "image/png": "[encoded data removed]",
            "text/plain": [
              "<Figure size 1080x504 with 2 Axes>"
            ]
          },
          "metadata": {
            "tags": [],
            "needs_background": "light"
          }
        }
      ]
    },
    {
      "cell_type": "code",
      "metadata": {
        "id": "4zHeP4dh84h0",
        "colab_type": "code",
        "colab": {
          "base_uri": "https://localhost:8080/",
          "height": 35
        },
        "outputId": "da7bf44a-523f-4634-b959-6b2cebb5410f"
      },
      "source": [
        "test_loss, test_accuracy = model.evaluate(X_test, y_test, batch_size)\n",
        "print(f'Test loss: {test_loss:.4f} - Accuracy: {test_accuracy:.2f}')"
      ],
      "execution_count": 55,
      "outputs": [
        {
          "output_type": "stream",
          "text": [
            "Test loss: 0.5382 - Accuracy: 82.63\n"
          ],
          "name": "stdout"
        }
      ]
    }
  ]
}