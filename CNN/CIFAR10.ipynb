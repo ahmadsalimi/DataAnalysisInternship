{
  "nbformat": 4,
  "nbformat_minor": 0,
  "metadata": {
    "colab": {
      "name": "CIFAR10",
      "provenance": [],
      "collapsed_sections": [],
      "authorship_tag": "ABX9TyMACI2eXy5c2m7st/qO75Gc"
    },
    "kernelspec": {
      "name": "python3",
      "display_name": "Python 3"
    },
    "accelerator": "GPU"
  },
  "cells": [
    {
      "cell_type": "code",
      "metadata": {
        "id": "K9j6XomVyKDr",
        "colab_type": "code",
        "colab": {}
      },
      "source": [
        "import numpy as np\n",
        "import torch\n",
        "import sklearn\n",
        "from sklearn.model_selection import train_test_split\n",
        "from time import time\n",
        "import matplotlib.pyplot as plt\n",
        "from keras.datasets import cifar10"
      ],
      "execution_count": 1,
      "outputs": []
    },
    {
      "cell_type": "code",
      "metadata": {
        "id": "27pX20yJ1D3j",
        "colab_type": "code",
        "colab": {}
      },
      "source": [
        "class Cifar10Classifier(torch.nn.Module):\n",
        "\n",
        "    def __init__(self):\n",
        "        super(Cifar10Classifier, self).__init__()\n",
        "\n",
        "        self.features = torch.nn.Sequential(                                                        # inp: B 3 32 32\n",
        "            torch.nn.BatchNorm2d(num_features=3),\n",
        "            torch.nn.Conv2d(in_channels=3, out_channels=32, kernel_size=3, stride=1, padding=1),    # B 32 32 32\n",
        "            torch.nn.ReLU(),\n",
        "            torch.nn.Conv2d(in_channels=32, out_channels=32, kernel_size=3, stride=1, padding=1),   # B 32 32 32\n",
        "            torch.nn.ReLU(),\n",
        "            torch.nn.MaxPool2d(kernel_size=2, stride=2, padding=0),                                 # B 32 16 16\n",
        "            torch.nn.Dropout2d(0.2),\n",
        "            torch.nn.BatchNorm2d(num_features=32),\n",
        "            torch.nn.Conv2d(in_channels=32, out_channels=64, kernel_size=3, stride=1, padding=1),   # B 64 16 16\n",
        "            torch.nn.ReLU(),\n",
        "            torch.nn.Conv2d(in_channels=64, out_channels=64, kernel_size=3, stride=1, padding=1),   # B 64 16 16\n",
        "            torch.nn.ReLU(),\n",
        "            torch.nn.MaxPool2d(kernel_size=2, stride=2, padding=0),                                 # B 64 8 8\n",
        "            torch.nn.Dropout2d(0.2),\n",
        "            torch.nn.BatchNorm2d(num_features=64),\n",
        "            torch.nn.Conv2d(in_channels=64, out_channels=128, kernel_size=3, stride=1, padding=1),  # B 128 8 8\n",
        "            torch.nn.ReLU(),\n",
        "            torch.nn.Conv2d(in_channels=128, out_channels=128, kernel_size=3, stride=1, padding=1), # B 128 8 8\n",
        "            torch.nn.ReLU(),\n",
        "            torch.nn.MaxPool2d(kernel_size=2, stride=2, padding=0),                                 # B 128 4 4\n",
        "            torch.nn.Dropout2d(0.2)\n",
        "        )\n",
        "\n",
        "        self.decider = torch.nn.Sequential(\n",
        "            torch.nn.Dropout(0.5),\n",
        "            torch.nn.Linear(4 * 4 * 128, 128),                                                      # B 128\n",
        "            torch.nn.ReLU(),\n",
        "            torch.nn.Linear(128, 10)                                                                # B 10\n",
        "        )\n",
        "\n",
        "        self.log_prob_cal = torch.nn.LogSoftmax(dim=-1)\n",
        "\n",
        "        self.optimizer = torch.optim.Adam(filter(\n",
        "            lambda p: p.requires_grad, self.parameters()), \n",
        "            lr=0.001\n",
        "        )\n",
        "\n",
        "        self.batch_x_placeholder = torch.zeros(size=[1, 3, 32, 32], dtype=torch.float32, device=torch.device('cuda:0'))\n",
        "        self.batch_y_placeholder = torch.zeros(size=[1], dtype=torch.long, device=torch.device('cuda:0'))\n",
        "    \n",
        "    def forward(self, b_x, b_y=None):\n",
        "        conv_features = self.features(b_x)\n",
        "        class_scores = self.decider(conv_features.flatten(1))\n",
        "        log_probs = self.log_prob_cal(class_scores)\n",
        "        loss = -1 * torch.mean(log_probs[torch.arange(b_x.shape[0]), b_y])\n",
        "        decision = torch.argmax(log_probs, dim=-1)\n",
        "        return decision, loss\n",
        "    \n",
        "    def train_epoch(self, X_train, y_train, batch_size):\n",
        "        self.train()\n",
        "\n",
        "        iters_per_epoch = int(np.ceil(1.0 * len(X_train) / batch_size))\n",
        "\n",
        "        # shuffling\n",
        "        indices = np.arange(len(X_train))\n",
        "\n",
        "        epoch_loss = 0\n",
        "        tps = 0\n",
        "\n",
        "        # iterate over training set\n",
        "        for iter in range(iters_per_epoch):\n",
        "            batch_indices = indices[iter * batch_size: min(len(indices), (iter + 1) * batch_size)]\n",
        "\n",
        "            # reshape placeholder\n",
        "            if len(batch_indices) != len(self.batch_x_placeholder):\n",
        "                self.batch_x_placeholder.resize_([len(batch_indices), 3, 32, 32])\n",
        "                self.batch_y_placeholder.resize_([len(batch_indices)])\n",
        "\n",
        "            self.batch_x_placeholder.copy_(torch.Tensor(X_train[batch_indices, :, :, :]))\n",
        "            self.batch_y_placeholder.copy_(torch.Tensor(y_train[batch_indices].astype(int)))\n",
        "\n",
        "            b_decision, b_loss = self(self.batch_x_placeholder, self.batch_y_placeholder)\n",
        "            b_decision = b_decision.cpu().numpy()\n",
        "\n",
        "            epoch_loss += float(b_loss) / iters_per_epoch\n",
        "            tps += np.sum(y_train[batch_indices].astype(int) == b_decision)\n",
        "\n",
        "            b_loss.backward()\n",
        "\n",
        "            self.optimizer.step()\n",
        "            self.optimizer.zero_grad()\n",
        "            \n",
        "        epoch_train_accuracy = tps * 100.0 / len(X_train)\n",
        "\n",
        "        return epoch_loss, epoch_train_accuracy\n",
        "    \n",
        "    def evaluate(self, X, y, batch_size):\n",
        "        with torch.no_grad():\n",
        "            self.eval()\n",
        "\n",
        "            iters_per_epoch = int(np.ceil(1.0 * len(X) / batch_size))\n",
        "\n",
        "            indices = np.arange(len(X))\n",
        "            np.random.shuffle(indices)\n",
        "\n",
        "            loss = 0\n",
        "            tps = 0\n",
        "\n",
        "            for iter in range(iters_per_epoch):\n",
        "                batch_indices = indices[iter * batch_size: min(len(indices), (iter + 1) * batch_size)]\n",
        "\n",
        "                # reshape placeholder\n",
        "                if len(batch_indices) != len(self.batch_x_placeholder):\n",
        "                    self.batch_x_placeholder.resize_([len(batch_indices), 3, 32, 32])\n",
        "                    self.batch_y_placeholder.resize_([len(batch_indices)])\n",
        "                    \n",
        "                self.batch_x_placeholder.copy_(torch.Tensor(X[batch_indices]))\n",
        "                self.batch_y_placeholder.copy_(torch.Tensor(y[batch_indices].astype(int)))\n",
        "\n",
        "                b_decision, b_loss = self(self.batch_x_placeholder, self.batch_y_placeholder)\n",
        "                b_decision = b_decision.cpu().numpy()\n",
        "\n",
        "                loss += float(b_loss) / iters_per_epoch\n",
        "                tps += np.sum(y[batch_indices].astype(int) == b_decision)\n",
        "\n",
        "            accuracy = tps * 100.0 / len(X)\n",
        "\n",
        "            return loss, accuracy\n",
        "\n",
        "    def fit(self, X_train, y_train, epochs, batch_size):\n",
        "        X_train, X_val, y_train, y_val = train_test_split(X_train, y_train, test_size=0.2, random_state=40)\n",
        "\n",
        "        train_loss = np.zeros((epochs,))\n",
        "        val_loss = np.zeros((epochs,))\n",
        "        train_acc = np.zeros((epochs,))\n",
        "        val_acc = np.zeros((epochs,))\n",
        "\n",
        "        val_iters_per_epoch = int(np.ceil(1.0 * len(X_val) / batch_size))\n",
        "\n",
        "        for e in range(epochs):\n",
        "            t_start = time()\n",
        "\n",
        "            # train over dataset\n",
        "            epoch_train_loss, epoch_train_accuracy = self.train_epoch(X_train, y_train, batch_size)\n",
        "            train_loss[e] = epoch_train_loss\n",
        "            train_acc[e] = epoch_train_accuracy\n",
        "\n",
        "            # validating over validation set\n",
        "            epoch_val_loss, epoch_val_accuracy = self.evaluate(X_val, y_val, batch_size)\n",
        "            val_loss[e] = epoch_val_loss\n",
        "            val_acc[e] = epoch_val_accuracy\n",
        "\n",
        "            #saving model\n",
        "            torch.save({\n",
        "                    'epoch': e,\n",
        "                    'optimizer_state_dict': self.optimizer.state_dict(),\n",
        "                    'model_state_dict': self.state_dict(),\n",
        "                    'epoch_train_loss': epoch_train_loss,\n",
        "                    'epoch_train_accuracy': epoch_train_accuracy,\n",
        "                    'epoch_val_loss': epoch_val_loss,\n",
        "                    'epoch_val_accuracy': epoch_val_accuracy\n",
        "                }, f'CIFAR10/epoch_{e}_state.pt')\n",
        "\n",
        "            print(f'Epoch {e} finished in {time() - t_start:.2f}s. loss: {epoch_train_loss:.4f} - acc: {epoch_train_accuracy:.2f} - val loss: {epoch_val_loss:.4f} - val acc: {epoch_val_accuracy:.2f}')\n",
        "        \n",
        "        return train_loss, val_loss, train_acc, val_acc"
      ],
      "execution_count": 30,
      "outputs": []
    },
    {
      "cell_type": "code",
      "metadata": {
        "id": "HkfIuaoL-hee",
        "colab_type": "code",
        "colab": {}
      },
      "source": [
        "(X_train, y_train), (X_test, y_test) = cifar10.load_data()"
      ],
      "execution_count": 31,
      "outputs": []
    },
    {
      "cell_type": "code",
      "metadata": {
        "id": "KOyZBqH8tMqk",
        "colab_type": "code",
        "colab": {
          "base_uri": "https://localhost:8080/",
          "height": 35
        },
        "outputId": "5257f788-b173-45c8-f81e-5ad83d0438ea"
      },
      "source": [
        "X_train = np.transpose(X_train, axes=(0, 3, 1, 2))\n",
        "X_train.shape"
      ],
      "execution_count": 32,
      "outputs": [
        {
          "output_type": "execute_result",
          "data": {
            "text/plain": [
              "(50000, 3, 32, 32)"
            ]
          },
          "metadata": {
            "tags": []
          },
          "execution_count": 32
        }
      ]
    },
    {
      "cell_type": "code",
      "metadata": {
        "id": "EgdLkyyiuUfY",
        "colab_type": "code",
        "colab": {
          "base_uri": "https://localhost:8080/",
          "height": 35
        },
        "outputId": "952250bd-09d9-49f2-c129-47173abb46d3"
      },
      "source": [
        "X_test = np.transpose(X_test, axes=(0, 3, 1, 2))\n",
        "X_test.shape"
      ],
      "execution_count": 33,
      "outputs": [
        {
          "output_type": "execute_result",
          "data": {
            "text/plain": [
              "(10000, 3, 32, 32)"
            ]
          },
          "metadata": {
            "tags": []
          },
          "execution_count": 33
        }
      ]
    },
    {
      "cell_type": "code",
      "metadata": {
        "id": "ZUXFc6mMvD10",
        "colab_type": "code",
        "colab": {
          "base_uri": "https://localhost:8080/",
          "height": 35
        },
        "outputId": "799b9af1-55dc-461d-89e1-14a8dd3fb632"
      },
      "source": [
        "y_train = y_train.reshape((50000,))\n",
        "y_train.shape"
      ],
      "execution_count": 34,
      "outputs": [
        {
          "output_type": "execute_result",
          "data": {
            "text/plain": [
              "(50000,)"
            ]
          },
          "metadata": {
            "tags": []
          },
          "execution_count": 34
        }
      ]
    },
    {
      "cell_type": "code",
      "metadata": {
        "id": "eTgwV3akywYL",
        "colab_type": "code",
        "colab": {
          "base_uri": "https://localhost:8080/",
          "height": 35
        },
        "outputId": "89b952a7-d5b5-4d4e-f3da-02a393008fa4"
      },
      "source": [
        "y_test = y_test.reshape((10000,))\n",
        "y_test.shape"
      ],
      "execution_count": 35,
      "outputs": [
        {
          "output_type": "execute_result",
          "data": {
            "text/plain": [
              "(10000,)"
            ]
          },
          "metadata": {
            "tags": []
          },
          "execution_count": 35
        }
      ]
    },
    {
      "cell_type": "code",
      "metadata": {
        "id": "crvtSmiL4Lfw",
        "colab_type": "code",
        "colab": {}
      },
      "source": [
        "batch_size = 128\n",
        "epochs = 20"
      ],
      "execution_count": 38,
      "outputs": []
    },
    {
      "cell_type": "code",
      "metadata": {
        "id": "eu4HLk3t0Gk6",
        "colab_type": "code",
        "colab": {}
      },
      "source": [
        "model = Cifar10Classifier()\n",
        "model = model.cuda()"
      ],
      "execution_count": 39,
      "outputs": []
    },
    {
      "cell_type": "code",
      "metadata": {
        "id": "iRoGovEQ4RKF",
        "colab_type": "code",
        "colab": {
          "base_uri": "https://localhost:8080/",
          "height": 369
        },
        "outputId": "15a5c504-a6bc-4cc4-a129-967bb6d38b99"
      },
      "source": [
        "train_loss, val_loss, train_acc, val_acc = model.fit(X_train, y_train, epochs, batch_size)"
      ],
      "execution_count": 40,
      "outputs": [
        {
          "output_type": "stream",
          "text": [
            "Epoch 0 finished in 11.10s. loss: 1.5744 - acc: 41.91 - val loss: 1.2508 - val acc: 55.11\n",
            "Epoch 1 finished in 10.94s. loss: 1.2424 - acc: 55.09 - val loss: 0.9931 - val acc: 64.48\n",
            "Epoch 2 finished in 10.98s. loss: 1.0838 - acc: 61.22 - val loss: 0.8852 - val acc: 68.97\n",
            "Epoch 3 finished in 10.97s. loss: 0.9718 - acc: 65.62 - val loss: 0.7992 - val acc: 71.54\n",
            "Epoch 4 finished in 10.97s. loss: 0.9035 - acc: 67.90 - val loss: 0.7498 - val acc: 74.78\n",
            "Epoch 5 finished in 10.99s. loss: 0.8414 - acc: 70.25 - val loss: 0.7139 - val acc: 75.15\n",
            "Epoch 6 finished in 10.97s. loss: 0.8044 - acc: 71.78 - val loss: 0.6872 - val acc: 76.21\n",
            "Epoch 7 finished in 10.98s. loss: 0.7541 - acc: 73.41 - val loss: 0.6609 - val acc: 76.73\n",
            "Epoch 8 finished in 10.99s. loss: 0.7178 - acc: 74.92 - val loss: 0.6226 - val acc: 78.26\n",
            "Epoch 9 finished in 11.01s. loss: 0.6939 - acc: 75.67 - val loss: 0.6015 - val acc: 78.89\n",
            "Epoch 10 finished in 10.98s. loss: 0.6678 - acc: 76.77 - val loss: 0.6114 - val acc: 78.94\n",
            "Epoch 11 finished in 11.01s. loss: 0.6427 - acc: 77.22 - val loss: 0.5954 - val acc: 79.07\n",
            "Epoch 12 finished in 10.99s. loss: 0.6278 - acc: 77.93 - val loss: 0.5793 - val acc: 80.36\n",
            "Epoch 13 finished in 11.00s. loss: 0.6159 - acc: 78.15 - val loss: 0.5683 - val acc: 80.55\n",
            "Epoch 14 finished in 11.01s. loss: 0.5977 - acc: 79.05 - val loss: 0.5583 - val acc: 80.71\n",
            "Epoch 15 finished in 10.98s. loss: 0.5719 - acc: 79.89 - val loss: 0.5474 - val acc: 80.94\n",
            "Epoch 16 finished in 11.00s. loss: 0.5574 - acc: 80.41 - val loss: 0.5446 - val acc: 81.58\n",
            "Epoch 17 finished in 11.01s. loss: 0.5461 - acc: 80.71 - val loss: 0.5417 - val acc: 81.60\n",
            "Epoch 18 finished in 10.98s. loss: 0.5385 - acc: 81.17 - val loss: 0.5415 - val acc: 81.37\n",
            "Epoch 19 finished in 11.01s. loss: 0.5340 - acc: 81.37 - val loss: 0.5366 - val acc: 81.72\n"
          ],
          "name": "stdout"
        }
      ]
    },
    {
      "cell_type": "code",
      "metadata": {
        "id": "5axkYcr74TlZ",
        "colab_type": "code",
        "colab": {
          "base_uri": "https://localhost:8080/",
          "height": 475
        },
        "outputId": "7b74add2-5e3f-472f-bdeb-6b56594c35df"
      },
      "source": [
        "fig = plt.figure(figsize=(15, 7))\n",
        "\n",
        "# loss\n",
        "ax = fig.add_subplot(121)\n",
        "ax.set_title('Loss / Epoch')\n",
        "ax.set_ylabel('Loss')\n",
        "ax.set_xlabel('Epoch')\n",
        "ax.set_aspect('auto')\n",
        "\n",
        "plt.plot(train_loss, label='Train', color='green', linewidth=3)\n",
        "plt.plot(val_loss, label='Validation', color='red', linewidth=3)\n",
        "\n",
        "\n",
        "plt.legend()\n",
        "\n",
        "# acc\n",
        "ax = fig.add_subplot(122)\n",
        "ax.set_title('Accuracy / Epoch')\n",
        "ax.set_ylabel('Accuracy')\n",
        "ax.set_xlabel('Epoch')\n",
        "ax.set_aspect('auto')\n",
        "\n",
        "plt.plot(train_acc, label='Train', color='green', linewidth=3)\n",
        "plt.plot(val_acc, label='Validation', color='red', linewidth=3)\n",
        "\n",
        "\n",
        "plt.legend()"
      ],
      "execution_count": 41,
      "outputs": [
        {
          "output_type": "execute_result",
          "data": {
            "text/plain": [
              "<matplotlib.legend.Legend at 0x7efc73252128>"
            ]
          },
          "metadata": {
            "tags": []
          },
          "execution_count": 41
        },
        {
          "output_type": "display_data",
          "data": {
            "image/png": "[encoded data removed]",
            "text/plain": [
              "<Figure size 1080x504 with 2 Axes>"
            ]
          },
          "metadata": {
            "tags": [],
            "needs_background": "light"
          }
        }
      ]
    },
    {
      "cell_type": "code",
      "metadata": {
        "id": "4zHeP4dh84h0",
        "colab_type": "code",
        "colab": {
          "base_uri": "https://localhost:8080/",
          "height": 35
        },
        "outputId": "3d92d6ae-b4a6-40d3-a5b6-46d02d9cd3fe"
      },
      "source": [
        "test_loss, test_accuracy = model.evaluate(X_test, y_test, batch_size)\n",
        "print(f'Test loss: {test_loss:.4f} - Accuracy: {test_accuracy:.2f}')"
      ],
      "execution_count": 42,
      "outputs": [
        {
          "output_type": "stream",
          "text": [
            "Test loss: 0.5640 - Accuracy: 81.12\n"
          ],
          "name": "stdout"
        }
      ]
    }
  ]
}