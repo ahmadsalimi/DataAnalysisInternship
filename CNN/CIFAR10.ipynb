{
  "nbformat": 4,
  "nbformat_minor": 0,
  "metadata": {
    "colab": {
      "name": "CIFAR10",
      "provenance": [],
      "collapsed_sections": [],
      "authorship_tag": "ABX9TyOZmwnxFKILeOehWiBi6aiQ"
    },
    "kernelspec": {
      "name": "python3",
      "display_name": "Python 3"
    },
    "accelerator": "GPU"
  },
  "cells": [
    {
      "cell_type": "code",
      "metadata": {
        "id": "K9j6XomVyKDr",
        "colab_type": "code",
        "colab": {}
      },
      "source": [
        "import numpy as np\n",
        "import torch\n",
        "import sklearn\n",
        "from sklearn.model_selection import train_test_split\n",
        "from time import time\n",
        "import matplotlib.pyplot as plt\n",
        "from keras.datasets import cifar10"
      ],
      "execution_count": 1,
      "outputs": []
    },
    {
      "cell_type": "code",
      "metadata": {
        "id": "27pX20yJ1D3j",
        "colab_type": "code",
        "colab": {}
      },
      "source": [
        "class Cifar10Classifier(torch.nn.Module):\n",
        "\n",
        "    def __init__(self):\n",
        "        super(Cifar10Classifier, self).__init__()\n",
        "\n",
        "        self.features = torch.nn.Sequential(                                                        # inp: B 3 32 32\n",
        "            torch.nn.Conv2d(in_channels=3, out_channels=32, kernel_size=3, stride=1, padding=1),    # B 32 32 32\n",
        "            torch.nn.ReLU(),\n",
        "            torch.nn.Conv2d(in_channels=32, out_channels=32, kernel_size=3, stride=1, padding=1),   # B 32 32 32\n",
        "            torch.nn.ReLU(),\n",
        "            torch.nn.MaxPool2d(kernel_size=2, stride=2, padding=0),                                 # B 32 16 16\n",
        "            torch.nn.Conv2d(in_channels=32, out_channels=64, kernel_size=3, stride=1, padding=1),   # B 64 16 16\n",
        "            torch.nn.ReLU(),\n",
        "            torch.nn.Conv2d(in_channels=64, out_channels=64, kernel_size=3, stride=1, padding=1),   # B 64 16 16\n",
        "            torch.nn.ReLU(),\n",
        "            torch.nn.MaxPool2d(kernel_size=2, stride=2, padding=0),                                 # B 64 8 8\n",
        "            torch.nn.Conv2d(in_channels=64, out_channels=128, kernel_size=3, stride=1, padding=1),  # B 128 8 8\n",
        "            torch.nn.ReLU(),\n",
        "            torch.nn.Conv2d(in_channels=128, out_channels=128, kernel_size=3, stride=1, padding=1), # B 128 8 8\n",
        "            torch.nn.ReLU(),\n",
        "            torch.nn.MaxPool2d(kernel_size=2, stride=2, padding=0)                                  # B 128 4 4\n",
        "        )\n",
        "\n",
        "        self.decider = torch.nn.Sequential(\n",
        "            torch.nn.Dropout(0.5),\n",
        "            torch.nn.Linear(4 * 4 * 128, 128),                                                      # B 128\n",
        "            torch.nn.ReLU(),\n",
        "            torch.nn.Linear(128, 10)                                                                # B 10\n",
        "        )\n",
        "\n",
        "        self.log_prob_cal = torch.nn.LogSoftmax(dim=-1)\n",
        "\n",
        "        self.optimizer = torch.optim.Adam(filter(\n",
        "            lambda p: p.requires_grad, self.parameters()), \n",
        "            lr=0.001\n",
        "        )\n",
        "\n",
        "        self.batch_x_placeholder = torch.zeros(size=[1, 3, 32, 32], dtype=torch.float32, device=torch.device('cuda:0'))\n",
        "        self.batch_y_placeholder = torch.zeros(size=[1], dtype=torch.long, device=torch.device('cuda:0'))\n",
        "    \n",
        "    def forward(self, b_x, b_y=None):\n",
        "        conv_features = self.features(b_x)\n",
        "        class_scores = self.decider(conv_features.flatten(1))\n",
        "        log_probs = self.log_prob_cal(class_scores)\n",
        "        loss = -1 * torch.mean(log_probs[torch.arange(b_x.shape[0]), b_y])\n",
        "        decision = torch.argmax(log_probs, dim=-1)\n",
        "        return decision, loss\n",
        "    \n",
        "    def train_epoch(self, X_train, y_train, batch_size):\n",
        "        self.train()\n",
        "\n",
        "        iters_per_epoch = int(np.ceil(1.0 * len(X_train) / batch_size))\n",
        "\n",
        "        # shuffling\n",
        "        indices = np.arange(len(X_train))\n",
        "\n",
        "        epoch_loss = 0\n",
        "        tps = 0\n",
        "\n",
        "        # iterate over training set\n",
        "        for iter in range(iters_per_epoch):\n",
        "            batch_indices = indices[iter * batch_size: min(len(indices), (iter + 1) * batch_size)]\n",
        "\n",
        "            # reshape placeholder\n",
        "            if len(batch_indices) != len(self.batch_x_placeholder):\n",
        "                self.batch_x_placeholder.resize_([len(batch_indices), 3, 32, 32])\n",
        "                self.batch_y_placeholder.resize_([len(batch_indices)])\n",
        "\n",
        "            self.batch_x_placeholder.copy_(torch.Tensor(X_train[batch_indices, :, :, :]))\n",
        "            self.batch_y_placeholder.copy_(torch.Tensor(y_train[batch_indices].astype(int)))\n",
        "\n",
        "            b_decision, b_loss = self(self.batch_x_placeholder, self.batch_y_placeholder)\n",
        "            b_decision = b_decision.cpu().numpy()\n",
        "\n",
        "            epoch_loss += float(b_loss) / iters_per_epoch\n",
        "            tps += np.sum(y_train[batch_indices].astype(int) == b_decision)\n",
        "\n",
        "            b_loss.backward()\n",
        "\n",
        "            self.optimizer.step()\n",
        "            self.optimizer.zero_grad()\n",
        "            \n",
        "        epoch_train_accuracy = tps * 100.0 / len(X_train)\n",
        "\n",
        "        return epoch_loss, epoch_train_accuracy\n",
        "    \n",
        "    def evaluate(self, X, y, batch_size):\n",
        "        with torch.no_grad():\n",
        "            self.eval()\n",
        "\n",
        "            iters_per_epoch = int(np.ceil(1.0 * len(X) / batch_size))\n",
        "\n",
        "            indices = np.arange(len(X))\n",
        "            np.random.shuffle(indices)\n",
        "\n",
        "            loss = 0\n",
        "            tps = 0\n",
        "\n",
        "            for iter in range(iters_per_epoch):\n",
        "                batch_indices = indices[iter * batch_size: min(len(indices), (iter + 1) * batch_size)]\n",
        "\n",
        "                # reshape placeholder\n",
        "                if len(batch_indices) != len(self.batch_x_placeholder):\n",
        "                    self.batch_x_placeholder.resize_([len(batch_indices), 3, 32, 32])\n",
        "                    self.batch_y_placeholder.resize_([len(batch_indices)])\n",
        "                    \n",
        "                self.batch_x_placeholder.copy_(torch.Tensor(X[batch_indices]))\n",
        "                self.batch_y_placeholder.copy_(torch.Tensor(y[batch_indices].astype(int)))\n",
        "\n",
        "                b_decision, b_loss = self(self.batch_x_placeholder, self.batch_y_placeholder)\n",
        "                b_decision = b_decision.cpu().numpy()\n",
        "\n",
        "                loss += float(b_loss) / iters_per_epoch\n",
        "                tps += np.sum(y[batch_indices].astype(int) == b_decision)\n",
        "\n",
        "            accuracy = tps * 100.0 / len(X)\n",
        "\n",
        "            return loss, accuracy\n",
        "\n",
        "    def fit(self, X_train, y_train, epochs, batch_size):\n",
        "        X_train, X_val, y_train, y_val = train_test_split(X_train, y_train, test_size=0.2, random_state=40)\n",
        "\n",
        "        train_loss = np.zeros((epochs,))\n",
        "        val_loss = np.zeros((epochs,))\n",
        "        train_acc = np.zeros((epochs,))\n",
        "        val_acc = np.zeros((epochs,))\n",
        "\n",
        "        val_iters_per_epoch = int(np.ceil(1.0 * len(X_val) / batch_size))\n",
        "\n",
        "        for e in range(epochs):\n",
        "            t_start = time()\n",
        "\n",
        "            # train over dataset\n",
        "            epoch_train_loss, epoch_train_accuracy = self.train_epoch(X_train, y_train, batch_size)\n",
        "            train_loss[e] = epoch_train_loss\n",
        "            train_acc[e] = epoch_train_accuracy\n",
        "\n",
        "            # validating over validation set\n",
        "            epoch_val_loss, epoch_val_accuracy = self.evaluate(X_val, y_val, batch_size)\n",
        "            val_loss[e] = epoch_val_loss\n",
        "            val_acc[e] = epoch_val_accuracy\n",
        "\n",
        "            #saving model\n",
        "            torch.save({\n",
        "                    'epoch': e,\n",
        "                    'optimizer_state_dict': self.optimizer.state_dict(),\n",
        "                    'model_state_dict': self.state_dict(),\n",
        "                    'epoch_train_loss': epoch_train_loss,\n",
        "                    'epoch_train_accuracy': epoch_train_accuracy,\n",
        "                    'epoch_val_loss': epoch_val_loss,\n",
        "                    'epoch_val_accuracy': epoch_val_accuracy\n",
        "                }, f'CIFAR10/epoch_{e}_state.pt')\n",
        "\n",
        "            print(f'Epoch {e} finished in {time() - t_start:.2f}s. loss: {epoch_train_loss:.4f} - acc: {epoch_train_accuracy:.2f} - val loss: {epoch_val_loss:.4f} - val acc: {epoch_val_accuracy:.2f}')\n",
        "        \n",
        "        return train_loss, val_loss, train_acc, val_acc"
      ],
      "execution_count": 10,
      "outputs": []
    },
    {
      "cell_type": "code",
      "metadata": {
        "id": "HkfIuaoL-hee",
        "colab_type": "code",
        "colab": {}
      },
      "source": [
        "(X_train, y_train), (X_test, y_test) = cifar10.load_data()"
      ],
      "execution_count": 11,
      "outputs": []
    },
    {
      "cell_type": "code",
      "metadata": {
        "id": "KOyZBqH8tMqk",
        "colab_type": "code",
        "colab": {
          "base_uri": "https://localhost:8080/",
          "height": 35
        },
        "outputId": "b5ec73a5-e825-48a1-b74a-dad3ef2ba312"
      },
      "source": [
        "X_train = np.transpose(X_train, axes=(0, 3, 1, 2))\n",
        "X_train.shape"
      ],
      "execution_count": 12,
      "outputs": [
        {
          "output_type": "execute_result",
          "data": {
            "text/plain": [
              "(50000, 3, 32, 32)"
            ]
          },
          "metadata": {
            "tags": []
          },
          "execution_count": 12
        }
      ]
    },
    {
      "cell_type": "code",
      "metadata": {
        "id": "EgdLkyyiuUfY",
        "colab_type": "code",
        "colab": {
          "base_uri": "https://localhost:8080/",
          "height": 35
        },
        "outputId": "3ba06739-de5e-4f56-d16a-8b4167fecbd3"
      },
      "source": [
        "X_test = np.transpose(X_test, axes=(0, 3, 1, 2))\n",
        "X_test.shape"
      ],
      "execution_count": 13,
      "outputs": [
        {
          "output_type": "execute_result",
          "data": {
            "text/plain": [
              "(10000, 3, 32, 32)"
            ]
          },
          "metadata": {
            "tags": []
          },
          "execution_count": 13
        }
      ]
    },
    {
      "cell_type": "code",
      "metadata": {
        "id": "ZUXFc6mMvD10",
        "colab_type": "code",
        "colab": {
          "base_uri": "https://localhost:8080/",
          "height": 35
        },
        "outputId": "b117119f-da69-46e8-a900-2d427a484552"
      },
      "source": [
        "y_train = y_train.reshape((50000,))\n",
        "y_train.shape"
      ],
      "execution_count": 14,
      "outputs": [
        {
          "output_type": "execute_result",
          "data": {
            "text/plain": [
              "(50000,)"
            ]
          },
          "metadata": {
            "tags": []
          },
          "execution_count": 14
        }
      ]
    },
    {
      "cell_type": "code",
      "metadata": {
        "id": "eTgwV3akywYL",
        "colab_type": "code",
        "colab": {
          "base_uri": "https://localhost:8080/",
          "height": 35
        },
        "outputId": "7c2a1a83-8eb9-443c-fa1b-99d1096eb39a"
      },
      "source": [
        "y_test = y_test.reshape((10000,))\n",
        "y_test.shape"
      ],
      "execution_count": 15,
      "outputs": [
        {
          "output_type": "execute_result",
          "data": {
            "text/plain": [
              "(10000,)"
            ]
          },
          "metadata": {
            "tags": []
          },
          "execution_count": 15
        }
      ]
    },
    {
      "cell_type": "code",
      "metadata": {
        "id": "crvtSmiL4Lfw",
        "colab_type": "code",
        "colab": {}
      },
      "source": [
        "batch_size = 128\n",
        "epochs = 50"
      ],
      "execution_count": 19,
      "outputs": []
    },
    {
      "cell_type": "code",
      "metadata": {
        "id": "eu4HLk3t0Gk6",
        "colab_type": "code",
        "colab": {}
      },
      "source": [
        "model = Cifar10Classifier()\n",
        "model = model.cuda()"
      ],
      "execution_count": 20,
      "outputs": []
    },
    {
      "cell_type": "code",
      "metadata": {
        "id": "iRoGovEQ4RKF",
        "colab_type": "code",
        "colab": {
          "base_uri": "https://localhost:8080/",
          "height": 897
        },
        "outputId": "9158687c-674a-4d85-8f6f-7763d9f00479"
      },
      "source": [
        "train_loss, val_loss, train_acc, val_acc = model.fit(X_train, y_train, epochs, batch_size)"
      ],
      "execution_count": 21,
      "outputs": [
        {
          "output_type": "stream",
          "text": [
            "Epoch 0 finished in 9.98s. loss: 1.6949 - acc: 36.90 - val loss: 1.3364 - val acc: 51.71\n",
            "Epoch 1 finished in 9.84s. loss: 1.1954 - acc: 56.96 - val loss: 1.0027 - val acc: 64.84\n",
            "Epoch 2 finished in 9.88s. loss: 0.9787 - acc: 65.72 - val loss: 0.9839 - val acc: 66.33\n",
            "Epoch 3 finished in 9.88s. loss: 0.8649 - acc: 69.73 - val loss: 0.8476 - val acc: 71.08\n",
            "Epoch 4 finished in 9.85s. loss: 0.7600 - acc: 73.19 - val loss: 0.8874 - val acc: 70.84\n",
            "Epoch 5 finished in 9.89s. loss: 0.7051 - acc: 75.51 - val loss: 0.8300 - val acc: 71.48\n",
            "Epoch 6 finished in 9.88s. loss: 0.6440 - acc: 77.23 - val loss: 0.8232 - val acc: 73.06\n",
            "Epoch 7 finished in 9.88s. loss: 0.5964 - acc: 78.91 - val loss: 0.7813 - val acc: 74.03\n",
            "Epoch 8 finished in 9.90s. loss: 0.5741 - acc: 79.89 - val loss: 0.8129 - val acc: 73.48\n",
            "Epoch 9 finished in 9.87s. loss: 0.5429 - acc: 80.90 - val loss: 0.7658 - val acc: 74.51\n",
            "Epoch 10 finished in 9.85s. loss: 0.5207 - acc: 81.62 - val loss: 0.8042 - val acc: 73.34\n",
            "Epoch 11 finished in 9.88s. loss: 0.5006 - acc: 82.33 - val loss: 0.8309 - val acc: 74.04\n",
            "Epoch 12 finished in 9.88s. loss: 0.4798 - acc: 82.93 - val loss: 0.8384 - val acc: 73.75\n",
            "Epoch 13 finished in 9.86s. loss: 0.4643 - acc: 83.72 - val loss: 0.8013 - val acc: 75.39\n",
            "Epoch 14 finished in 9.89s. loss: 0.4381 - acc: 84.33 - val loss: 0.7893 - val acc: 75.71\n",
            "Epoch 15 finished in 9.90s. loss: 0.4153 - acc: 85.25 - val loss: 0.8289 - val acc: 75.85\n",
            "Epoch 16 finished in 9.87s. loss: 0.4101 - acc: 85.57 - val loss: 0.8020 - val acc: 76.02\n",
            "Epoch 17 finished in 9.85s. loss: 0.3876 - acc: 86.19 - val loss: 0.8710 - val acc: 74.72\n",
            "Epoch 18 finished in 9.88s. loss: 0.3953 - acc: 86.28 - val loss: 0.8943 - val acc: 75.22\n",
            "Epoch 19 finished in 9.88s. loss: 0.3715 - acc: 86.98 - val loss: 0.8675 - val acc: 75.82\n",
            "Epoch 20 finished in 9.89s. loss: 0.3614 - acc: 87.31 - val loss: 0.9408 - val acc: 74.52\n",
            "Epoch 21 finished in 9.87s. loss: 0.3684 - acc: 87.11 - val loss: 0.8866 - val acc: 75.22\n",
            "Epoch 22 finished in 9.89s. loss: 0.3463 - acc: 87.73 - val loss: 0.8376 - val acc: 76.03\n",
            "Epoch 23 finished in 9.86s. loss: 0.3284 - acc: 88.57 - val loss: 0.9710 - val acc: 75.48\n",
            "Epoch 24 finished in 9.87s. loss: 0.3269 - acc: 88.45 - val loss: 0.8811 - val acc: 75.91\n",
            "Epoch 25 finished in 9.90s. loss: 0.3235 - acc: 88.73 - val loss: 0.9020 - val acc: 75.64\n",
            "Epoch 26 finished in 9.89s. loss: 0.2978 - acc: 89.59 - val loss: 0.8659 - val acc: 76.64\n",
            "Epoch 27 finished in 9.86s. loss: 0.3019 - acc: 89.59 - val loss: 0.8942 - val acc: 75.98\n",
            "Epoch 28 finished in 9.88s. loss: 0.2991 - acc: 89.65 - val loss: 0.9048 - val acc: 76.24\n",
            "Epoch 29 finished in 9.89s. loss: 0.2946 - acc: 89.58 - val loss: 0.8973 - val acc: 76.50\n",
            "Epoch 30 finished in 9.89s. loss: 0.2998 - acc: 89.70 - val loss: 0.8791 - val acc: 76.37\n",
            "Epoch 31 finished in 9.86s. loss: 0.2825 - acc: 90.19 - val loss: 0.8881 - val acc: 77.01\n",
            "Epoch 32 finished in 9.89s. loss: 0.2928 - acc: 89.80 - val loss: 0.9203 - val acc: 76.00\n",
            "Epoch 33 finished in 9.87s. loss: 0.2733 - acc: 90.58 - val loss: 0.9153 - val acc: 76.30\n",
            "Epoch 34 finished in 9.88s. loss: 0.2706 - acc: 90.67 - val loss: 0.8984 - val acc: 77.18\n",
            "Epoch 35 finished in 9.85s. loss: 0.2655 - acc: 90.88 - val loss: 0.9481 - val acc: 76.48\n",
            "Epoch 36 finished in 9.90s. loss: 0.2646 - acc: 90.92 - val loss: 0.9689 - val acc: 75.74\n",
            "Epoch 37 finished in 9.91s. loss: 0.2667 - acc: 90.89 - val loss: 0.9454 - val acc: 76.53\n",
            "Epoch 38 finished in 9.87s. loss: 0.2503 - acc: 91.39 - val loss: 1.1024 - val acc: 74.47\n",
            "Epoch 39 finished in 9.86s. loss: 0.2565 - acc: 91.19 - val loss: 0.9566 - val acc: 76.63\n",
            "Epoch 40 finished in 9.88s. loss: 0.2658 - acc: 91.01 - val loss: 0.9562 - val acc: 76.01\n",
            "Epoch 41 finished in 9.88s. loss: 0.2456 - acc: 91.70 - val loss: 0.9402 - val acc: 76.07\n",
            "Epoch 42 finished in 9.90s. loss: 0.2506 - acc: 91.56 - val loss: 0.9537 - val acc: 77.03\n",
            "Epoch 43 finished in 9.91s. loss: 0.2531 - acc: 91.41 - val loss: 1.0177 - val acc: 75.40\n",
            "Epoch 44 finished in 9.89s. loss: 0.2324 - acc: 92.10 - val loss: 1.0187 - val acc: 76.10\n",
            "Epoch 45 finished in 9.89s. loss: 0.2471 - acc: 91.67 - val loss: 0.9984 - val acc: 75.91\n",
            "Epoch 46 finished in 9.90s. loss: 0.2362 - acc: 91.97 - val loss: 0.9769 - val acc: 76.05\n",
            "Epoch 47 finished in 9.87s. loss: 0.2342 - acc: 92.11 - val loss: 0.9755 - val acc: 75.80\n",
            "Epoch 48 finished in 9.90s. loss: 0.2306 - acc: 92.09 - val loss: 1.0270 - val acc: 76.39\n",
            "Epoch 49 finished in 9.90s. loss: 0.2243 - acc: 92.46 - val loss: 1.1774 - val acc: 75.79\n"
          ],
          "name": "stdout"
        }
      ]
    },
    {
      "cell_type": "code",
      "metadata": {
        "id": "5axkYcr74TlZ",
        "colab_type": "code",
        "colab": {
          "base_uri": "https://localhost:8080/",
          "height": 475
        },
        "outputId": "5bcaa40d-5cb6-4236-ebc1-6b23b8457079"
      },
      "source": [
        "fig = plt.figure(figsize=(15, 7))\n",
        "\n",
        "# loss\n",
        "ax = fig.add_subplot(121)\n",
        "ax.set_title('Loss / Epoch')\n",
        "ax.set_ylabel('Loss')\n",
        "ax.set_xlabel('Epoch')\n",
        "ax.set_aspect('auto')\n",
        "\n",
        "plt.plot(train_loss, label='Train', color='green', linewidth=3)\n",
        "plt.plot(val_loss, label='Validation', color='red', linewidth=3)\n",
        "\n",
        "\n",
        "plt.legend()\n",
        "\n",
        "# acc\n",
        "ax = fig.add_subplot(122)\n",
        "ax.set_title('Accuracy / Epoch')\n",
        "ax.set_ylabel('Accuracy')\n",
        "ax.set_xlabel('Epoch')\n",
        "ax.set_aspect('auto')\n",
        "\n",
        "plt.plot(train_acc, label='Train', color='green', linewidth=3)\n",
        "plt.plot(val_acc, label='Validation', color='red', linewidth=3)\n",
        "\n",
        "\n",
        "plt.legend()"
      ],
      "execution_count": 23,
      "outputs": [
        {
          "output_type": "execute_result",
          "data": {
            "text/plain": [
              "<matplotlib.legend.Legend at 0x7efc5e23ab70>"
            ]
          },
          "metadata": {
            "tags": []
          },
          "execution_count": 23
        },
        {
          "output_type": "display_data",
          "data": {
            "image/png": "[encoded data removed]",
            "text/plain": [
              "<Figure size 1080x504 with 2 Axes>"
            ]
          },
          "metadata": {
            "tags": [],
            "needs_background": "light"
          }
        }
      ]
    },
    {
      "cell_type": "code",
      "metadata": {
        "id": "4zHeP4dh84h0",
        "colab_type": "code",
        "colab": {
          "base_uri": "https://localhost:8080/",
          "height": 35
        },
        "outputId": "c39c0136-1273-4cb0-8d97-02f832116d3e"
      },
      "source": [
        "test_loss, test_accuracy = model.evaluate(X_test, y_test, batch_size)\n",
        "print(f'Test loss: {test_loss:.4f} - Accuracy: {test_accuracy:.2f}')"
      ],
      "execution_count": 24,
      "outputs": [
        {
          "output_type": "stream",
          "text": [
            "Test loss: 1.1682 - Accuracy: 75.16\n"
          ],
          "name": "stdout"
        }
      ]
    }
  ]
}