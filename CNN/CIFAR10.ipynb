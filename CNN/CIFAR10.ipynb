{
  "nbformat": 4,
  "nbformat_minor": 0,
  "metadata": {
    "colab": {
      "name": "CIFAR10",
      "provenance": [],
      "collapsed_sections": [],
      "authorship_tag": "ABX9TyPmBaCsvMBOg5sbOMdtcdCv"
    },
    "kernelspec": {
      "name": "python3",
      "display_name": "Python 3"
    },
    "accelerator": "GPU"
  },
  "cells": [
    {
      "cell_type": "code",
      "metadata": {
        "id": "K9j6XomVyKDr",
        "colab_type": "code",
        "colab": {}
      },
      "source": [
        "import numpy as np\n",
        "import torch\n",
        "import sklearn\n",
        "from sklearn.model_selection import train_test_split\n",
        "from time import time\n",
        "import matplotlib.pyplot as plt\n",
        "from keras.datasets import cifar10"
      ],
      "execution_count": 1,
      "outputs": []
    },
    {
      "cell_type": "code",
      "metadata": {
        "id": "27pX20yJ1D3j",
        "colab_type": "code",
        "colab": {}
      },
      "source": [
        "class Cifar10Classifier(torch.nn.Module):\n",
        "\n",
        "    def __init__(self):\n",
        "        super(Cifar10Classifier, self).__init__()\n",
        "\n",
        "        self.features = torch.nn.Sequential(                                                        # inp: B 3 32 32\n",
        "            torch.nn.BatchNorm2d(num_features=3),\n",
        "            torch.nn.Conv2d(in_channels=3, out_channels=96, kernel_size=3, stride=1, padding=1),    # B 96 32 32\n",
        "            torch.nn.ReLU(),\n",
        "            torch.nn.Conv2d(in_channels=96, out_channels=96, kernel_size=3, stride=1, padding=1),   # B 96 32 32\n",
        "            torch.nn.ReLU(),\n",
        "            torch.nn.MaxPool2d(kernel_size=2, stride=2, padding=0),                                 # B 96 16 16\n",
        "            torch.nn.Dropout2d(0.2),\n",
        "            torch.nn.BatchNorm2d(num_features=96),\n",
        "            torch.nn.Conv2d(in_channels=96, out_channels=192, kernel_size=3, stride=1, padding=1),  # B 192 16 16\n",
        "            torch.nn.ReLU(),\n",
        "            torch.nn.Conv2d(in_channels=192, out_channels=192, kernel_size=3, stride=1, padding=1), # B 192 16 16\n",
        "            torch.nn.ReLU(),\n",
        "            torch.nn.MaxPool2d(kernel_size=2, stride=2, padding=0),                                 # B 192 8 8\n",
        "            torch.nn.Dropout2d(0.2),\n",
        "            torch.nn.BatchNorm2d(num_features=192),\n",
        "            torch.nn.Conv2d(in_channels=192, out_channels=384, kernel_size=3, stride=1, padding=1), # B 384 8 8\n",
        "            torch.nn.ReLU(),\n",
        "            torch.nn.Conv2d(in_channels=384, out_channels=384, kernel_size=3, stride=1, padding=1), # B 384 8 8\n",
        "            torch.nn.ReLU(),\n",
        "            torch.nn.MaxPool2d(kernel_size=2, stride=2, padding=0),                                 # B 384 4 4\n",
        "            torch.nn.Dropout2d(0.2)\n",
        "        )\n",
        "\n",
        "        self.decider = torch.nn.Sequential(\n",
        "            torch.nn.Dropout(0.5),\n",
        "            torch.nn.Linear(4 * 4 * 384, 128),                                                      # B 4 * 4 * 384\n",
        "            torch.nn.ReLU(),\n",
        "            torch.nn.Linear(128, 10)                                                                # B 10\n",
        "        )\n",
        "\n",
        "        self.log_prob_cal = torch.nn.LogSoftmax(dim=-1)\n",
        "\n",
        "        self.optimizer = torch.optim.Adam(filter(\n",
        "            lambda p: p.requires_grad, self.parameters()), \n",
        "            lr=0.001\n",
        "        )\n",
        "\n",
        "        self.batch_x_placeholder = torch.zeros(size=[1, 3, 32, 32], dtype=torch.float32, device=torch.device('cuda:0'))\n",
        "        self.batch_y_placeholder = torch.zeros(size=[1], dtype=torch.long, device=torch.device('cuda:0'))\n",
        "    \n",
        "    def forward(self, b_x, b_y=None):\n",
        "        conv_features = self.features(b_x)\n",
        "        class_scores = self.decider(conv_features.flatten(1))\n",
        "        log_probs = self.log_prob_cal(class_scores)\n",
        "        loss = -1 * torch.mean(log_probs[torch.arange(b_x.shape[0]), b_y])\n",
        "        decision = torch.argmax(log_probs, dim=-1)\n",
        "        return decision, loss\n",
        "    \n",
        "    def train_epoch(self, X_train, y_train, batch_size):\n",
        "        self.train()\n",
        "\n",
        "        iters_per_epoch = int(np.ceil(1.0 * len(X_train) / batch_size))\n",
        "\n",
        "        # shuffling\n",
        "        indices = np.arange(len(X_train))\n",
        "\n",
        "        epoch_loss = 0\n",
        "        tps = 0\n",
        "\n",
        "        # iterate over training set\n",
        "        for iter in range(iters_per_epoch):\n",
        "            batch_indices = indices[iter * batch_size: min(len(indices), (iter + 1) * batch_size)]\n",
        "\n",
        "            # reshape placeholder\n",
        "            if len(batch_indices) != len(self.batch_x_placeholder):\n",
        "                self.batch_x_placeholder.resize_([len(batch_indices), 3, 32, 32])\n",
        "                self.batch_y_placeholder.resize_([len(batch_indices)])\n",
        "\n",
        "            self.batch_x_placeholder.copy_(torch.Tensor(X_train[batch_indices, :, :, :]))\n",
        "            self.batch_y_placeholder.copy_(torch.Tensor(y_train[batch_indices].astype(int)))\n",
        "\n",
        "            b_decision, b_loss = self(self.batch_x_placeholder, self.batch_y_placeholder)\n",
        "            b_decision = b_decision.cpu().numpy()\n",
        "\n",
        "            epoch_loss += float(b_loss) / iters_per_epoch\n",
        "            tps += np.sum(y_train[batch_indices].astype(int) == b_decision)\n",
        "\n",
        "            b_loss.backward()\n",
        "\n",
        "            self.optimizer.step()\n",
        "            self.optimizer.zero_grad()\n",
        "            \n",
        "        epoch_train_accuracy = tps * 100.0 / len(X_train)\n",
        "\n",
        "        return epoch_loss, epoch_train_accuracy\n",
        "    \n",
        "    def evaluate(self, X, y, batch_size):\n",
        "        with torch.no_grad():\n",
        "            self.eval()\n",
        "\n",
        "            iters_per_epoch = int(np.ceil(1.0 * len(X) / batch_size))\n",
        "\n",
        "            indices = np.arange(len(X))\n",
        "            np.random.shuffle(indices)\n",
        "\n",
        "            loss = 0\n",
        "            tps = 0\n",
        "\n",
        "            for iter in range(iters_per_epoch):\n",
        "                batch_indices = indices[iter * batch_size: min(len(indices), (iter + 1) * batch_size)]\n",
        "\n",
        "                # reshape placeholder\n",
        "                if len(batch_indices) != len(self.batch_x_placeholder):\n",
        "                    self.batch_x_placeholder.resize_([len(batch_indices), 3, 32, 32])\n",
        "                    self.batch_y_placeholder.resize_([len(batch_indices)])\n",
        "                    \n",
        "                self.batch_x_placeholder.copy_(torch.Tensor(X[batch_indices]))\n",
        "                self.batch_y_placeholder.copy_(torch.Tensor(y[batch_indices].astype(int)))\n",
        "\n",
        "                b_decision, b_loss = self(self.batch_x_placeholder, self.batch_y_placeholder)\n",
        "                b_decision = b_decision.cpu().numpy()\n",
        "\n",
        "                loss += float(b_loss) / iters_per_epoch\n",
        "                tps += np.sum(y[batch_indices].astype(int) == b_decision)\n",
        "\n",
        "            accuracy = tps * 100.0 / len(X)\n",
        "\n",
        "            return loss, accuracy\n",
        "\n",
        "    def fit(self, X_train, y_train, epochs, batch_size):\n",
        "        X_train, X_val, y_train, y_val = train_test_split(X_train, y_train, test_size=0.2)\n",
        "\n",
        "        train_loss = np.zeros((epochs,))\n",
        "        val_loss = np.zeros((epochs,))\n",
        "        train_acc = np.zeros((epochs,))\n",
        "        val_acc = np.zeros((epochs,))\n",
        "\n",
        "        val_iters_per_epoch = int(np.ceil(1.0 * len(X_val) / batch_size))\n",
        "\n",
        "        for e in range(epochs):\n",
        "            t_start = time()\n",
        "\n",
        "            # train over dataset\n",
        "            epoch_train_loss, epoch_train_accuracy = self.train_epoch(X_train, y_train, batch_size)\n",
        "            train_loss[e] = epoch_train_loss\n",
        "            train_acc[e] = epoch_train_accuracy\n",
        "\n",
        "            # validating over validation set\n",
        "            epoch_val_loss, epoch_val_accuracy = self.evaluate(X_val, y_val, batch_size)\n",
        "            val_loss[e] = epoch_val_loss\n",
        "            val_acc[e] = epoch_val_accuracy\n",
        "\n",
        "            #saving model\n",
        "            torch.save({\n",
        "                    'epoch': e,\n",
        "                    'optimizer_state_dict': self.optimizer.state_dict(),\n",
        "                    'model_state_dict': self.state_dict(),\n",
        "                    'epoch_train_loss': epoch_train_loss,\n",
        "                    'epoch_train_accuracy': epoch_train_accuracy,\n",
        "                    'epoch_val_loss': epoch_val_loss,\n",
        "                    'epoch_val_accuracy': epoch_val_accuracy\n",
        "                }, f'CIFAR10/epoch_{e}_state.pt')\n",
        "\n",
        "            print(f'Epoch {e} finished in {time() - t_start:.2f}s. loss: {epoch_train_loss:.4f} - acc: {epoch_train_accuracy:.2f} - val loss: {epoch_val_loss:.4f} - val acc: {epoch_val_accuracy:.2f}')\n",
        "        \n",
        "        return train_loss, val_loss, train_acc, val_acc"
      ],
      "execution_count": 56,
      "outputs": []
    },
    {
      "cell_type": "code",
      "metadata": {
        "id": "HkfIuaoL-hee",
        "colab_type": "code",
        "colab": {}
      },
      "source": [
        "(X_train, y_train), (X_test, y_test) = cifar10.load_data()"
      ],
      "execution_count": 31,
      "outputs": []
    },
    {
      "cell_type": "code",
      "metadata": {
        "id": "KOyZBqH8tMqk",
        "colab_type": "code",
        "colab": {
          "base_uri": "https://localhost:8080/",
          "height": 35
        },
        "outputId": "5257f788-b173-45c8-f81e-5ad83d0438ea"
      },
      "source": [
        "X_train = np.transpose(X_train, axes=(0, 3, 1, 2))\n",
        "X_train.shape"
      ],
      "execution_count": 32,
      "outputs": [
        {
          "output_type": "execute_result",
          "data": {
            "text/plain": [
              "(50000, 3, 32, 32)"
            ]
          },
          "metadata": {
            "tags": []
          },
          "execution_count": 32
        }
      ]
    },
    {
      "cell_type": "code",
      "metadata": {
        "id": "EgdLkyyiuUfY",
        "colab_type": "code",
        "colab": {
          "base_uri": "https://localhost:8080/",
          "height": 35
        },
        "outputId": "952250bd-09d9-49f2-c129-47173abb46d3"
      },
      "source": [
        "X_test = np.transpose(X_test, axes=(0, 3, 1, 2))\n",
        "X_test.shape"
      ],
      "execution_count": 33,
      "outputs": [
        {
          "output_type": "execute_result",
          "data": {
            "text/plain": [
              "(10000, 3, 32, 32)"
            ]
          },
          "metadata": {
            "tags": []
          },
          "execution_count": 33
        }
      ]
    },
    {
      "cell_type": "code",
      "metadata": {
        "id": "ZUXFc6mMvD10",
        "colab_type": "code",
        "colab": {
          "base_uri": "https://localhost:8080/",
          "height": 35
        },
        "outputId": "799b9af1-55dc-461d-89e1-14a8dd3fb632"
      },
      "source": [
        "y_train = y_train.reshape((50000,))\n",
        "y_train.shape"
      ],
      "execution_count": 34,
      "outputs": [
        {
          "output_type": "execute_result",
          "data": {
            "text/plain": [
              "(50000,)"
            ]
          },
          "metadata": {
            "tags": []
          },
          "execution_count": 34
        }
      ]
    },
    {
      "cell_type": "code",
      "metadata": {
        "id": "eTgwV3akywYL",
        "colab_type": "code",
        "colab": {
          "base_uri": "https://localhost:8080/",
          "height": 35
        },
        "outputId": "89b952a7-d5b5-4d4e-f3da-02a393008fa4"
      },
      "source": [
        "y_test = y_test.reshape((10000,))\n",
        "y_test.shape"
      ],
      "execution_count": 35,
      "outputs": [
        {
          "output_type": "execute_result",
          "data": {
            "text/plain": [
              "(10000,)"
            ]
          },
          "metadata": {
            "tags": []
          },
          "execution_count": 35
        }
      ]
    },
    {
      "cell_type": "code",
      "metadata": {
        "id": "crvtSmiL4Lfw",
        "colab_type": "code",
        "colab": {}
      },
      "source": [
        "batch_size = 32\n",
        "epochs = 40"
      ],
      "execution_count": 60,
      "outputs": []
    },
    {
      "cell_type": "code",
      "metadata": {
        "id": "eu4HLk3t0Gk6",
        "colab_type": "code",
        "colab": {}
      },
      "source": [
        "model = Cifar10Classifier()\n",
        "model = model.cuda()"
      ],
      "execution_count": 61,
      "outputs": []
    },
    {
      "cell_type": "code",
      "metadata": {
        "id": "iRoGovEQ4RKF",
        "colab_type": "code",
        "colab": {
          "base_uri": "https://localhost:8080/",
          "height": 721
        },
        "outputId": "b09a6dd4-1e02-4ac0-88ce-732671f447d2"
      },
      "source": [
        "train_loss, val_loss, train_acc, val_acc = model.fit(X_train, y_train, epochs, batch_size)"
      ],
      "execution_count": 62,
      "outputs": [
        {
          "output_type": "stream",
          "text": [
            "Epoch 0 finished in 50.00s. loss: 1.5988 - acc: 41.19 - val loss: 1.2077 - val acc: 56.50\n",
            "Epoch 1 finished in 49.87s. loss: 1.2166 - acc: 56.41 - val loss: 1.0087 - val acc: 64.40\n",
            "Epoch 2 finished in 49.88s. loss: 1.0276 - acc: 63.85 - val loss: 0.8703 - val acc: 69.83\n",
            "Epoch 3 finished in 49.91s. loss: 0.9042 - acc: 68.50 - val loss: 0.7553 - val acc: 73.73\n",
            "Epoch 4 finished in 49.92s. loss: 0.8105 - acc: 72.13 - val loss: 0.7304 - val acc: 74.56\n",
            "Epoch 5 finished in 49.95s. loss: 0.7459 - acc: 74.25 - val loss: 0.6862 - val acc: 76.39\n",
            "Epoch 6 finished in 49.93s. loss: 0.6932 - acc: 76.12 - val loss: 0.6446 - val acc: 77.80\n",
            "Epoch 7 finished in 49.89s. loss: 0.6413 - acc: 77.86 - val loss: 0.6240 - val acc: 78.99\n",
            "Epoch 8 finished in 49.93s. loss: 0.6068 - acc: 79.02 - val loss: 0.6184 - val acc: 79.06\n",
            "Epoch 9 finished in 49.86s. loss: 0.5649 - acc: 80.61 - val loss: 0.5712 - val acc: 81.06\n",
            "Epoch 10 finished in 49.88s. loss: 0.5394 - acc: 81.58 - val loss: 0.5754 - val acc: 81.05\n",
            "Epoch 11 finished in 49.88s. loss: 0.5049 - acc: 82.61 - val loss: 0.5636 - val acc: 81.59\n",
            "Epoch 12 finished in 49.88s. loss: 0.4791 - acc: 83.40 - val loss: 0.5641 - val acc: 81.58\n",
            "Epoch 13 finished in 49.91s. loss: 0.4623 - acc: 84.15 - val loss: 0.5549 - val acc: 81.65\n",
            "Epoch 14 finished in 49.94s. loss: 0.4418 - acc: 85.11 - val loss: 0.5915 - val acc: 81.44\n",
            "Epoch 15 finished in 49.88s. loss: 0.4221 - acc: 85.67 - val loss: 0.5718 - val acc: 82.82\n",
            "Epoch 16 finished in 49.90s. loss: 0.4027 - acc: 86.38 - val loss: 0.5693 - val acc: 82.78\n",
            "Epoch 17 finished in 49.91s. loss: 0.3862 - acc: 86.81 - val loss: 0.5928 - val acc: 82.78\n",
            "Epoch 18 finished in 49.88s. loss: 0.3613 - acc: 87.67 - val loss: 0.6008 - val acc: 82.52\n",
            "Epoch 19 finished in 49.91s. loss: 0.3539 - acc: 88.01 - val loss: 0.5441 - val acc: 83.55\n",
            "Epoch 20 finished in 49.94s. loss: 0.3461 - acc: 88.49 - val loss: 0.5764 - val acc: 82.97\n",
            "Epoch 21 finished in 49.91s. loss: 0.3330 - acc: 88.56 - val loss: 0.5728 - val acc: 82.97\n",
            "Epoch 22 finished in 49.95s. loss: 0.3128 - acc: 89.52 - val loss: 0.6032 - val acc: 82.06\n",
            "Epoch 23 finished in 49.98s. loss: 0.3048 - acc: 89.74 - val loss: 0.5755 - val acc: 83.31\n",
            "Epoch 24 finished in 49.96s. loss: 0.2976 - acc: 90.09 - val loss: 0.5707 - val acc: 83.35\n",
            "Epoch 25 finished in 49.92s. loss: 0.2824 - acc: 90.47 - val loss: 0.6249 - val acc: 83.20\n",
            "Epoch 26 finished in 49.94s. loss: 0.2763 - acc: 90.77 - val loss: 0.6024 - val acc: 83.38\n",
            "Epoch 27 finished in 49.89s. loss: 0.2695 - acc: 90.97 - val loss: 0.5801 - val acc: 83.74\n",
            "Epoch 28 finished in 49.79s. loss: 0.2616 - acc: 91.33 - val loss: 0.5751 - val acc: 83.78\n",
            "Epoch 29 finished in 49.79s. loss: 0.2555 - acc: 91.42 - val loss: 0.5780 - val acc: 84.37\n",
            "Epoch 30 finished in 49.89s. loss: 0.2454 - acc: 91.85 - val loss: 0.5913 - val acc: 84.31\n",
            "Epoch 31 finished in 49.91s. loss: 0.2451 - acc: 91.93 - val loss: 0.5820 - val acc: 84.36\n",
            "Epoch 32 finished in 49.92s. loss: 0.2323 - acc: 92.21 - val loss: 0.5616 - val acc: 84.27\n",
            "Epoch 33 finished in 49.91s. loss: 0.2244 - acc: 92.62 - val loss: 0.6338 - val acc: 84.01\n",
            "Epoch 34 finished in 49.88s. loss: 0.2154 - acc: 92.78 - val loss: 0.6473 - val acc: 83.59\n",
            "Epoch 35 finished in 49.87s. loss: 0.2176 - acc: 92.89 - val loss: 0.5754 - val acc: 84.29\n",
            "Epoch 36 finished in 49.87s. loss: 0.2085 - acc: 93.26 - val loss: 0.5917 - val acc: 84.33\n",
            "Epoch 37 finished in 49.88s. loss: 0.2022 - acc: 93.35 - val loss: 0.5871 - val acc: 84.23\n",
            "Epoch 38 finished in 49.90s. loss: 0.1987 - acc: 93.46 - val loss: 0.6675 - val acc: 83.59\n",
            "Epoch 39 finished in 49.87s. loss: 0.1903 - acc: 93.79 - val loss: 0.6058 - val acc: 84.54\n"
          ],
          "name": "stdout"
        }
      ]
    },
    {
      "cell_type": "code",
      "metadata": {
        "id": "5axkYcr74TlZ",
        "colab_type": "code",
        "colab": {
          "base_uri": "https://localhost:8080/",
          "height": 475
        },
        "outputId": "fc1e1bf5-53c1-4069-b1a8-b1204f493909"
      },
      "source": [
        "fig = plt.figure(figsize=(15, 7))\n",
        "\n",
        "# loss\n",
        "ax = fig.add_subplot(121)\n",
        "ax.set_title('Loss / Epoch')\n",
        "ax.set_ylabel('Loss')\n",
        "ax.set_xlabel('Epoch')\n",
        "ax.set_aspect('auto')\n",
        "\n",
        "plt.plot(train_loss, label='Train', color='green', linewidth=3)\n",
        "plt.plot(val_loss, label='Validation', color='red', linewidth=3)\n",
        "\n",
        "\n",
        "plt.legend()\n",
        "\n",
        "# acc\n",
        "ax = fig.add_subplot(122)\n",
        "ax.set_title('Accuracy / Epoch')\n",
        "ax.set_ylabel('Accuracy')\n",
        "ax.set_xlabel('Epoch')\n",
        "ax.set_aspect('auto')\n",
        "\n",
        "plt.plot(train_acc, label='Train', color='green', linewidth=3)\n",
        "plt.plot(val_acc, label='Validation', color='red', linewidth=3)\n",
        "\n",
        "\n",
        "plt.legend()"
      ],
      "execution_count": 63,
      "outputs": [
        {
          "output_type": "execute_result",
          "data": {
            "text/plain": [
              "<matplotlib.legend.Legend at 0x7efc5c434f60>"
            ]
          },
          "metadata": {
            "tags": []
          },
          "execution_count": 63
        },
        {
          "output_type": "display_data",
          "data": {
            "image/png": "[encoded data removed]",
            "text/plain": [
              "<Figure size 1080x504 with 2 Axes>"
            ]
          },
          "metadata": {
            "tags": [],
            "needs_background": "light"
          }
        }
      ]
    },
    {
      "cell_type": "code",
      "metadata": {
        "id": "4zHeP4dh84h0",
        "colab_type": "code",
        "colab": {
          "base_uri": "https://localhost:8080/",
          "height": 35
        },
        "outputId": "1cae4b12-c969-4bb1-8e2c-429cdcd83cd1"
      },
      "source": [
        "test_loss, test_accuracy = model.evaluate(X_test, y_test, batch_size)\n",
        "print(f'Test loss: {test_loss:.4f} - Accuracy: {test_accuracy:.2f}')"
      ],
      "execution_count": 64,
      "outputs": [
        {
          "output_type": "stream",
          "text": [
            "Test loss: 0.6242 - Accuracy: 84.84\n"
          ],
          "name": "stdout"
        }
      ]
    }
  ]
}