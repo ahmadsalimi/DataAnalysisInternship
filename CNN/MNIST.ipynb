{
  "nbformat": 4,
  "nbformat_minor": 0,
  "metadata": {
    "colab": {
      "name": "MNIST",
      "provenance": [],
      "collapsed_sections": [],
      "authorship_tag": "ABX9TyP2ad4G70eDCY2dRdqqeksh"
    },
    "kernelspec": {
      "name": "python3",
      "display_name": "Python 3"
    },
    "accelerator": "GPU"
  },
  "cells": [
    {
      "cell_type": "code",
      "metadata": {
        "id": "nTIkT6BFWzJS",
        "colab_type": "code",
        "colab": {}
      },
      "source": [
        "import numpy as np\n",
        "import torch\n",
        "import sklearn\n",
        "from sklearn.datasets import fetch_openml\n",
        "from sklearn.model_selection import train_test_split\n",
        "from time import time\n",
        "import matplotlib.pyplot as plt"
      ],
      "execution_count": 1,
      "outputs": []
    },
    {
      "cell_type": "code",
      "metadata": {
        "id": "HkJLpygqYZz0",
        "colab_type": "code",
        "colab": {}
      },
      "source": [
        "class MnistClassifier(torch.nn.Module):\n",
        "\n",
        "    def __init__(self):\n",
        "        super(MnistClassifier, self).__init__()\n",
        "\n",
        "        self.features = torch.nn.Sequential(                    # inp: B 1 28 28\n",
        "            torch.nn.Conv2d(1, 32, 3, stride=1, padding=0),     # B 32 26 26\n",
        "            torch.nn.ReLU(),\n",
        "            torch.nn.Conv2d(32, 32, 3, stride=1, padding=0),    # B 32 24 24\n",
        "            torch.nn.ReLU(),\n",
        "            torch.nn.MaxPool2d(2, stride=2, padding=0),         # B 32 12 12\n",
        "            torch.nn.Conv2d(32, 64, 3, stride=1, padding=0),    # B 64 10 10\n",
        "            torch.nn.ReLU(),\n",
        "            torch.nn.Conv2d(64, 64, 3, stride=1, padding=0),    # B 64 8 8\n",
        "            torch.nn.ReLU(),\n",
        "            torch.nn.MaxPool2d(2, stride=2, padding=0),         # B 64 4 4\n",
        "            torch.nn.Conv2d(64, 128, 3, stride=1, padding=0),   # B 128 2 2\n",
        "            torch.nn.ReLU(),\n",
        "        )\n",
        "\n",
        "        self.decider = torch.nn.Sequential(\n",
        "            torch.nn.Dropout(0.5),\n",
        "            torch.nn.Linear(4 * 128, 128),                      # B 128\n",
        "            torch.nn.ReLU(),\n",
        "            torch.nn.Linear(128, 10)                            # B 10\n",
        "        )\n",
        "\n",
        "        self.log_prob_cal = torch.nn.LogSoftmax(dim=-1)\n",
        "        self.optimizer = torch.optim.Adam(filter(\n",
        "            lambda p: p.requires_grad, self.parameters()), \n",
        "            lr=0.001\n",
        "        )\n",
        "\n",
        "        self.batch_x_placeholder = torch.zeros(size=[1, 1, 28, 28], dtype=torch.float32, device=torch.device('cuda:0'))\n",
        "        self.batch_y_placeholder = torch.zeros(size=[1], dtype=torch.long, device=torch.device('cuda:0'))\n",
        "    \n",
        "    def forward(self, b_x, b_y=None):\n",
        "        conv_features = self.features(b_x)\n",
        "        class_scores = self.decider(conv_features.flatten(1))\n",
        "        log_probs = self.log_prob_cal(class_scores)\n",
        "        loss = -1 * torch.mean(log_probs[torch.arange(b_x.shape[0]), b_y])\n",
        "        decision = torch.argmax(log_probs, dim=-1)\n",
        "        return decision, loss\n",
        "    \n",
        "    def train_epoch(self, X_train, y_train, batch_size):\n",
        "        self.train()\n",
        "\n",
        "        iters_per_epoch = int(np.ceil(1.0 * len(X_train) / batch_size))\n",
        "\n",
        "        # shuffling\n",
        "        indices = np.arange(len(X_train))\n",
        "\n",
        "        epoch_loss = 0\n",
        "        tps = 0\n",
        "\n",
        "        # iterate over training set\n",
        "        for iter in range(iters_per_epoch):\n",
        "            batch_indices = indices[iter * batch_size: min(len(indices), (iter + 1) * batch_size)]\n",
        "\n",
        "            # reshape placeholder\n",
        "            if len(batch_indices) != len(self.batch_x_placeholder):\n",
        "                self.batch_x_placeholder.resize_([len(batch_indices), 1, 28, 28])\n",
        "                self.batch_y_placeholder.resize_([len(batch_indices)])\n",
        "\n",
        "            self.batch_x_placeholder.copy_(torch.Tensor(X_train[batch_indices, :, :, :]))\n",
        "            self.batch_y_placeholder.copy_(torch.Tensor(y_train[batch_indices].astype(int)))\n",
        "\n",
        "            b_decision, b_loss = self(self.batch_x_placeholder, self.batch_y_placeholder)\n",
        "            b_decision = b_decision.cpu().numpy()\n",
        "\n",
        "            epoch_loss += float(b_loss) / iters_per_epoch\n",
        "            tps += np.sum(y_train[batch_indices].astype(int) == b_decision)\n",
        "\n",
        "            b_loss.backward()\n",
        "\n",
        "            self.optimizer.step()\n",
        "            self.optimizer.zero_grad()\n",
        "            \n",
        "        epoch_train_accuracy = tps * 100.0 / len(X_train)\n",
        "\n",
        "        return epoch_loss, epoch_train_accuracy\n",
        "    \n",
        "    def evaluate(self, X, y, batch_size):\n",
        "        with torch.no_grad():\n",
        "            self.eval()\n",
        "\n",
        "            iters_per_epoch = int(np.ceil(1.0 * len(X) / batch_size))\n",
        "\n",
        "            indices = np.arange(len(X))\n",
        "            np.random.shuffle(indices)\n",
        "\n",
        "            loss = 0\n",
        "            tps = 0\n",
        "\n",
        "            for iter in range(iters_per_epoch):\n",
        "                batch_indices = indices[iter * batch_size: min(len(indices), (iter + 1) * batch_size)]\n",
        "\n",
        "                # reshape placeholder\n",
        "                if len(batch_indices) != len(self.batch_x_placeholder):\n",
        "                    self.batch_x_placeholder.resize_([len(batch_indices), 1, 28, 28])\n",
        "                    self.batch_y_placeholder.resize_([len(batch_indices)])\n",
        "                    \n",
        "                self.batch_x_placeholder.copy_(torch.Tensor(X[batch_indices]))\n",
        "                self.batch_y_placeholder.copy_(torch.Tensor(y[batch_indices].astype(int)))\n",
        "\n",
        "                b_decision, b_loss = self(self.batch_x_placeholder, self.batch_y_placeholder)\n",
        "                b_decision = b_decision.cpu().numpy()\n",
        "\n",
        "                loss += float(b_loss) / iters_per_epoch\n",
        "                tps += np.sum(y[batch_indices].astype(int) == b_decision)\n",
        "\n",
        "            accuracy = tps * 100.0 / len(X)\n",
        "\n",
        "            return loss, accuracy\n",
        "\n",
        "    def fit(self, X_train, y_train, epochs, batch_size):\n",
        "        X_train, X_val, y_train, y_val = train_test_split(X_train, y_train, test_size=0.2, random_state=40)\n",
        "\n",
        "        train_loss = np.zeros((epochs,))\n",
        "        val_loss = np.zeros((epochs,))\n",
        "        train_acc = np.zeros((epochs,))\n",
        "        val_acc = np.zeros((epochs,))\n",
        "\n",
        "        val_iters_per_epoch = int(np.ceil(1.0 * len(X_val) / batch_size))\n",
        "\n",
        "        for e in range(epochs):\n",
        "            t_start = time()\n",
        "\n",
        "            # train over dataset\n",
        "            epoch_train_loss, epoch_train_accuracy = self.train_epoch(X_train, y_train, batch_size)\n",
        "            train_loss[e] = epoch_train_loss\n",
        "            train_acc[e] = epoch_train_accuracy\n",
        "\n",
        "            # validating over validation set\n",
        "            epoch_val_loss, epoch_val_accuracy = self.evaluate(X_val, y_val, batch_size)\n",
        "            val_loss[e] = epoch_val_loss\n",
        "            val_acc[e] = epoch_val_accuracy\n",
        "\n",
        "            #saving model\n",
        "            torch.save({\n",
        "                    'epoch': e,\n",
        "                    'optimizer_state_dict': self.optimizer.state_dict(),\n",
        "                    'model_state_dict': self.state_dict(),\n",
        "                    'epoch_train_loss': epoch_train_loss,\n",
        "                    'epoch_train_accuracy': epoch_train_accuracy,\n",
        "                    'epoch_val_loss': epoch_val_loss,\n",
        "                    'epoch_val_accuracy': epoch_val_accuracy\n",
        "                }, f'MNIST/epoch_{e}_state.pt')\n",
        "\n",
        "            print(f'Epoch {e} finished in {time() - t_start:.2f}s. loss: {epoch_train_loss:.4f} - acc: {epoch_train_accuracy:.2f} - val loss: {epoch_val_loss:.4f} - val acc: {epoch_val_accuracy:.2f}')\n",
        "        \n",
        "        return train_loss, val_loss, train_acc, val_acc"
      ],
      "execution_count": 24,
      "outputs": []
    },
    {
      "cell_type": "code",
      "metadata": {
        "id": "c2w91ZrqW7mH",
        "colab_type": "code",
        "colab": {}
      },
      "source": [
        "mnist = fetch_openml('mnist_784')"
      ],
      "execution_count": 2,
      "outputs": []
    },
    {
      "cell_type": "code",
      "metadata": {
        "id": "HWInqI7WXnfQ",
        "colab_type": "code",
        "colab": {}
      },
      "source": [
        "y = mnist.target"
      ],
      "execution_count": 3,
      "outputs": []
    },
    {
      "cell_type": "code",
      "metadata": {
        "id": "43qhqupyXpk2",
        "colab_type": "code",
        "colab": {}
      },
      "source": [
        "X = mnist.data.reshape(70000, 1, 28, 28)"
      ],
      "execution_count": 4,
      "outputs": []
    },
    {
      "cell_type": "code",
      "metadata": {
        "id": "2M35lwjmXus0",
        "colab_type": "code",
        "colab": {}
      },
      "source": [
        "X_train, X_test, y_train, y_test = train_test_split(X, y, test_size=0.3, random_state=17)"
      ],
      "execution_count": 5,
      "outputs": []
    },
    {
      "cell_type": "code",
      "metadata": {
        "id": "udcw6YGkgqtd",
        "colab_type": "code",
        "colab": {
          "base_uri": "https://localhost:8080/",
          "height": 422
        },
        "outputId": "3a260035-1b27-43b1-f52a-7110a8e49189"
      },
      "source": [
        "model = MnistClassifier()\n",
        "model.cuda()"
      ],
      "execution_count": 25,
      "outputs": [
        {
          "output_type": "execute_result",
          "data": {
            "text/plain": [
              "MnistClassifier(\n",
              "  (features): Sequential(\n",
              "    (0): Conv2d(1, 32, kernel_size=(3, 3), stride=(1, 1))\n",
              "    (1): ReLU()\n",
              "    (2): Conv2d(32, 32, kernel_size=(3, 3), stride=(1, 1))\n",
              "    (3): ReLU()\n",
              "    (4): MaxPool2d(kernel_size=2, stride=2, padding=0, dilation=1, ceil_mode=False)\n",
              "    (5): Conv2d(32, 64, kernel_size=(3, 3), stride=(1, 1))\n",
              "    (6): ReLU()\n",
              "    (7): Conv2d(64, 64, kernel_size=(3, 3), stride=(1, 1))\n",
              "    (8): ReLU()\n",
              "    (9): MaxPool2d(kernel_size=2, stride=2, padding=0, dilation=1, ceil_mode=False)\n",
              "    (10): Conv2d(64, 128, kernel_size=(3, 3), stride=(1, 1))\n",
              "    (11): ReLU()\n",
              "  )\n",
              "  (decider): Sequential(\n",
              "    (0): Dropout(p=0.5, inplace=False)\n",
              "    (1): Linear(in_features=512, out_features=128, bias=True)\n",
              "    (2): ReLU()\n",
              "    (3): Linear(in_features=128, out_features=10, bias=True)\n",
              "  )\n",
              "  (log_prob_cal): LogSoftmax(dim=-1)\n",
              ")"
            ]
          },
          "metadata": {
            "tags": []
          },
          "execution_count": 25
        }
      ]
    },
    {
      "cell_type": "code",
      "metadata": {
        "id": "8W8Ip21jjBMG",
        "colab_type": "code",
        "colab": {}
      },
      "source": [
        "batch_size = 64\n",
        "epochs = 20"
      ],
      "execution_count": 26,
      "outputs": []
    },
    {
      "cell_type": "code",
      "metadata": {
        "id": "1m-RIrbOhd-8",
        "colab_type": "code",
        "colab": {
          "base_uri": "https://localhost:8080/",
          "height": 369
        },
        "outputId": "19a592eb-4915-45fe-cf11-5f2bfefe7424"
      },
      "source": [
        "train_loss, val_loss, train_acc, val_acc = model.fit(X_train, y_train, epochs, batch_size)"
      ],
      "execution_count": 27,
      "outputs": [
        {
          "output_type": "stream",
          "text": [
            "Epoch 0 finished in 3.16s. loss: 0.2061 - acc: 93.44 - val loss: 0.0549 - val acc: 98.40\n",
            "Epoch 1 finished in 3.08s. loss: 0.0696 - acc: 97.94 - val loss: 0.0476 - val acc: 98.70\n",
            "Epoch 2 finished in 3.07s. loss: 0.0530 - acc: 98.41 - val loss: 0.0471 - val acc: 98.77\n",
            "Epoch 3 finished in 3.08s. loss: 0.0430 - acc: 98.73 - val loss: 0.0457 - val acc: 98.76\n",
            "Epoch 4 finished in 3.06s. loss: 0.0367 - acc: 98.90 - val loss: 0.0374 - val acc: 98.99\n",
            "Epoch 5 finished in 3.16s. loss: 0.0353 - acc: 98.93 - val loss: 0.0559 - val acc: 98.64\n",
            "Epoch 6 finished in 3.17s. loss: 0.0306 - acc: 99.08 - val loss: 0.0539 - val acc: 98.84\n",
            "Epoch 7 finished in 3.15s. loss: 0.0305 - acc: 99.13 - val loss: 0.0539 - val acc: 98.71\n",
            "Epoch 8 finished in 3.17s. loss: 0.0299 - acc: 99.15 - val loss: 0.0478 - val acc: 98.92\n",
            "Epoch 9 finished in 3.07s. loss: 0.0228 - acc: 99.32 - val loss: 0.0503 - val acc: 99.04\n",
            "Epoch 10 finished in 3.10s. loss: 0.0266 - acc: 99.18 - val loss: 0.0442 - val acc: 99.11\n",
            "Epoch 11 finished in 3.07s. loss: 0.0241 - acc: 99.28 - val loss: 0.0459 - val acc: 98.81\n",
            "Epoch 12 finished in 3.06s. loss: 0.0218 - acc: 99.40 - val loss: 0.0465 - val acc: 98.96\n",
            "Epoch 13 finished in 3.08s. loss: 0.0206 - acc: 99.45 - val loss: 0.0547 - val acc: 98.81\n",
            "Epoch 14 finished in 3.05s. loss: 0.0250 - acc: 99.28 - val loss: 0.0528 - val acc: 98.92\n",
            "Epoch 15 finished in 3.07s. loss: 0.0193 - acc: 99.43 - val loss: 0.0614 - val acc: 98.76\n",
            "Epoch 16 finished in 3.05s. loss: 0.0216 - acc: 99.39 - val loss: 0.0657 - val acc: 98.89\n",
            "Epoch 17 finished in 3.06s. loss: 0.0173 - acc: 99.49 - val loss: 0.0596 - val acc: 98.82\n",
            "Epoch 18 finished in 3.07s. loss: 0.0189 - acc: 99.50 - val loss: 0.0662 - val acc: 98.64\n",
            "Epoch 19 finished in 3.09s. loss: 0.0177 - acc: 99.51 - val loss: 0.0507 - val acc: 98.92\n"
          ],
          "name": "stdout"
        }
      ]
    },
    {
      "cell_type": "code",
      "metadata": {
        "id": "WUUulcUvpEBv",
        "colab_type": "code",
        "colab": {
          "base_uri": "https://localhost:8080/",
          "height": 475
        },
        "outputId": "7b70f617-b40d-42f3-d312-c1ec87ec6851"
      },
      "source": [
        "fig = plt.figure(figsize=(15, 7))\n",
        "\n",
        "# loss\n",
        "ax = fig.add_subplot(121)\n",
        "ax.set_title('Loss / Epoch')\n",
        "ax.set_xlabel('Loss')\n",
        "ax.set_ylabel('Epoch')\n",
        "ax.set_aspect('auto')\n",
        "\n",
        "plt.plot(train_loss, label='Train', color='green', linewidth=3)\n",
        "plt.plot(val_loss, label='Validation', color='red', linewidth=3)\n",
        "\n",
        "\n",
        "plt.legend()\n",
        "\n",
        "# acc\n",
        "ax = fig.add_subplot(122)\n",
        "ax.set_title('Accuracy / Epoch')\n",
        "ax.set_xlabel('Accuracy')\n",
        "ax.set_ylabel('Epoch')\n",
        "ax.set_aspect('auto')\n",
        "\n",
        "plt.plot(train_acc, label='Train', color='green', linewidth=3)\n",
        "plt.plot(val_acc, label='Validation', color='red', linewidth=3)\n",
        "\n",
        "\n",
        "plt.legend()"
      ],
      "execution_count": 28,
      "outputs": [
        {
          "output_type": "execute_result",
          "data": {
            "text/plain": [
              "<matplotlib.legend.Legend at 0x7f0d903d2ac8>"
            ]
          },
          "metadata": {
            "tags": []
          },
          "execution_count": 28
        },
        {
          "output_type": "display_data",
          "data": {
            "image/png": "[encoded data removed]",
            "text/plain": [
              "<Figure size 1080x504 with 2 Axes>"
            ]
          },
          "metadata": {
            "tags": [],
            "needs_background": "light"
          }
        }
      ]
    },
    {
      "cell_type": "code",
      "metadata": {
        "id": "0CgIAYSek0JH",
        "colab_type": "code",
        "colab": {
          "base_uri": "https://localhost:8080/",
          "height": 35
        },
        "outputId": "37d590b7-6e55-4a7e-a1a0-bc7d9523b1be"
      },
      "source": [
        "test_loss, test_accuracy = model.evaluate(X_test, y_test, batch_size)\n",
        "print(f'Test loss: {test_loss:.4f} - Accuracy: {test_accuracy:.2f}')"
      ],
      "execution_count": 29,
      "outputs": [
        {
          "output_type": "stream",
          "text": [
            "Test loss: 0.0428 - Accuracy: 99.03\n"
          ],
          "name": "stdout"
        }
      ]
    }
  ]
}