{
  "nbformat": 4,
  "nbformat_minor": 0,
  "metadata": {
    "colab": {
      "name": "PytorchIntrudoction",
      "provenance": [],
      "collapsed_sections": [],
      "authorship_tag": "ABX9TyMLY1Xl476lpdE4wtIqIMA8"
    },
    "kernelspec": {
      "name": "python3",
      "display_name": "Python 3"
    },
    "accelerator": "GPU"
  },
  "cells": [
    {
      "cell_type": "code",
      "metadata": {
        "id": "nTIkT6BFWzJS",
        "colab_type": "code",
        "colab": {}
      },
      "source": [
        "import numpy as np\n",
        "import torch\n",
        "import sklearn\n",
        "from sklearn.datasets import fetch_openml\n",
        "from sklearn.model_selection import train_test_split\n",
        "from time import time\n",
        "import matplotlib.pyplot as plt"
      ],
      "execution_count": 123,
      "outputs": []
    },
    {
      "cell_type": "code",
      "metadata": {
        "id": "c2w91ZrqW7mH",
        "colab_type": "code",
        "colab": {}
      },
      "source": [
        "mnist = fetch_openml('mnist_784')"
      ],
      "execution_count": 124,
      "outputs": []
    },
    {
      "cell_type": "code",
      "metadata": {
        "id": "HWInqI7WXnfQ",
        "colab_type": "code",
        "colab": {}
      },
      "source": [
        "y = mnist.target"
      ],
      "execution_count": 125,
      "outputs": []
    },
    {
      "cell_type": "code",
      "metadata": {
        "id": "43qhqupyXpk2",
        "colab_type": "code",
        "colab": {}
      },
      "source": [
        "X = mnist.data.reshape(70000, 1, 28, 28)"
      ],
      "execution_count": 126,
      "outputs": []
    },
    {
      "cell_type": "code",
      "metadata": {
        "id": "2M35lwjmXus0",
        "colab_type": "code",
        "colab": {}
      },
      "source": [
        "X_train, X_test, y_train, y_test = train_test_split(X, y, test_size=0.3, random_state=17)\n",
        "X_train, X_val, y_train, y_val = train_test_split(X_train, y_train, test_size=0.2, random_state=40)"
      ],
      "execution_count": 127,
      "outputs": []
    },
    {
      "cell_type": "code",
      "metadata": {
        "id": "HkJLpygqYZz0",
        "colab_type": "code",
        "colab": {}
      },
      "source": [
        "class MyModel(torch.nn.Module):\n",
        "\n",
        "    def __init__(self):\n",
        "        super(MyModel, self).__init__()\n",
        "\n",
        "        self.features = torch.nn.Sequential(                    # inp: B 1 28 28\n",
        "            torch.nn.Conv2d(1, 32, 3, stride=1, padding=0),     # B 32 26 26\n",
        "            torch.nn.ReLU(),\n",
        "            torch.nn.Conv2d(32, 32, 3, stride=1, padding=0),    # B 32 24 24\n",
        "            torch.nn.ReLU(),\n",
        "            torch.nn.MaxPool2d(2, stride=2, padding=0),         # B 32 12 12\n",
        "            torch.nn.Conv2d(32, 64, 3, stride=1, padding=0),    # B 64 10 10\n",
        "            torch.nn.ReLU(),\n",
        "            torch.nn.Conv2d(64, 64, 3, stride=1, padding=0),    # B 64 8 8\n",
        "            torch.nn.ReLU(),\n",
        "            torch.nn.MaxPool2d(2, stride=2, padding=0),         # B 64 4 4\n",
        "            torch.nn.Conv2d(64, 128, 3, stride=1, padding=0),   # B 128 2 2\n",
        "            torch.nn.ReLU(),\n",
        "        )\n",
        "\n",
        "        self.decider = torch.nn.Sequential(\n",
        "            torch.nn.Dropout(0.5),\n",
        "            torch.nn.Linear(4 * 128, 128),                      # B 128\n",
        "            torch.nn.ReLU(),\n",
        "            torch.nn.Linear(128, 10)                            # B 10\n",
        "        )\n",
        "\n",
        "        self.log_prob_cal = torch.nn.LogSoftmax(dim=-1)\n",
        "    \n",
        "    def forward(self, b_x, b_y=None):\n",
        "        conv_features = self.features(b_x)\n",
        "        class_scores = self.decider(conv_features.flatten(1))\n",
        "        log_probs = self.log_prob_cal(class_scores)\n",
        "        loss = -1 * torch.mean(log_probs[torch.arange(b_x.shape[0]), b_y])\n",
        "        decision = torch.argmax(log_probs, dim=-1)\n",
        "        return decision, loss"
      ],
      "execution_count": 128,
      "outputs": []
    },
    {
      "cell_type": "code",
      "metadata": {
        "id": "udcw6YGkgqtd",
        "colab_type": "code",
        "colab": {
          "base_uri": "https://localhost:8080/",
          "height": 422
        },
        "outputId": "7cedb94f-0e20-43fc-ec9e-b90003e8fcc1"
      },
      "source": [
        "model = MyModel()\n",
        "model.cuda()"
      ],
      "execution_count": 129,
      "outputs": [
        {
          "output_type": "execute_result",
          "data": {
            "text/plain": [
              "MyModel(\n",
              "  (features): Sequential(\n",
              "    (0): Conv2d(1, 32, kernel_size=(3, 3), stride=(1, 1))\n",
              "    (1): ReLU()\n",
              "    (2): Conv2d(32, 32, kernel_size=(3, 3), stride=(1, 1))\n",
              "    (3): ReLU()\n",
              "    (4): MaxPool2d(kernel_size=2, stride=2, padding=0, dilation=1, ceil_mode=False)\n",
              "    (5): Conv2d(32, 64, kernel_size=(3, 3), stride=(1, 1))\n",
              "    (6): ReLU()\n",
              "    (7): Conv2d(64, 64, kernel_size=(3, 3), stride=(1, 1))\n",
              "    (8): ReLU()\n",
              "    (9): MaxPool2d(kernel_size=2, stride=2, padding=0, dilation=1, ceil_mode=False)\n",
              "    (10): Conv2d(64, 128, kernel_size=(3, 3), stride=(1, 1))\n",
              "    (11): ReLU()\n",
              "  )\n",
              "  (decider): Sequential(\n",
              "    (0): Dropout(p=0.5, inplace=False)\n",
              "    (1): Linear(in_features=512, out_features=128, bias=True)\n",
              "    (2): ReLU()\n",
              "    (3): Linear(in_features=128, out_features=10, bias=True)\n",
              "  )\n",
              "  (log_prob_cal): LogSoftmax(dim=-1)\n",
              ")"
            ]
          },
          "metadata": {
            "tags": []
          },
          "execution_count": 129
        }
      ]
    },
    {
      "cell_type": "code",
      "metadata": {
        "id": "bVWGCGxNhRGp",
        "colab_type": "code",
        "colab": {
          "base_uri": "https://localhost:8080/",
          "height": 263
        },
        "outputId": "34b4ee33-4ac7-4228-88f0-227c6196d55f"
      },
      "source": [
        "for n, v in model.named_parameters():\n",
        "    print(n)"
      ],
      "execution_count": 130,
      "outputs": [
        {
          "output_type": "stream",
          "text": [
            "features.0.weight\n",
            "features.0.bias\n",
            "features.2.weight\n",
            "features.2.bias\n",
            "features.5.weight\n",
            "features.5.bias\n",
            "features.7.weight\n",
            "features.7.bias\n",
            "features.10.weight\n",
            "features.10.bias\n",
            "decider.1.weight\n",
            "decider.1.bias\n",
            "decider.3.weight\n",
            "decider.3.bias\n"
          ],
          "name": "stdout"
        }
      ]
    },
    {
      "cell_type": "code",
      "metadata": {
        "id": "8W8Ip21jjBMG",
        "colab_type": "code",
        "colab": {}
      },
      "source": [
        "batch_size = 64\n",
        "batch_x_placeholder = torch.zeros(size=[batch_size, 1, 28, 28], dtype=torch.float32, device=torch.device('cuda:0'))\n",
        "batch_y_placeholder = torch.zeros(size=[batch_size], dtype=torch.long, device=torch.device('cuda:0'))\n",
        "epochs = 20\n",
        "iters_per_epoch = 100\n",
        "train_loss = np.zeros((epochs,))\n",
        "val_loss = np.zeros((epochs,))\n",
        "train_acc = np.zeros((epochs,))\n",
        "val_acc = np.zeros((epochs,))"
      ],
      "execution_count": 131,
      "outputs": []
    },
    {
      "cell_type": "code",
      "metadata": {
        "id": "HiFOG6ssqKC4",
        "colab_type": "code",
        "colab": {}
      },
      "source": [
        "optimizer = torch.optim.Adam(filter(\n",
        "    lambda p: p.requires_grad, model.parameters()), lr=0.001\n",
        ")"
      ],
      "execution_count": 132,
      "outputs": []
    },
    {
      "cell_type": "code",
      "metadata": {
        "id": "BpQzNWHmkkbe",
        "colab_type": "code",
        "colab": {
          "base_uri": "https://localhost:8080/",
          "height": 369
        },
        "outputId": "0fb4a33a-9eca-4973-ce0b-2d174c94026b"
      },
      "source": [
        "iters_per_epoch = int(np.ceil(1.0 * len(X_train) / batch_size))\n",
        "val_iters_per_epoch = int(np.ceil(1.0 * len(X_val) / batch_size))\n",
        "\n",
        "for e in range(epochs):\n",
        "    t_start = time()\n",
        "\n",
        "    model.train()\n",
        "\n",
        "    # shuffling\n",
        "    indices = np.arange(len(X_train))\n",
        "    np.random.shuffle(indices)\n",
        "\n",
        "    epoch_loss = 0\n",
        "    tps = 0\n",
        "\n",
        "    # iterate over training set\n",
        "    for iter in range(iters_per_epoch):\n",
        "        batch_indices = indices[iter * batch_size: min(len(indices), (iter + 1) * batch_size)]\n",
        "\n",
        "        # reshape placeholder\n",
        "        if len(batch_indices) != len(batch_x_placeholder):\n",
        "            batch_x_placeholder.resize_([len(batch_indices), 1, 28, 28])\n",
        "            batch_y_placeholder.resize_([len(batch_indices)])\n",
        "\n",
        "        batch_x_placeholder.copy_(torch.Tensor(X_train[batch_indices, :, :, :]))\n",
        "        batch_y_placeholder.copy_(torch.Tensor(y_train[batch_indices].astype(int)))\n",
        "\n",
        "        b_decision, b_loss = model(batch_x_placeholder, batch_y_placeholder)\n",
        "        b_decision = b_decision.cpu().numpy()\n",
        "\n",
        "        epoch_loss += float(b_loss) / iters_per_epoch\n",
        "        tps += np.sum(y_train[batch_indices].astype(int) == b_decision)\n",
        "\n",
        "        b_loss.backward()\n",
        "\n",
        "        optimizer.step()\n",
        "        optimizer.zero_grad()\n",
        "    \n",
        "    epoch_train_accuracy = tps * 100.0 / len(X_train)\n",
        "    train_loss[e] = epoch_loss\n",
        "    train_acc[e] = epoch_train_accuracy\n",
        "\n",
        "    # validating over validation set\n",
        "    with torch.no_grad():\n",
        "        model.eval()\n",
        "\n",
        "        # shuffling\n",
        "        val_indices = np.arange(len(X_val))\n",
        "        np.random.shuffle(val_indices)\n",
        "\n",
        "        val_epoch_loss = 0\n",
        "        val_tps = 0\n",
        "\n",
        "        for iter in range(val_iters_per_epoch):\n",
        "            val_batch_indices = val_indices[iter * batch_size: min(len(val_indices), (iter + 1) * batch_size)]\n",
        "\n",
        "            # reshape placeholder\n",
        "            if len(val_batch_indices) != len(batch_x_placeholder):\n",
        "                batch_x_placeholder.resize_([len(val_batch_indices), 1, 28, 28])\n",
        "                batch_y_placeholder.resize_([len(val_batch_indices)])\n",
        "            \n",
        "            batch_x_placeholder.copy_(torch.Tensor(X_val[val_batch_indices]))\n",
        "            batch_y_placeholder.copy_(torch.Tensor(y_val[val_batch_indices].astype(int)))\n",
        "\n",
        "            b_decision, b_loss = model(batch_x_placeholder, batch_y_placeholder)\n",
        "            b_decision = b_decision.cpu().numpy()\n",
        "\n",
        "            val_epoch_loss += float(b_loss) / iters_per_epoch\n",
        "            val_tps += np.sum(y_val[val_batch_indices].astype(int) == b_decision)\n",
        "\n",
        "        epoch_val_accuracy = val_tps * 100.0 / len(X_val)\n",
        "        val_loss[e] = val_epoch_loss\n",
        "        val_acc[e] = epoch_val_accuracy\n",
        "\n",
        "    #saving model\n",
        "    torch.save({\n",
        "            'epoch': e,\n",
        "            'optimizer_state_dict': optimizer.state_dict(),\n",
        "            'model_state_dict': model.state_dict(),\n",
        "            'epoch_loss': epoch_loss,\n",
        "            'epoch_train_accuracy': epoch_train_accuracy,\n",
        "            'val_epoch_loss': val_epoch_loss,\n",
        "            'epoch_val_accuracy': epoch_val_accuracy\n",
        "        }, f'MNIST/epoch_{e}_state.pt')\n",
        "\n",
        "    print(f'Epoch {e} finished in {time() - t_start:.2f}s. loss: {epoch_loss:.4f} - acc: {epoch_train_accuracy:.2f} - val loss: {val_epoch_loss:.4f} - val acc: {epoch_val_accuracy:.2f}')"
      ],
      "execution_count": 133,
      "outputs": [
        {
          "output_type": "stream",
          "text": [
            "Epoch 0 finished in 3.19s. loss: 0.2121 - acc: 93.30 - val loss: 0.0130 - val acc: 98.50\n",
            "Epoch 1 finished in 3.03s. loss: 0.0712 - acc: 97.93 - val loss: 0.0129 - val acc: 98.42\n",
            "Epoch 2 finished in 3.08s. loss: 0.0531 - acc: 98.42 - val loss: 0.0107 - val acc: 98.76\n",
            "Epoch 3 finished in 3.05s. loss: 0.0476 - acc: 98.60 - val loss: 0.0088 - val acc: 98.98\n",
            "Epoch 4 finished in 3.01s. loss: 0.0383 - acc: 98.87 - val loss: 0.0115 - val acc: 98.80\n",
            "Epoch 5 finished in 3.02s. loss: 0.0361 - acc: 98.92 - val loss: 0.0095 - val acc: 98.98\n",
            "Epoch 6 finished in 3.04s. loss: 0.0314 - acc: 99.09 - val loss: 0.0098 - val acc: 98.89\n",
            "Epoch 7 finished in 3.01s. loss: 0.0306 - acc: 99.08 - val loss: 0.0127 - val acc: 98.69\n",
            "Epoch 8 finished in 3.02s. loss: 0.0267 - acc: 99.19 - val loss: 0.0099 - val acc: 99.01\n",
            "Epoch 9 finished in 3.00s. loss: 0.0258 - acc: 99.24 - val loss: 0.0118 - val acc: 98.90\n",
            "Epoch 10 finished in 3.03s. loss: 0.0278 - acc: 99.20 - val loss: 0.0143 - val acc: 98.72\n",
            "Epoch 11 finished in 3.03s. loss: 0.0252 - acc: 99.27 - val loss: 0.0121 - val acc: 98.74\n",
            "Epoch 12 finished in 3.01s. loss: 0.0218 - acc: 99.36 - val loss: 0.0131 - val acc: 98.83\n",
            "Epoch 13 finished in 3.03s. loss: 0.0237 - acc: 99.30 - val loss: 0.0127 - val acc: 98.86\n",
            "Epoch 14 finished in 3.00s. loss: 0.0211 - acc: 99.37 - val loss: 0.0122 - val acc: 98.87\n",
            "Epoch 15 finished in 2.99s. loss: 0.0237 - acc: 99.29 - val loss: 0.0128 - val acc: 98.87\n",
            "Epoch 16 finished in 3.06s. loss: 0.0189 - acc: 99.52 - val loss: 0.0122 - val acc: 99.06\n",
            "Epoch 17 finished in 2.99s. loss: 0.0167 - acc: 99.50 - val loss: 0.0149 - val acc: 98.94\n",
            "Epoch 18 finished in 2.98s. loss: 0.0180 - acc: 99.55 - val loss: 0.0165 - val acc: 98.71\n",
            "Epoch 19 finished in 2.96s. loss: 0.0203 - acc: 99.43 - val loss: 0.0122 - val acc: 98.96\n"
          ],
          "name": "stdout"
        }
      ]
    },
    {
      "cell_type": "code",
      "metadata": {
        "id": "WUUulcUvpEBv",
        "colab_type": "code",
        "colab": {
          "base_uri": "https://localhost:8080/",
          "height": 475
        },
        "outputId": "85aeeea6-01ae-4b14-bf9b-05c5f04e1cf7"
      },
      "source": [
        "fig = plt.figure(figsize=(15, 7))\n",
        "\n",
        "# loss\n",
        "ax = fig.add_subplot(121)\n",
        "ax.set_title('Loss / Epoch')\n",
        "ax.set_xlabel('Loss')\n",
        "ax.set_ylabel('Epoch')\n",
        "ax.set_aspect('auto')\n",
        "\n",
        "plt.plot(train_loss, label='Train', color='green', linewidth=3)\n",
        "plt.plot(val_loss, label='Validation', color='red', linewidth=3)\n",
        "\n",
        "\n",
        "plt.legend()\n",
        "\n",
        "# acc\n",
        "ax = fig.add_subplot(122)\n",
        "ax.set_title('Accuracy / Epoch')\n",
        "ax.set_xlabel('Accuracy')\n",
        "ax.set_ylabel('Epoch')\n",
        "ax.set_aspect('auto')\n",
        "\n",
        "plt.plot(train_acc, label='Train', color='green', linewidth=3)\n",
        "plt.plot(val_acc, label='Validation', color='red', linewidth=3)\n",
        "\n",
        "\n",
        "plt.legend()"
      ],
      "execution_count": 134,
      "outputs": [
        {
          "output_type": "execute_result",
          "data": {
            "text/plain": [
              "<matplotlib.legend.Legend at 0x7f785a4d64a8>"
            ]
          },
          "metadata": {
            "tags": []
          },
          "execution_count": 134
        },
        {
          "output_type": "display_data",
          "data": {
            "image/png": "[encoded data removed]",
            "text/plain": [
              "<Figure size 1080x504 with 2 Axes>"
            ]
          },
          "metadata": {
            "tags": [],
            "needs_background": "light"
          }
        }
      ]
    },
    {
      "cell_type": "code",
      "metadata": {
        "id": "9P9MCjQn_y5S",
        "colab_type": "code",
        "colab": {}
      },
      "source": [
        ""
      ],
      "execution_count": null,
      "outputs": []
    }
  ]
}