{
  "nbformat": 4,
  "nbformat_minor": 0,
  "metadata": {
    "colab": {
      "name": "PytorchIntrudoction",
      "provenance": [],
      "collapsed_sections": [],
      "authorship_tag": "ABX9TyPgoyA9HDPwHXg02IVEi0Ps"
    },
    "kernelspec": {
      "name": "python3",
      "display_name": "Python 3"
    },
    "accelerator": "GPU"
  },
  "cells": [
    {
      "cell_type": "code",
      "metadata": {
        "id": "nTIkT6BFWzJS",
        "colab_type": "code",
        "colab": {}
      },
      "source": [
        "import numpy as np\n",
        "import torch\n",
        "import sklearn\n",
        "from sklearn.datasets import fetch_openml\n",
        "from sklearn.model_selection import train_test_split\n",
        "from time import time\n",
        "import matplotlib.pyplot as plt"
      ],
      "execution_count": 113,
      "outputs": []
    },
    {
      "cell_type": "code",
      "metadata": {
        "id": "c2w91ZrqW7mH",
        "colab_type": "code",
        "colab": {}
      },
      "source": [
        "mnist = fetch_openml('mnist_784')"
      ],
      "execution_count": 3,
      "outputs": []
    },
    {
      "cell_type": "code",
      "metadata": {
        "id": "HWInqI7WXnfQ",
        "colab_type": "code",
        "colab": {}
      },
      "source": [
        "y = mnist.target"
      ],
      "execution_count": 4,
      "outputs": []
    },
    {
      "cell_type": "code",
      "metadata": {
        "id": "43qhqupyXpk2",
        "colab_type": "code",
        "colab": {}
      },
      "source": [
        "X = mnist.data.reshape(70000, 1, 28, 28)"
      ],
      "execution_count": 33,
      "outputs": []
    },
    {
      "cell_type": "code",
      "metadata": {
        "id": "2M35lwjmXus0",
        "colab_type": "code",
        "colab": {}
      },
      "source": [
        "X_train, X_test, y_train, y_test = train_test_split(X, y, test_size=0.3, random_state=17)\n",
        "X_train, X_val, y_train, y_val = train_test_split(X_train, y_train, test_size=0.2, random_state=40)"
      ],
      "execution_count": 35,
      "outputs": []
    },
    {
      "cell_type": "code",
      "metadata": {
        "id": "HkJLpygqYZz0",
        "colab_type": "code",
        "colab": {}
      },
      "source": [
        "class MyModel(torch.nn.Module):\n",
        "\n",
        "    def __init__(self):\n",
        "        super(MyModel, self).__init__()\n",
        "\n",
        "        self.features = torch.nn.Sequential(                    # inp: B 1 28 28\n",
        "            torch.nn.Conv2d(1, 32, 3, stride=1, padding=0),     # B 32 26 26\n",
        "            torch.nn.ReLU(),\n",
        "            torch.nn.Conv2d(32, 32, 3, stride=1, padding=0),    # B 32 24 24\n",
        "            torch.nn.ReLU(),\n",
        "            torch.nn.MaxPool2d(2, stride=2, padding=0),         # B 32 12 12\n",
        "            torch.nn.Conv2d(32, 64, 3, stride=1, padding=0),    # B 64 10 10\n",
        "            torch.nn.ReLU(),\n",
        "            torch.nn.Conv2d(64, 64, 3, stride=1, padding=0),    # B 64 8 8\n",
        "            torch.nn.ReLU(),\n",
        "            torch.nn.MaxPool2d(2, stride=2, padding=0),         # B 64 4 4\n",
        "            torch.nn.Conv2d(64, 128, 3, stride=1, padding=0),   # B 128 2 2\n",
        "            torch.nn.ReLU(),\n",
        "        )\n",
        "\n",
        "        self.decider = torch.nn.Sequential(\n",
        "            torch.nn.Dropout(0.5),\n",
        "            torch.nn.Linear(4 * 128, 128),                      # B 128\n",
        "            torch.nn.ReLU(),\n",
        "            torch.nn.Linear(128, 10)                            # B 10\n",
        "        )\n",
        "\n",
        "        self.log_prob_cal = torch.nn.LogSoftmax(dim=-1)\n",
        "    \n",
        "    def forward(self, b_x, b_y=None):\n",
        "        conv_features = self.features(b_x)\n",
        "        class_scores = self.decider(conv_features.flatten(1))\n",
        "        log_probs = self.log_prob_cal(class_scores)\n",
        "        loss = -1 * torch.mean(log_probs[torch.arange(b_x.shape[0]), b_y])\n",
        "        decision = torch.argmax(log_probs, dim=-1)\n",
        "        return decision, loss"
      ],
      "execution_count": 65,
      "outputs": []
    },
    {
      "cell_type": "code",
      "metadata": {
        "id": "udcw6YGkgqtd",
        "colab_type": "code",
        "colab": {
          "base_uri": "https://localhost:8080/",
          "height": 422
        },
        "outputId": "a5a12143-f276-4fba-924e-3c114db7da65"
      },
      "source": [
        "model = MyModel()\n",
        "model.cuda()"
      ],
      "execution_count": 108,
      "outputs": [
        {
          "output_type": "execute_result",
          "data": {
            "text/plain": [
              "MyModel(\n",
              "  (features): Sequential(\n",
              "    (0): Conv2d(1, 32, kernel_size=(3, 3), stride=(1, 1))\n",
              "    (1): ReLU()\n",
              "    (2): Conv2d(32, 32, kernel_size=(3, 3), stride=(1, 1))\n",
              "    (3): ReLU()\n",
              "    (4): MaxPool2d(kernel_size=2, stride=2, padding=0, dilation=1, ceil_mode=False)\n",
              "    (5): Conv2d(32, 64, kernel_size=(3, 3), stride=(1, 1))\n",
              "    (6): ReLU()\n",
              "    (7): Conv2d(64, 64, kernel_size=(3, 3), stride=(1, 1))\n",
              "    (8): ReLU()\n",
              "    (9): MaxPool2d(kernel_size=2, stride=2, padding=0, dilation=1, ceil_mode=False)\n",
              "    (10): Conv2d(64, 128, kernel_size=(3, 3), stride=(1, 1))\n",
              "    (11): ReLU()\n",
              "  )\n",
              "  (decider): Sequential(\n",
              "    (0): Dropout(p=0.5, inplace=False)\n",
              "    (1): Linear(in_features=512, out_features=128, bias=True)\n",
              "    (2): ReLU()\n",
              "    (3): Linear(in_features=128, out_features=10, bias=True)\n",
              "  )\n",
              "  (log_prob_cal): LogSoftmax(dim=-1)\n",
              ")"
            ]
          },
          "metadata": {
            "tags": []
          },
          "execution_count": 108
        }
      ]
    },
    {
      "cell_type": "code",
      "metadata": {
        "id": "bVWGCGxNhRGp",
        "colab_type": "code",
        "colab": {
          "base_uri": "https://localhost:8080/",
          "height": 263
        },
        "outputId": "b46a9443-e597-45bf-f454-a9005d94e744"
      },
      "source": [
        "for n, v in model.named_parameters():\n",
        "    print(n)"
      ],
      "execution_count": 109,
      "outputs": [
        {
          "output_type": "stream",
          "text": [
            "features.0.weight\n",
            "features.0.bias\n",
            "features.2.weight\n",
            "features.2.bias\n",
            "features.5.weight\n",
            "features.5.bias\n",
            "features.7.weight\n",
            "features.7.bias\n",
            "features.10.weight\n",
            "features.10.bias\n",
            "decider.1.weight\n",
            "decider.1.bias\n",
            "decider.3.weight\n",
            "decider.3.bias\n"
          ],
          "name": "stdout"
        }
      ]
    },
    {
      "cell_type": "code",
      "metadata": {
        "id": "8W8Ip21jjBMG",
        "colab_type": "code",
        "colab": {}
      },
      "source": [
        "batch_size = 64\n",
        "batch_x_placeholder = torch.zeros(size=[batch_size, 1, 28, 28], dtype=torch.float32, device=torch.device('cuda:0'))\n",
        "batch_y_placeholder = torch.zeros(size=[batch_size], dtype=torch.long, device=torch.device('cuda:0'))\n",
        "epochs = 50\n",
        "iters_per_epoch = 100\n",
        "train_loss = np.zeros((epochs,))\n",
        "val_loss = np.zeros((epochs,))\n",
        "train_acc = np.zeros((epochs,))\n",
        "val_acc = np.zeros((epochs,))"
      ],
      "execution_count": 111,
      "outputs": []
    },
    {
      "cell_type": "code",
      "metadata": {
        "id": "HiFOG6ssqKC4",
        "colab_type": "code",
        "colab": {}
      },
      "source": [
        "optimizer = torch.optim.Adam(filter(\n",
        "    lambda p: p.requires_grad, model.parameters()), lr=0.001\n",
        ")"
      ],
      "execution_count": 112,
      "outputs": []
    },
    {
      "cell_type": "code",
      "metadata": {
        "id": "BpQzNWHmkkbe",
        "colab_type": "code",
        "colab": {
          "base_uri": "https://localhost:8080/",
          "height": 897
        },
        "outputId": "ff6a3c5b-7fd8-4283-8c88-ef1d18c58b70"
      },
      "source": [
        "iters_per_epoch = int(np.ceil(1.0 * len(X_train) / batch_size))\n",
        "val_iters_per_epoch = int(np.ceil(1.0 * len(X_val) / batch_size))\n",
        "\n",
        "for e in range(epochs):\n",
        "    t_start = time()\n",
        "\n",
        "    model.train()\n",
        "\n",
        "    # shuffling\n",
        "    indices = np.arange(len(X_train))\n",
        "    np.random.shuffle(indices)\n",
        "\n",
        "    epoch_loss = 0\n",
        "    tps = 0\n",
        "\n",
        "    # iterate over training set\n",
        "    for iter in range(iters_per_epoch):\n",
        "        batch_indices = indices[iter * batch_size: min(len(indices), (iter + 1) * batch_size)]\n",
        "\n",
        "        # reshape placeholder\n",
        "        if len(batch_indices) != len(batch_x_placeholder):\n",
        "            batch_x_placeholder.resize_([len(batch_indices), 1, 28, 28])\n",
        "            batch_y_placeholder.resize_([len(batch_indices)])\n",
        "\n",
        "        batch_x_placeholder.copy_(torch.Tensor(X_train[batch_indices, :, :, :]))\n",
        "        batch_y_placeholder.copy_(torch.Tensor(y_train[batch_indices].astype(int)))\n",
        "\n",
        "        b_decision, b_loss = model(batch_x_placeholder, batch_y_placeholder)\n",
        "        b_decision = b_decision.cpu().numpy()\n",
        "\n",
        "        epoch_loss += float(b_loss) / iters_per_epoch\n",
        "        tps += np.sum(y_train[batch_indices].astype(int) == b_decision)\n",
        "\n",
        "        b_loss.backward()\n",
        "\n",
        "        optimizer.step()\n",
        "        optimizer.zero_grad()\n",
        "    \n",
        "    epoch_train_accuracy = tps * 100.0 / len(X_train)\n",
        "    train_loss[e] = epoch_loss\n",
        "    train_acc[e] = epoch_train_accuracy\n",
        "\n",
        "    # validating over validation set\n",
        "    with torch.no_grad():\n",
        "        model.eval()\n",
        "\n",
        "        # shuffling\n",
        "        val_indices = np.arange(len(X_val))\n",
        "        np.random.shuffle(val_indices)\n",
        "\n",
        "        val_epoch_loss = 0\n",
        "        val_tps = 0\n",
        "\n",
        "        for iter in range(val_iters_per_epoch):\n",
        "            val_batch_indices = val_indices[iter * batch_size: min(len(val_indices), (iter + 1) * batch_size)]\n",
        "\n",
        "            # reshape placeholder\n",
        "            if len(val_batch_indices) != len(batch_x_placeholder):\n",
        "                batch_x_placeholder.resize_([len(val_batch_indices), 1, 28, 28])\n",
        "                batch_y_placeholder.resize_([len(val_batch_indices)])\n",
        "            \n",
        "            batch_x_placeholder.copy_(torch.Tensor(X_val[val_batch_indices]))\n",
        "            batch_y_placeholder.copy_(torch.Tensor(y_val[val_batch_indices].astype(int)))\n",
        "\n",
        "            b_decision, b_loss = model(batch_x_placeholder, batch_y_placeholder)\n",
        "            b_decision = b_decision.cpu().numpy()\n",
        "\n",
        "            val_epoch_loss += float(b_loss) / iters_per_epoch\n",
        "            val_tps += np.sum(y_val[val_batch_indices].astype(int) == b_decision)\n",
        "\n",
        "        epoch_val_accuracy = val_tps * 100.0 / len(X_val)\n",
        "        val_loss[e] = val_epoch_loss\n",
        "        val_acc[e] = epoch_val_accuracy\n",
        "\n",
        "    #saving model\n",
        "    torch.save({\n",
        "            'epoch': e,\n",
        "            'optimizer_state_dict': optimizer.state_dict(),\n",
        "            'model_state_dict': model.state_dict(),\n",
        "            'epoch_loss': epoch_loss,\n",
        "            'epoch_train_accuracy': epoch_train_accuracy,\n",
        "            'val_epoch_loss': val_epoch_loss,\n",
        "            'epoch_val_accuracy': epoch_val_accuracy\n",
        "        }, f'MNIST/epoch_{e}_state.pt')\n",
        "\n",
        "    print(f'Epoch {e} finished in {time() - t_start:.2f}s. loss: {epoch_loss:.4f} - acc: {epoch_train_accuracy:.2f} - val loss: {val_epoch_loss:.4f} - val acc: {epoch_val_accuracy:.2f}')"
      ],
      "execution_count": 115,
      "outputs": [
        {
          "output_type": "stream",
          "text": [
            "Epoch 0 finished in 3.18s. loss: 0.0686 - acc: 97.89 - val loss: 0.0124 - val acc: 98.49\n",
            "Epoch 1 finished in 3.12s. loss: 0.0558 - acc: 98.40 - val loss: 0.0122 - val acc: 98.52\n",
            "Epoch 2 finished in 3.10s. loss: 0.0455 - acc: 98.63 - val loss: 0.0108 - val acc: 98.77\n",
            "Epoch 3 finished in 3.06s. loss: 0.0395 - acc: 98.85 - val loss: 0.0107 - val acc: 98.76\n",
            "Epoch 4 finished in 3.10s. loss: 0.0328 - acc: 99.02 - val loss: 0.0099 - val acc: 98.96\n",
            "Epoch 5 finished in 3.08s. loss: 0.0336 - acc: 98.99 - val loss: 0.0126 - val acc: 98.61\n",
            "Epoch 6 finished in 3.07s. loss: 0.0285 - acc: 99.13 - val loss: 0.0104 - val acc: 99.01\n",
            "Epoch 7 finished in 3.08s. loss: 0.0281 - acc: 99.12 - val loss: 0.0090 - val acc: 98.96\n",
            "Epoch 8 finished in 3.09s. loss: 0.0239 - acc: 99.26 - val loss: 0.0109 - val acc: 98.89\n",
            "Epoch 9 finished in 3.05s. loss: 0.0246 - acc: 99.24 - val loss: 0.0108 - val acc: 98.91\n",
            "Epoch 10 finished in 3.08s. loss: 0.0254 - acc: 99.28 - val loss: 0.0108 - val acc: 98.92\n",
            "Epoch 11 finished in 3.08s. loss: 0.0228 - acc: 99.34 - val loss: 0.0124 - val acc: 98.88\n",
            "Epoch 12 finished in 3.05s. loss: 0.0205 - acc: 99.43 - val loss: 0.0117 - val acc: 98.92\n",
            "Epoch 13 finished in 3.04s. loss: 0.0227 - acc: 99.34 - val loss: 0.0094 - val acc: 99.04\n",
            "Epoch 14 finished in 3.08s. loss: 0.0212 - acc: 99.40 - val loss: 0.0107 - val acc: 98.90\n",
            "Epoch 15 finished in 3.08s. loss: 0.0203 - acc: 99.43 - val loss: 0.0120 - val acc: 99.02\n",
            "Epoch 16 finished in 3.07s. loss: 0.0179 - acc: 99.49 - val loss: 0.0119 - val acc: 99.06\n",
            "Epoch 17 finished in 3.07s. loss: 0.0175 - acc: 99.47 - val loss: 0.0101 - val acc: 99.03\n",
            "Epoch 18 finished in 3.09s. loss: 0.0170 - acc: 99.51 - val loss: 0.0120 - val acc: 98.97\n",
            "Epoch 19 finished in 3.06s. loss: 0.0172 - acc: 99.54 - val loss: 0.0120 - val acc: 98.98\n",
            "Epoch 20 finished in 3.06s. loss: 0.0158 - acc: 99.54 - val loss: 0.0116 - val acc: 99.01\n",
            "Epoch 21 finished in 3.10s. loss: 0.0151 - acc: 99.59 - val loss: 0.0138 - val acc: 99.01\n",
            "Epoch 22 finished in 3.08s. loss: 0.0153 - acc: 99.59 - val loss: 0.0159 - val acc: 98.94\n",
            "Epoch 23 finished in 3.07s. loss: 0.0208 - acc: 99.48 - val loss: 0.0132 - val acc: 98.93\n",
            "Epoch 24 finished in 3.10s. loss: 0.0130 - acc: 99.61 - val loss: 0.0175 - val acc: 98.87\n",
            "Epoch 25 finished in 3.08s. loss: 0.0151 - acc: 99.60 - val loss: 0.0148 - val acc: 98.95\n",
            "Epoch 26 finished in 3.05s. loss: 0.0146 - acc: 99.62 - val loss: 0.0138 - val acc: 99.03\n",
            "Epoch 27 finished in 3.05s. loss: 0.0158 - acc: 99.59 - val loss: 0.0150 - val acc: 99.03\n",
            "Epoch 28 finished in 3.07s. loss: 0.0172 - acc: 99.56 - val loss: 0.0148 - val acc: 98.99\n",
            "Epoch 29 finished in 3.04s. loss: 0.0132 - acc: 99.62 - val loss: 0.0156 - val acc: 98.90\n",
            "Epoch 30 finished in 3.06s. loss: 0.0171 - acc: 99.52 - val loss: 0.0144 - val acc: 99.03\n",
            "Epoch 31 finished in 3.12s. loss: 0.0128 - acc: 99.64 - val loss: 0.0152 - val acc: 99.12\n",
            "Epoch 32 finished in 3.13s. loss: 0.0112 - acc: 99.68 - val loss: 0.0171 - val acc: 98.90\n",
            "Epoch 33 finished in 3.05s. loss: 0.0159 - acc: 99.60 - val loss: 0.0159 - val acc: 98.98\n",
            "Epoch 34 finished in 3.04s. loss: 0.0151 - acc: 99.61 - val loss: 0.0155 - val acc: 98.93\n",
            "Epoch 35 finished in 3.04s. loss: 0.0104 - acc: 99.71 - val loss: 0.0159 - val acc: 99.06\n",
            "Epoch 36 finished in 3.01s. loss: 0.0159 - acc: 99.65 - val loss: 0.0144 - val acc: 98.93\n",
            "Epoch 37 finished in 3.01s. loss: 0.0158 - acc: 99.63 - val loss: 0.0142 - val acc: 99.03\n",
            "Epoch 38 finished in 3.05s. loss: 0.0127 - acc: 99.69 - val loss: 0.0164 - val acc: 99.00\n",
            "Epoch 39 finished in 3.03s. loss: 0.0163 - acc: 99.61 - val loss: 0.0153 - val acc: 99.02\n",
            "Epoch 40 finished in 3.03s. loss: 0.0146 - acc: 99.64 - val loss: 0.0155 - val acc: 99.02\n",
            "Epoch 41 finished in 3.03s. loss: 0.0133 - acc: 99.63 - val loss: 0.0167 - val acc: 98.96\n",
            "Epoch 42 finished in 3.10s. loss: 0.0159 - acc: 99.65 - val loss: 0.0157 - val acc: 98.95\n",
            "Epoch 43 finished in 3.12s. loss: 0.0149 - acc: 99.68 - val loss: 0.0207 - val acc: 98.66\n",
            "Epoch 44 finished in 3.13s. loss: 0.0182 - acc: 99.58 - val loss: 0.0131 - val acc: 99.04\n",
            "Epoch 45 finished in 3.13s. loss: 0.0101 - acc: 99.74 - val loss: 0.0211 - val acc: 98.76\n",
            "Epoch 46 finished in 3.01s. loss: 0.0148 - acc: 99.62 - val loss: 0.0130 - val acc: 99.11\n",
            "Epoch 47 finished in 3.03s. loss: 0.0099 - acc: 99.73 - val loss: 0.0245 - val acc: 98.62\n",
            "Epoch 48 finished in 3.06s. loss: 0.0180 - acc: 99.58 - val loss: 0.0132 - val acc: 99.12\n",
            "Epoch 49 finished in 3.07s. loss: 0.0128 - acc: 99.66 - val loss: 0.0146 - val acc: 99.06\n"
          ],
          "name": "stdout"
        }
      ]
    },
    {
      "cell_type": "code",
      "metadata": {
        "id": "WUUulcUvpEBv",
        "colab_type": "code",
        "colab": {
          "base_uri": "https://localhost:8080/",
          "height": 475
        },
        "outputId": "45da81d9-49ed-4515-894b-da0f56d77b3d"
      },
      "source": [
        "fig = plt.figure(figsize=(15, 7))\n",
        "\n",
        "# loss\n",
        "ax = fig.add_subplot(121)\n",
        "ax.set_title('Loss / Epoch')\n",
        "ax.set_xlabel('Loss')\n",
        "ax.set_ylabel('Epoch')\n",
        "ax.set_aspect('auto')\n",
        "\n",
        "plt.plot(train_loss, label='Train', color='green', linewidth=3)\n",
        "plt.plot(val_loss, label='Validation', color='red', linewidth=3)\n",
        "\n",
        "\n",
        "plt.legend()\n",
        "\n",
        "# acc\n",
        "ax = fig.add_subplot(122)\n",
        "ax.set_title('Accuracy / Epoch')\n",
        "ax.set_xlabel('Accuracy')\n",
        "ax.set_ylabel('Epoch')\n",
        "ax.set_aspect('auto')\n",
        "\n",
        "plt.plot(train_acc, label='Train', color='green', linewidth=3)\n",
        "plt.plot(val_acc, label='Validation', color='red', linewidth=3)\n",
        "\n",
        "\n",
        "plt.legend()"
      ],
      "execution_count": 118,
      "outputs": [
        {
          "output_type": "execute_result",
          "data": {
            "text/plain": [
              "<matplotlib.legend.Legend at 0x7f785a5d8b70>"
            ]
          },
          "metadata": {
            "tags": []
          },
          "execution_count": 118
        },
        {
          "output_type": "display_data",
          "data": {
            "image/png": "[encoded data removed]",
            "text/plain": [
              "<Figure size 1080x504 with 2 Axes>"
            ]
          },
          "metadata": {
            "tags": [],
            "needs_background": "light"
          }
        }
      ]
    }
  ]
}