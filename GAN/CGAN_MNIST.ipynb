{
  "nbformat": 4,
  "nbformat_minor": 0,
  "metadata": {
    "colab": {
      "name": "CGAN_MNIST",
      "provenance": [],
      "authorship_tag": "ABX9TyN0bDrcLnuw7hIZTCWWdIVT"
    },
    "kernelspec": {
      "name": "python3",
      "display_name": "Python 3"
    },
    "accelerator": "GPU"
  },
  "cells": [
    {
      "cell_type": "code",
      "metadata": {
        "id": "mw6V7fkTIQwz",
        "colab_type": "code",
        "colab": {}
      },
      "source": [
        "import numpy as np\n",
        "import torch\n",
        "from torch import nn\n",
        "import torch.nn.functional as F\n",
        "from time import time\n",
        "import matplotlib.pyplot as plt\n",
        "from sklearn.datasets import fetch_openml\n",
        "from sklearn.model_selection import train_test_split"
      ],
      "execution_count": 1,
      "outputs": []
    },
    {
      "cell_type": "code",
      "metadata": {
        "id": "wReO8zkY4Edz",
        "colab_type": "code",
        "colab": {}
      },
      "source": [
        "class ImageConv(nn.Sequential):\n",
        "    def __init__(self):\n",
        "        super().__init__(                                                                       # B 1   28  28\n",
        "            nn.BatchNorm2d(num_features=1),\n",
        "            nn.Conv2d(in_channels=1, out_channels=64, kernel_size=3, stride=1, padding=3),      # B 64  32  32  \n",
        "            nn.LeakyReLU(0.2, inplace=True),\n",
        "            nn.Conv2d(in_channels=64, out_channels=64, kernel_size=3, stride=1, padding=1),     # B 64  32  32\n",
        "            nn.LeakyReLU(0.2, inplace=True),\n",
        "            nn.MaxPool2d(kernel_size=2, stride=2, padding=0),                                   # B 64  16  16\n",
        "            nn.Dropout2d(0.2, inplace=True),\n",
        "            nn.BatchNorm2d(num_features=64),\n",
        "            nn.Conv2d(in_channels=64, out_channels=128, kernel_size=3, stride=1, padding=1),    # B 128 16  16\n",
        "            nn.LeakyReLU(0.2, inplace=True),\n",
        "            nn.Conv2d(in_channels=128, out_channels=128, kernel_size=3, stride=1, padding=1),   # B 128 16  16\n",
        "            nn.LeakyReLU(0.2, inplace=True),\n",
        "            nn.MaxPool2d(kernel_size=2, stride=2, padding=0),                                   # B 128 8   8\n",
        "            nn.Dropout2d(0.2, inplace=True),\n",
        "            nn.BatchNorm2d(num_features=128),\n",
        "            nn.Conv2d(in_channels=128, out_channels=256, kernel_size=3, stride=1, padding=1),   # B 256 8   8\n",
        "            nn.LeakyReLU(0.2, inplace=True),\n",
        "            nn.Conv2d(in_channels=256, out_channels=256, kernel_size=3, stride=1, padding=1),   # B 256 8   8\n",
        "            nn.LeakyReLU(0.2, inplace=True),\n",
        "            nn.MaxPool2d(kernel_size=2, stride=2, padding=0),                                   # B 256 4   4\n",
        "            nn.Dropout2d(0.2, inplace=True),\n",
        "            nn.BatchNorm2d(num_features=256),\n",
        "            nn.Conv2d(in_channels=256, out_channels=512, kernel_size=3, stride=1, padding=1),   # B 512 4   4\n",
        "            nn.LeakyReLU(0.2, inplace=True),\n",
        "            nn.Conv2d(in_channels=512, out_channels=512, kernel_size=3, stride=1, padding=1),   # B 512 4   4\n",
        "            nn.LeakyReLU(0.2, inplace=True),\n",
        "            nn.MaxPool2d(kernel_size=2, stride=2, padding=0),                                   # B 512 2   2\n",
        "            nn.Dropout2d(0.2, inplace=True)\n",
        "        )"
      ],
      "execution_count": 5,
      "outputs": []
    },
    {
      "cell_type": "code",
      "metadata": {
        "id": "mmBH7gnTLODP",
        "colab_type": "code",
        "colab": {}
      },
      "source": [
        "class MNISTClassifier(nn.Module):\n",
        "    def __init__(self):\n",
        "        super().__init__()\n",
        "        \n",
        "        self.conv = ImageConv()\n",
        "\n",
        "        self.decider = nn.Sequential(            # B 2048\n",
        "            nn.Linear(2048, 512),\n",
        "            nn.Dropout(0.5, inplace=True),\n",
        "            nn.ReLU(inplace=True),\n",
        "            nn.Linear(512, 10),\n",
        "            nn.LogSoftmax(dim=-1)\n",
        "        )\n",
        "    \n",
        "    def forward(self, b_x):\n",
        "        # b_x   B   28  28\n",
        "        b_x = b_x.unsqueeze(1)                  # B 1   28  28\n",
        "        out = self.conv(b_x)                    # B 512 2   2\n",
        "        out = out.flatten(1)                    # B 2048\n",
        "        out = self.decider(out)                 # B 10\n",
        "        return out"
      ],
      "execution_count": 37,
      "outputs": []
    },
    {
      "cell_type": "code",
      "metadata": {
        "id": "t6-gcbAoMxJh",
        "colab_type": "code",
        "colab": {}
      },
      "source": [
        "class Discriminator(nn.Module):\n",
        "    def __init__(self, conv:nn.Module):\n",
        "        super().__init__()\n",
        "\n",
        "        self.conv = conv\n",
        "\n",
        "        self.fc = nn.Sequential(\n",
        "            nn.Linear(2048, 512),                                                                   # B 512\n",
        "            nn.LeakyReLU(0.2, inplace=True),\n",
        "            nn.Dropout(0.5, inplace=True),\n",
        "            nn.Linear(512, 256),                                                                    # B 256\n",
        "            nn.LeakyReLU(0.2, inplace=True),\n",
        "            nn.Dropout(0.5, inplace=True),\n",
        "            nn.Linear(256, 1),                                                                      # B 1\n",
        "            nn.Sigmoid()\n",
        "        )\n",
        "    \n",
        "    def forward(self, left, right):\n",
        "        # left      B   28  14\n",
        "        # right     B   28  14\n",
        "\n",
        "        out = torch.cat((left, right), dim=2)   # B 28  28\n",
        "        out = out.unsqueeze(1)                  # B 1   28  28\n",
        "        \n",
        "        with torch.no_grad():\n",
        "            out = self.conv(out)                # B 512 2   2\n",
        "        \n",
        "        out = out.flatten(1)                    # B 2048\n",
        "        out = self.fc(out)                      # B 1\n",
        "        out = out.squeeze()                     # B\n",
        "        return out\n"
      ],
      "execution_count": 7,
      "outputs": []
    },
    {
      "cell_type": "code",
      "metadata": {
        "id": "7nAFrNZVXegc",
        "colab_type": "code",
        "colab": {}
      },
      "source": [
        "class Generator(nn.Module):\n",
        "    def __init__(self, conv:nn.Module):\n",
        "        super().__init__()\n",
        "\n",
        "        self.conv = conv\n",
        "\n",
        "        self.noise_fc = nn.Sequential(                                                              # B 100\n",
        "            nn.Linear(100, 1024),                                                                   # B 1024\n",
        "            nn.LeakyReLU(0.2, inplace=True)\n",
        "        )\n",
        "\n",
        "        self.dc = nn.Sequential(                                                                                        # B 1024    2   1\n",
        "            nn.BatchNorm2d(num_features=1024),\n",
        "            nn.ConvTranspose2d(in_channels=1024, out_channels=512, kernel_size=4, stride=2, padding=1, bias=False),     # B 512     4   2\n",
        "            nn.LeakyReLU(0.2, inplace=True),\n",
        "            nn.Conv2d(in_channels=512, out_channels=512, kernel_size=3, stride=1, padding=1),                           # B 512     4   2\n",
        "            nn.LeakyReLU(0.2, inplace=True),\n",
        "            nn.BatchNorm2d(num_features=512),\n",
        "            nn.ConvTranspose2d(in_channels=512, out_channels=256, kernel_size=4, stride=2, padding=1, bias=False),      # B 256     8   4\n",
        "            nn.LeakyReLU(0.2, inplace=True),\n",
        "            nn.Conv2d(in_channels=256, out_channels=256, kernel_size=3, stride=1, padding=1),                           # B 256     8   4\n",
        "            nn.LeakyReLU(0.2, inplace=True),\n",
        "            nn.BatchNorm2d(num_features=256),\n",
        "            nn.ConvTranspose2d(in_channels=256, out_channels=128, kernel_size=4, stride=2, padding=1, bias=False),      # B 128     16  8\n",
        "            nn.LeakyReLU(0.2, inplace=True),\n",
        "            nn.Conv2d(in_channels=128, out_channels=128, kernel_size=3, stride=1, padding=1),                           # B 128     16  8\n",
        "            nn.LeakyReLU(0.2, inplace=True),\n",
        "            nn.BatchNorm2d(num_features=128),\n",
        "            nn.ConvTranspose2d(in_channels=128, out_channels=64, kernel_size=4, stride=2, padding=1, bias=False),       # B 64      32  16\n",
        "            nn.LeakyReLU(0.2, inplace=True),\n",
        "            nn.Conv2d(in_channels=64, out_channels=64, kernel_size=3, stride=1, padding=0),                             # B 64      30  14\n",
        "            nn.LeakyReLU(0.2, inplace=True),\n",
        "            nn.BatchNorm2d(num_features=64),\n",
        "            nn.Conv2d(in_channels=64, out_channels=1, kernel_size=3, stride=1, padding=(0, 1)),                         # B 1       28  14\n",
        "            nn.ReLU(inplace=True),\n",
        "        )\n",
        "\n",
        "    def forward(self, z, left):\n",
        "        # z     B   100\n",
        "        # left  B   28  14\n",
        "\n",
        "        left = left.unsqueeze(1)                                                            # B 1   28  14\n",
        "\n",
        "        with torch.no_grad():\n",
        "            condition_features = self.conv(left)                                            # B 512 2   1\n",
        "        condition_features = condition_features.flatten(1).unsqueeze(2)                     # B 1024    1\n",
        "\n",
        "        noise_features = self.noise_fc(z).unsqueeze(2)                                      # B 1024    1\n",
        "\n",
        "        dc_input = torch.cat((condition_features, noise_features), dim=2).unsqueeze(3)      # B 1024    2   1\n",
        "        constructed = self.dc(dc_input)                                                     # B 1   28  14\n",
        "        constructed = constructed.squeeze(1)                                                # B 28  14\n",
        "\n",
        "        return constructed"
      ],
      "execution_count": 8,
      "outputs": []
    },
    {
      "cell_type": "code",
      "metadata": {
        "id": "06hQKubMIOaR",
        "colab_type": "code",
        "colab": {}
      },
      "source": [
        "def get_batches(X, y, batch_size, shuffle=True):\n",
        "    assert X.shape[0] == y.shape[0]\n",
        "\n",
        "    num_batches = int(np.ceil(X.shape[0] * 1.0 / batch_size))\n",
        "\n",
        "    if shuffle:\n",
        "        indices = np.random.permutation(X.shape[0])\n",
        "        X = X[indices]\n",
        "        y = y[indices]\n",
        "\n",
        "    for batch in range(num_batches):\n",
        "        start = batch * batch_size\n",
        "        end = min((batch + 1) * batch_size, X.shape[0])\n",
        "        yield batch, X[start:end], y[start:end]"
      ],
      "execution_count": 62,
      "outputs": []
    },
    {
      "cell_type": "code",
      "metadata": {
        "id": "hjQ5VZB8H3Uw",
        "colab_type": "code",
        "colab": {}
      },
      "source": [
        "def train_classifier(model, optimizer, X, y, batch_size):\n",
        "    epoch_loss = 0\n",
        "    epoch_accuracy = 0\n",
        "    iter = 0\n",
        "\n",
        "    model.train()\n",
        "    for iter, b_X, b_y in get_batches(X, y, batch_size):\n",
        "        prediction = model(torch.tensor(b_X, device='cuda').cuda())\n",
        "\n",
        "        loss = -1 * torch.mean(prediction[torch.arange(b_X.shape[0]), b_y])\n",
        "        decision = prediction.argmax(dim=1)\n",
        "\n",
        "        epoch_loss += float(loss)\n",
        "        epoch_accuracy += (decision.cpu().numpy() == b_y).sum()\n",
        "\n",
        "        loss.backward()\n",
        "\n",
        "        optimizer.step()\n",
        "        optimizer.zero_grad()\n",
        "    \n",
        "    epoch_loss /= (iter + 1)\n",
        "    epoch_accuracy *= 100.0 / X.shape[0]\n",
        "\n",
        "    return epoch_loss, epoch_accuracy"
      ],
      "execution_count": 46,
      "outputs": []
    },
    {
      "cell_type": "code",
      "metadata": {
        "id": "VLFOVEwBWKGC",
        "colab_type": "code",
        "colab": {}
      },
      "source": [
        "def evaluate_classifier(model, X, y, batch_size):\n",
        "    epoch_loss = 0\n",
        "    epoch_accuracy = 0\n",
        "    iter = 0\n",
        "\n",
        "    with torch.no_grad():\n",
        "        model.eval()\n",
        "        for iter, b_X, b_y in get_batches(X, y, batch_size, shuffle=False):\n",
        "            prediction = model(torch.tensor(b_X).cuda())\n",
        "\n",
        "            loss = -1 * torch.mean(prediction[torch.arange(b_X.shape[0]), b_y])\n",
        "            decision = prediction.argmax(dim=1)\n",
        "\n",
        "            epoch_loss += float(loss)\n",
        "            epoch_accuracy += (decision.cpu().numpy() == b_y).sum()\n",
        "        \n",
        "    epoch_loss /= (iter + 1)\n",
        "    epoch_accuracy *= 100.0 / X.shape[0]\n",
        "\n",
        "    return epoch_loss, epoch_accuracy"
      ],
      "execution_count": 63,
      "outputs": []
    },
    {
      "cell_type": "code",
      "metadata": {
        "id": "_QXxqX9WK7pk",
        "colab_type": "code",
        "colab": {}
      },
      "source": [
        "X, y = fetch_openml(name='mnist_784', return_X_y=True)"
      ],
      "execution_count": 2,
      "outputs": []
    },
    {
      "cell_type": "code",
      "metadata": {
        "id": "T1PbrCfXWPj_",
        "colab_type": "code",
        "colab": {}
      },
      "source": [
        "y = y.astype('int32')"
      ],
      "execution_count": 42,
      "outputs": []
    },
    {
      "cell_type": "code",
      "metadata": {
        "id": "NO8F2tomL1-2",
        "colab_type": "code",
        "colab": {
          "base_uri": "https://localhost:8080/",
          "height": 35
        },
        "outputId": "362af663-22cc-4d19-e35c-4bde1c6e56c5"
      },
      "source": [
        "X = X.reshape((X.shape[0], 28, 28)).astype('float32')\n",
        "X.shape"
      ],
      "execution_count": 43,
      "outputs": [
        {
          "output_type": "execute_result",
          "data": {
            "text/plain": [
              "(70000, 28, 28)"
            ]
          },
          "metadata": {
            "tags": []
          },
          "execution_count": 43
        }
      ]
    },
    {
      "cell_type": "code",
      "metadata": {
        "id": "4Nrr-9WGL40B",
        "colab_type": "code",
        "colab": {
          "base_uri": "https://localhost:8080/",
          "height": 52
        },
        "outputId": "5ecbb601-d593-4bd2-9212-82480ef6c9ec"
      },
      "source": [
        "X_train, X_test, y_train, y_test = train_test_split(X, y, test_size=0.2)\n",
        "X_train, X_val, y_train, y_val = train_test_split(X_train, y_train, test_size=0.1)\n",
        "(X_train.shape, X_test.shape, X_val.shape), (y_train.shape, y_test.shape, y_val.shape)"
      ],
      "execution_count": 44,
      "outputs": [
        {
          "output_type": "execute_result",
          "data": {
            "text/plain": [
              "(((50400, 28, 28), (14000, 28, 28), (5600, 28, 28)),\n",
              " ((50400,), (14000,), (5600,)))"
            ]
          },
          "metadata": {
            "tags": []
          },
          "execution_count": 44
        }
      ]
    },
    {
      "cell_type": "markdown",
      "metadata": {
        "id": "UQa1QBkIe8Gp",
        "colab_type": "text"
      },
      "source": [
        "## Pretrain Convolutional layer with a classifier"
      ]
    },
    {
      "cell_type": "code",
      "metadata": {
        "id": "UvbCFqSKWQBD",
        "colab_type": "code",
        "colab": {}
      },
      "source": [
        "classifier = MNISTClassifier().cuda()\n",
        "optimizer = torch.optim.Adam(classifier.parameters(), lr=1e-4)"
      ],
      "execution_count": 64,
      "outputs": []
    },
    {
      "cell_type": "code",
      "metadata": {
        "id": "8LVn4jrsh6zb",
        "colab_type": "code",
        "colab": {
          "base_uri": "https://localhost:8080/",
          "height": 721
        },
        "outputId": "0fe0f646-ccf3-4f07-c0f4-5dd757d04355"
      },
      "source": [
        "batch_size = 256\n",
        "epochs = 40\n",
        "\n",
        "train_loss = []\n",
        "train_accuracy = []\n",
        "val_loss = []\n",
        "val_accuracy = []\n",
        "\n",
        "best_val_acc = 0\n",
        "\n",
        "for e in range(epochs):\n",
        "\n",
        "    start_time = time()\n",
        "\n",
        "    epoch_train_loss, epoch_train_accuracy = train_classifier(classifier, optimizer, X_train, y_train, batch_size)\n",
        "    epoch_val_loss, epoch_val_accuracy = evaluate_classifier(classifier, X_val, y_val, batch_size)\n",
        "\n",
        "    end_time = time()\n",
        "\n",
        "    if epoch_val_accuracy > best_val_acc:\n",
        "        best_val_acc = epoch_val_accuracy\n",
        "        torch.save(classifier.conv.state_dict(), 'mnist-conv-model.pt')\n",
        "    \n",
        "    print(f'Epoch {e+1:3} finished in {end_time - start_time:.2f}s - Train loss: {epoch_train_loss:.2e} - Train accuracy: {epoch_train_accuracy:.2f} - Val loss: {epoch_val_loss:.2e} - Val accuracy: {epoch_val_accuracy:.2f}')\n",
        "\n",
        "    train_loss.append(epoch_train_loss)\n",
        "    train_accuracy.append(epoch_train_accuracy)\n",
        "    val_loss.append(epoch_val_loss)\n",
        "    val_accuracy.append(epoch_val_accuracy)   "
      ],
      "execution_count": 65,
      "outputs": [
        {
          "output_type": "stream",
          "text": [
            "Epoch   1 finished in 20.94s - Train loss: 4.18e-01 - Train accuracy: 86.70 - Val loss: 5.59e-02 - Val accuracy: 98.25\n",
            "Epoch   2 finished in 21.49s - Train loss: 5.56e-02 - Train accuracy: 98.34 - Val loss: 3.59e-02 - Val accuracy: 98.84\n",
            "Epoch   3 finished in 20.57s - Train loss: 3.87e-02 - Train accuracy: 98.84 - Val loss: 2.89e-02 - Val accuracy: 99.09\n",
            "Epoch   4 finished in 20.31s - Train loss: 3.00e-02 - Train accuracy: 99.07 - Val loss: 2.49e-02 - Val accuracy: 99.21\n",
            "Epoch   5 finished in 20.58s - Train loss: 2.39e-02 - Train accuracy: 99.26 - Val loss: 2.72e-02 - Val accuracy: 99.20\n",
            "Epoch   6 finished in 20.83s - Train loss: 1.95e-02 - Train accuracy: 99.37 - Val loss: 2.60e-02 - Val accuracy: 99.20\n",
            "Epoch   7 finished in 20.63s - Train loss: 1.62e-02 - Train accuracy: 99.51 - Val loss: 2.53e-02 - Val accuracy: 99.36\n",
            "Epoch   8 finished in 20.55s - Train loss: 1.48e-02 - Train accuracy: 99.54 - Val loss: 2.59e-02 - Val accuracy: 99.38\n",
            "Epoch   9 finished in 20.54s - Train loss: 1.29e-02 - Train accuracy: 99.59 - Val loss: 2.87e-02 - Val accuracy: 99.25\n",
            "Epoch  10 finished in 20.60s - Train loss: 1.19e-02 - Train accuracy: 99.64 - Val loss: 2.01e-02 - Val accuracy: 99.45\n",
            "Epoch  11 finished in 20.61s - Train loss: 1.00e-02 - Train accuracy: 99.69 - Val loss: 3.03e-02 - Val accuracy: 99.21\n",
            "Epoch  12 finished in 20.54s - Train loss: 1.00e-02 - Train accuracy: 99.69 - Val loss: 2.54e-02 - Val accuracy: 99.41\n",
            "Epoch  13 finished in 20.57s - Train loss: 8.64e-03 - Train accuracy: 99.71 - Val loss: 2.73e-02 - Val accuracy: 99.38\n",
            "Epoch  14 finished in 20.58s - Train loss: 6.50e-03 - Train accuracy: 99.80 - Val loss: 2.91e-02 - Val accuracy: 99.36\n",
            "Epoch  15 finished in 20.55s - Train loss: 8.67e-03 - Train accuracy: 99.72 - Val loss: 2.61e-02 - Val accuracy: 99.46\n",
            "Epoch  16 finished in 20.55s - Train loss: 7.98e-03 - Train accuracy: 99.74 - Val loss: 2.78e-02 - Val accuracy: 99.25\n",
            "Epoch  17 finished in 20.57s - Train loss: 5.75e-03 - Train accuracy: 99.83 - Val loss: 2.75e-02 - Val accuracy: 99.21\n",
            "Epoch  18 finished in 20.56s - Train loss: 6.73e-03 - Train accuracy: 99.78 - Val loss: 2.58e-02 - Val accuracy: 99.41\n",
            "Epoch  19 finished in 20.57s - Train loss: 6.96e-03 - Train accuracy: 99.77 - Val loss: 2.91e-02 - Val accuracy: 99.38\n",
            "Epoch  20 finished in 20.57s - Train loss: 4.91e-03 - Train accuracy: 99.85 - Val loss: 2.93e-02 - Val accuracy: 99.30\n",
            "Epoch  21 finished in 20.58s - Train loss: 6.17e-03 - Train accuracy: 99.83 - Val loss: 3.44e-02 - Val accuracy: 99.34\n",
            "Epoch  22 finished in 20.58s - Train loss: 6.12e-03 - Train accuracy: 99.81 - Val loss: 2.77e-02 - Val accuracy: 99.29\n",
            "Epoch  23 finished in 20.56s - Train loss: 3.64e-03 - Train accuracy: 99.88 - Val loss: 3.01e-02 - Val accuracy: 99.38\n",
            "Epoch  24 finished in 20.55s - Train loss: 5.13e-03 - Train accuracy: 99.83 - Val loss: 3.74e-02 - Val accuracy: 99.25\n",
            "Epoch  25 finished in 20.57s - Train loss: 5.46e-03 - Train accuracy: 99.83 - Val loss: 5.20e-02 - Val accuracy: 98.98\n",
            "Epoch  26 finished in 20.62s - Train loss: 6.32e-03 - Train accuracy: 99.81 - Val loss: 3.29e-02 - Val accuracy: 99.36\n",
            "Epoch  27 finished in 20.60s - Train loss: 4.98e-03 - Train accuracy: 99.85 - Val loss: 3.20e-02 - Val accuracy: 99.34\n",
            "Epoch  28 finished in 20.59s - Train loss: 3.30e-03 - Train accuracy: 99.91 - Val loss: 3.28e-02 - Val accuracy: 99.41\n",
            "Epoch  29 finished in 20.58s - Train loss: 4.26e-03 - Train accuracy: 99.87 - Val loss: 3.27e-02 - Val accuracy: 99.43\n",
            "Epoch  30 finished in 20.53s - Train loss: 5.11e-03 - Train accuracy: 99.84 - Val loss: 3.83e-02 - Val accuracy: 99.34\n",
            "Epoch  31 finished in 20.49s - Train loss: 2.81e-03 - Train accuracy: 99.91 - Val loss: 3.15e-02 - Val accuracy: 99.43\n",
            "Epoch  32 finished in 20.28s - Train loss: 3.51e-03 - Train accuracy: 99.88 - Val loss: 3.59e-02 - Val accuracy: 99.32\n",
            "Epoch  33 finished in 20.18s - Train loss: 4.04e-03 - Train accuracy: 99.86 - Val loss: 4.91e-02 - Val accuracy: 99.20\n",
            "Epoch  34 finished in 20.05s - Train loss: 3.97e-03 - Train accuracy: 99.89 - Val loss: 3.88e-02 - Val accuracy: 99.32\n",
            "Epoch  35 finished in 20.01s - Train loss: 3.64e-03 - Train accuracy: 99.88 - Val loss: 3.65e-02 - Val accuracy: 99.32\n",
            "Epoch  36 finished in 19.93s - Train loss: 3.85e-03 - Train accuracy: 99.89 - Val loss: 4.30e-02 - Val accuracy: 99.21\n",
            "Epoch  37 finished in 19.90s - Train loss: 5.99e-03 - Train accuracy: 99.85 - Val loss: 5.02e-02 - Val accuracy: 99.16\n",
            "Epoch  38 finished in 19.89s - Train loss: 4.20e-03 - Train accuracy: 99.87 - Val loss: 3.65e-02 - Val accuracy: 99.36\n",
            "Epoch  39 finished in 19.90s - Train loss: 3.32e-03 - Train accuracy: 99.89 - Val loss: 4.18e-02 - Val accuracy: 99.25\n",
            "Epoch  40 finished in 19.89s - Train loss: 3.59e-03 - Train accuracy: 99.91 - Val loss: 3.31e-02 - Val accuracy: 99.39\n"
          ],
          "name": "stdout"
        }
      ]
    },
    {
      "cell_type": "code",
      "metadata": {
        "id": "7QYuyD3bXzlz",
        "colab_type": "code",
        "colab": {
          "base_uri": "https://localhost:8080/",
          "height": 475
        },
        "outputId": "ce43c6cc-f65b-4b15-94b6-7517c8d52b3b"
      },
      "source": [
        "fig = plt.figure(figsize=(15, 7))\n",
        "\n",
        "# loss\n",
        "ax = fig.add_subplot(121)\n",
        "ax.set_title('Loss / Epoch')\n",
        "ax.set_ylabel('Loss')\n",
        "ax.set_xlabel('Epoch')\n",
        "ax.set_aspect('auto')\n",
        "\n",
        "plt.plot(train_loss, label='Train', color='green', linewidth=3)\n",
        "plt.plot(val_loss, label='Validation', color='red', linewidth=3)\n",
        "\n",
        "\n",
        "plt.legend()\n",
        "\n",
        "# acc\n",
        "ax = fig.add_subplot(122)\n",
        "ax.set_title('Accuracy / Epoch')\n",
        "ax.set_ylabel('Accuracy')\n",
        "ax.set_xlabel('Epoch')\n",
        "ax.set_aspect('auto')\n",
        "\n",
        "plt.plot(train_accuracy, label='Train', color='green', linewidth=3)\n",
        "plt.plot(val_accuracy, label='Validation', color='red', linewidth=3)\n",
        "\n",
        "\n",
        "plt.legend()"
      ],
      "execution_count": 66,
      "outputs": [
        {
          "output_type": "execute_result",
          "data": {
            "text/plain": [
              "<matplotlib.legend.Legend at 0x7fd0bc0a4438>"
            ]
          },
          "metadata": {
            "tags": []
          },
          "execution_count": 66
        },
        {
          "output_type": "display_data",
          "data": {
            "image/png": "[encoded data removed]",
            "text/plain": [
              "<Figure size 1080x504 with 2 Axes>"
            ]
          },
          "metadata": {
            "tags": [],
            "needs_background": "light"
          }
        }
      ]
    },
    {
      "cell_type": "code",
      "metadata": {
        "id": "X608K4iAaQQ9",
        "colab_type": "code",
        "colab": {
          "base_uri": "https://localhost:8080/",
          "height": 35
        },
        "outputId": "6c00b0a8-34b6-415b-85a2-35a25a14e008"
      },
      "source": [
        "test_loss, test_accuracy = evaluate_classifier(classifier, X_test, y_test, batch_size)\n",
        "print(f'Test loss: {test_loss:.4f} - Accuracy: {test_accuracy:.2f}')"
      ],
      "execution_count": 67,
      "outputs": [
        {
          "output_type": "stream",
          "text": [
            "Test loss: 0.0343 - Accuracy: 99.42\n"
          ],
          "name": "stdout"
        }
      ]
    }
  ]
}